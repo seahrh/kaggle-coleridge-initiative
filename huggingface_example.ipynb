{
 "cells": [
  {
   "cell_type": "code",
   "execution_count": 65,
   "id": "6a07334f",
   "metadata": {},
   "outputs": [],
   "source": [
    "import json\n",
    "import numpy as np\n",
    "import pandas as pd\n",
    "from transformers import AutoTokenizer, AutoModelForQuestionAnswering\n",
    "import torch\n",
    "import spacy\n",
    "import mylib"
   ]
  },
  {
   "cell_type": "code",
   "execution_count": 66,
   "id": "dd75be8d",
   "metadata": {},
   "outputs": [],
   "source": [
    "pd.set_option(\"use_inf_as_na\", True)\n",
    "pd.set_option(\"max_info_columns\", 9999)\n",
    "pd.set_option(\"display.max_columns\", 9999)\n",
    "pd.set_option(\"display.max_rows\", 9999)\n",
    "pd.set_option('max_colwidth', 9999)"
   ]
  },
  {
   "cell_type": "code",
   "execution_count": 67,
   "id": "8b4b38fe",
   "metadata": {},
   "outputs": [
    {
     "data": {
      "text/plain": [
       "PosixPath('pretrained/spacy/en_core_web_lg/en_core_web_lg-2.3.1')"
      ]
     },
     "execution_count": 67,
     "metadata": {},
     "output_type": "execute_result"
    }
   ],
   "source": [
    "nlp = spacy.load(\"pretrained/spacy/en_core_web_lg/en_core_web_lg-2.3.1\")\n",
    "#nlp.add_pipe(nlp.create_pipe('sentencizer'))\n",
    "nlp.path"
   ]
  },
  {
   "cell_type": "markdown",
   "id": "4546e7d9",
   "metadata": {},
   "source": [
    "# Original example\n",
    "\n",
    "The original example from official docs (needed minor modification to work):\n",
    "- https://huggingface.co/transformers/usage.html#extractive-question-answering\n",
    "- https://github.com/huggingface/transformers/issues/220\n",
    "- https://stackoverflow.com/questions/64901831/huggingface-transformer-model-returns-string-instead-of-logits"
   ]
  },
  {
   "cell_type": "code",
   "execution_count": 68,
   "id": "a5fd9153",
   "metadata": {},
   "outputs": [
    {
     "name": "stderr",
     "output_type": "stream",
     "text": [
      "All TF 2.0 model weights were used when initializing BertForQuestionAnswering.\n",
      "\n",
      "Some weights of BertForQuestionAnswering were not initialized from the TF 2.0 model and are newly initialized: ['bert.embeddings.position_ids']\n",
      "You should probably TRAIN this model on a down-stream task to be able to use it for predictions and inference.\n"
     ]
    },
    {
     "name": "stdout",
     "output_type": "stream",
     "text": [
      "BertConfig {\n",
      "  \"_name_or_path\": \"pretrained/bert-large-uncased-whole-word-masking-finetuned-squad\",\n",
      "  \"architectures\": [\n",
      "    \"BertForQuestionAnswering\"\n",
      "  ],\n",
      "  \"attention_probs_dropout_prob\": 0.1,\n",
      "  \"gradient_checkpointing\": false,\n",
      "  \"hidden_act\": \"gelu\",\n",
      "  \"hidden_dropout_prob\": 0.1,\n",
      "  \"hidden_size\": 1024,\n",
      "  \"initializer_range\": 0.02,\n",
      "  \"intermediate_size\": 4096,\n",
      "  \"layer_norm_eps\": 1e-12,\n",
      "  \"max_position_embeddings\": 512,\n",
      "  \"model_type\": \"bert\",\n",
      "  \"num_attention_heads\": 16,\n",
      "  \"num_hidden_layers\": 24,\n",
      "  \"pad_token_id\": 0,\n",
      "  \"position_embedding_type\": \"absolute\",\n",
      "  \"transformers_version\": \"4.5.1\",\n",
      "  \"type_vocab_size\": 2,\n",
      "  \"use_cache\": true,\n",
      "  \"vocab_size\": 30522\n",
      "}\n",
      "\n",
      "CPU times: user 15.3 s, sys: 7.45 s, total: 22.7 s\n",
      "Wall time: 14.4 s\n"
     ]
    }
   ],
   "source": [
    "%%time\n",
    "tokenizer = AutoTokenizer.from_pretrained(\"pretrained/bert-large-uncased-whole-word-masking-finetuned-squad\")\n",
    "model = AutoModelForQuestionAnswering.from_pretrained(\n",
    "    \"pretrained/bert-large-uncased-whole-word-masking-finetuned-squad\",\n",
    "    from_tf=True,\n",
    ")\n",
    "print(repr(model.config))"
   ]
  },
  {
   "cell_type": "code",
   "execution_count": 69,
   "id": "fe65982e",
   "metadata": {},
   "outputs": [
    {
     "name": "stdout",
     "output_type": "stream",
     "text": [
      "Question: How many pretrained models are available in Transformers?\n",
      "Answer: over 32 +\n",
      "\n",
      "Question: What does Transformers provide?\n",
      "Answer: general - purpose architectures\n",
      "\n",
      "Question: Transformers provides interoperability between which frameworks?\n",
      "Answer: tensorflow 2. 0 and pytorch\n",
      "\n"
     ]
    }
   ],
   "source": [
    "text = r\"\"\"\n",
    "🤗 Transformers (formerly known as pytorch-transformers and pytorch-pretrained-bert) provides general-purpose\n",
    "architectures (BERT, GPT-2, RoBERTa, XLM, DistilBert, XLNet…) for Natural Language Understanding (NLU) and Natural\n",
    "Language Generation (NLG) with over 32+ pretrained models in 100+ languages and deep interoperability between\n",
    "TensorFlow 2.0 and PyTorch.\n",
    "\"\"\"\n",
    "\n",
    "questions = [\n",
    "    \"How many pretrained models are available in Transformers?\",\n",
    "    \"What does Transformers provide?\",\n",
    "    \"Transformers provides interoperability between which frameworks?\",\n",
    "]\n",
    "\n",
    "for question in questions:\n",
    "    inputs = tokenizer.encode_plus(question, text, add_special_tokens=True, return_tensors=\"pt\")\n",
    "    input_ids = inputs[\"input_ids\"].tolist()[0]\n",
    "\n",
    "    text_tokens = tokenizer.convert_ids_to_tokens(input_ids)\n",
    "    answer_start_scores, answer_end_scores = model(**inputs).values()\n",
    "\n",
    "    answer_start = torch.argmax(\n",
    "        answer_start_scores\n",
    "    )  # Get the most likely beginning of answer with the argmax of the score\n",
    "    answer_end = torch.argmax(answer_end_scores) + 1  # Get the most likely end of answer with the argmax of the score\n",
    "\n",
    "    answer = tokenizer.convert_tokens_to_string(tokenizer.convert_ids_to_tokens(input_ids[answer_start:answer_end]))\n",
    "\n",
    "    print(f\"Question: {question}\")\n",
    "    print(f\"Answer: {answer}\\n\")"
   ]
  },
  {
   "cell_type": "code",
   "execution_count": 70,
   "id": "f467a2bf",
   "metadata": {},
   "outputs": [
    {
     "name": "stdout",
     "output_type": "stream",
     "text": [
      "<class 'pandas.core.frame.DataFrame'>\n",
      "RangeIndex: 19661 entries, 0 to 19660\n",
      "Data columns (total 5 columns):\n",
      " #   Column         Non-Null Count  Dtype \n",
      "---  ------         --------------  ----- \n",
      " 0   Id             19661 non-null  object\n",
      " 1   pub_title      19661 non-null  object\n",
      " 2   dataset_title  19661 non-null  object\n",
      " 3   dataset_label  19661 non-null  object\n",
      " 4   cleaned_label  19661 non-null  object\n",
      "dtypes: object(5)\n",
      "memory usage: 768.1+ KB\n"
     ]
    }
   ],
   "source": [
    "train = pd.read_csv(\"input/train.csv\", engine=\"c\", low_memory=False)\n",
    "train.info()"
   ]
  },
  {
   "cell_type": "code",
   "execution_count": 71,
   "id": "1579f992",
   "metadata": {},
   "outputs": [
    {
     "data": {
      "text/html": [
       "<div>\n",
       "<style scoped>\n",
       "    .dataframe tbody tr th:only-of-type {\n",
       "        vertical-align: middle;\n",
       "    }\n",
       "\n",
       "    .dataframe tbody tr th {\n",
       "        vertical-align: top;\n",
       "    }\n",
       "\n",
       "    .dataframe thead th {\n",
       "        text-align: right;\n",
       "    }\n",
       "</style>\n",
       "<table border=\"1\" class=\"dataframe\">\n",
       "  <thead>\n",
       "    <tr style=\"text-align: right;\">\n",
       "      <th></th>\n",
       "      <th>Id</th>\n",
       "      <th>pub_title</th>\n",
       "      <th>dataset_title</th>\n",
       "      <th>dataset_label</th>\n",
       "      <th>cleaned_label</th>\n",
       "    </tr>\n",
       "  </thead>\n",
       "  <tbody>\n",
       "    <tr>\n",
       "      <th>0</th>\n",
       "      <td>d0fa7568-7d8e-4db9-870f-f9c6f668c17b</td>\n",
       "      <td>The Impact of Dual Enrollment on College Degree Attainment: Do Low-SES Students Benefit?</td>\n",
       "      <td>National Education Longitudinal Study</td>\n",
       "      <td>National Education Longitudinal Study</td>\n",
       "      <td>national education longitudinal study</td>\n",
       "    </tr>\n",
       "    <tr>\n",
       "      <th>1</th>\n",
       "      <td>2f26f645-3dec-485d-b68d-f013c9e05e60</td>\n",
       "      <td>Educational Attainment of High School Dropouts 8 Years Later. Issue Brief. NCES 2005-026.</td>\n",
       "      <td>National Education Longitudinal Study</td>\n",
       "      <td>National Education Longitudinal Study</td>\n",
       "      <td>national education longitudinal study</td>\n",
       "    </tr>\n",
       "    <tr>\n",
       "      <th>2</th>\n",
       "      <td>c5d5cd2c-59de-4f29-bbb1-6a88c7b52f29</td>\n",
       "      <td>Differences in Outcomes for Female and Male Students in Special Education</td>\n",
       "      <td>National Education Longitudinal Study</td>\n",
       "      <td>National Education Longitudinal Study</td>\n",
       "      <td>national education longitudinal study</td>\n",
       "    </tr>\n",
       "    <tr>\n",
       "      <th>3</th>\n",
       "      <td>5c9a3bc9-41ba-4574-ad71-e25c1442c8af</td>\n",
       "      <td>Stepping Stone and Option Value in a Model of Postsecondary Education</td>\n",
       "      <td>National Education Longitudinal Study</td>\n",
       "      <td>National Education Longitudinal Study</td>\n",
       "      <td>national education longitudinal study</td>\n",
       "    </tr>\n",
       "    <tr>\n",
       "      <th>4</th>\n",
       "      <td>c754dec7-c5a3-4337-9892-c02158475064</td>\n",
       "      <td>Parental Effort, School Resources, and Student Achievement</td>\n",
       "      <td>National Education Longitudinal Study</td>\n",
       "      <td>National Education Longitudinal Study</td>\n",
       "      <td>national education longitudinal study</td>\n",
       "    </tr>\n",
       "  </tbody>\n",
       "</table>\n",
       "</div>"
      ],
      "text/plain": [
       "                                     Id  \\\n",
       "0  d0fa7568-7d8e-4db9-870f-f9c6f668c17b   \n",
       "1  2f26f645-3dec-485d-b68d-f013c9e05e60   \n",
       "2  c5d5cd2c-59de-4f29-bbb1-6a88c7b52f29   \n",
       "3  5c9a3bc9-41ba-4574-ad71-e25c1442c8af   \n",
       "4  c754dec7-c5a3-4337-9892-c02158475064   \n",
       "\n",
       "                                                                                   pub_title  \\\n",
       "0   The Impact of Dual Enrollment on College Degree Attainment: Do Low-SES Students Benefit?   \n",
       "1  Educational Attainment of High School Dropouts 8 Years Later. Issue Brief. NCES 2005-026.   \n",
       "2                  Differences in Outcomes for Female and Male Students in Special Education   \n",
       "3                      Stepping Stone and Option Value in a Model of Postsecondary Education   \n",
       "4                                 Parental Effort, School Resources, and Student Achievement   \n",
       "\n",
       "                           dataset_title  \\\n",
       "0  National Education Longitudinal Study   \n",
       "1  National Education Longitudinal Study   \n",
       "2  National Education Longitudinal Study   \n",
       "3  National Education Longitudinal Study   \n",
       "4  National Education Longitudinal Study   \n",
       "\n",
       "                           dataset_label  \\\n",
       "0  National Education Longitudinal Study   \n",
       "1  National Education Longitudinal Study   \n",
       "2  National Education Longitudinal Study   \n",
       "3  National Education Longitudinal Study   \n",
       "4  National Education Longitudinal Study   \n",
       "\n",
       "                           cleaned_label  \n",
       "0  national education longitudinal study  \n",
       "1  national education longitudinal study  \n",
       "2  national education longitudinal study  \n",
       "3  national education longitudinal study  \n",
       "4  national education longitudinal study  "
      ]
     },
     "execution_count": 71,
     "metadata": {},
     "output_type": "execute_result"
    }
   ],
   "source": [
    "train.head()"
   ]
  },
  {
   "cell_type": "code",
   "execution_count": 72,
   "id": "04e153d3",
   "metadata": {},
   "outputs": [
    {
     "name": "stdout",
     "output_type": "stream",
     "text": [
      "titles=['What is this study about?', 'Features of Dual Enrollment Programs', 'WWC Single Study Review', 'WWC Rating', 'Intervention group', 'Comparison group', 'Outcomes and measurement', 'Support for implementation', 'Reason for review', 'Degree attainment', \"Bachelor's degree attainment\", 'Study Notes:', 'Glossary of Terms', 'Multiple comparison adjustment', 'Quasi-experimental design (QED)', 'Randomized controlled trial (RCT)', 'Single-case design (SCD)', 'Standard deviation']\n"
     ]
    }
   ],
   "source": [
    "tmp = []\n",
    "titles = []\n",
    "with open(f\"input/train/{train.iloc[0].Id}.json\") as in_file:\n",
    "    sections = json.load(in_file)\n",
    "    for section in sections:\n",
    "        titles.append(section[\"section_title\"])\n",
    "        tmp.append(section[\"text\"])\n",
    "print(f\"titles={titles}\")"
   ]
  },
  {
   "cell_type": "code",
   "execution_count": 73,
   "id": "08fbbd15",
   "metadata": {},
   "outputs": [
    {
     "name": "stdout",
     "output_type": "stream",
     "text": [
      "len=11660, text=This study used data from the National Education Longitudinal Study (NELS:88) to examine the effects of dual enrollment programs for high school students on college degree attainment. The study also reported whether the impacts of dual enrollment programs were different for first generation college students versus students whose parents had attended at least some college. In addition, a supplemental analysis reports on the impact of different amounts of dual enrollment course-taking and college degree attainment.\n",
      "Dual enrollment programs offer college-level learning experiences for high school students. The programs offer college courses and/or the opportunity to earn college credits for students while still in high school.\n",
      "The intervention group in the study was comprised of NELS participants who attended a postsecondary school and who participated in a dual enrollment program while in high school (n = 880). The study author used propensity score matching methods to create a comparison group of NELS participants who also attended a postsecondary school but who did not participate in a dual enrollment program in high school (n = 7,920). Dual enrollment programs allow high school students to take college courses and earn college credits while still in high school. These programs are intended to improve college attainment, especially among low-income students, by helping students prepare academically for the rigors of college coursework and enabling students to accumulate college credits toward a degree.\n",
      "The study reported program impacts on two outcomes: attainment of any college degree and attainment of a Bachelor's degree. These impacts were examined for various subgroups of students, which are described below. What did the study find?\n",
      "The study reported, and the WWC confirmed, that dual enrollment programs significantly increased the likelihood of attaining (a) any college degree and (b) a bachelor's degree.\n",
      "The study reported on the impact of dual enrollment programs for first generation college students, students whose parents had some college, students whose parents had a Bachelor's degree, and students with post-Bachelor's degree parents. Although point estimates differed for the subgroups of students with different parental educational backgrounds, the subgroups were not significantly different from each other. The overall impact of dual enrollment programs is, therefore, the WWC's best estimate of effectiveness for these subgroups (see Appendix D for more information).\n",
      "The study author also examined whether students who earned more dual enrollment credits prior to attending college achieved greater benefits from the dual enrollment programs. The impact of dual enrollment was significantly different for students earning three dual enrollment credits versus those earning six or more credits. Students who earned three credits (i.e., had one dual enrollment course) were not more likely to attain a college degree than comparison group students. However, students who earned six credits (i.e., two courses) and students who earned seven or more credits were significantly more likely to attain any college degree or a bachelor's degree than comparison students (see Appendix D for more information).\n",
      "A sample of these respondents was then resurveyed through four follow-ups in 1990, 1992, 1994, and 2000 . The fourth follow-up (2000) was used for this study.\n",
      "Appendix B: Outcome measures for the degree attainment domain\n",
      "\n",
      "Study Notes: A correction for multiple comparisons was needed but did not affect significance levels. The p-values presented here were reported in the original study. The mean differences reported in the table are covariate-adjusted mean differences and were taken from  The research described in this report meets WWC evidence standards with reservations Cautions: Although the study matched students who participated in dual enrollment programs to those who did not, students who self-selected to participate in dual enrollment programs may have been different from students in general high school programs in ways that were unobserved in the study data. Study sample A nationally representative sample of eighth graders was first surveyed in the spring of 1988. The intervention group was comprised of those individuals in the NELS sample who attended college and participated in dual enrollment programs in high school. No other information about the nature or characteristics of the dual enrollment programs was provided. The comparison group was comprised of NELS participants who attended college but did not participate in a dual enrollment program in high school. The comparison students participated in other high school programs (e.g., traditional high school programs or Advanced Placement programs). There were two outcomes examined in the study: any college degree attainment and bachelor's degree attainment. Both outcomes were derived from the fourth follow-up of the NELS collected in 2000. For a more detailed description of these outcome measures, see Appendix B. The study was based on secondary data from a nationally representative survey of students. No information about the nature of the training for dual enrollment providers or implemenation was provided. This study was identified for review by receiving media attention. Any college degree attainment The study author collected information on college degree attainment from the fourth follow-up of the National Education Longitudinal Study collected in 2000. Only students who attended college were included in the study. The study author collected information on bachelor's degree attainment from the fourth follow-up of the National Education Longitudinal Study collected in 2000. Only students who attended college were included in the study. The effect size is a standardized measure of the effect of an intervention on student outcomes, representing the change (measured in standard deviations) in an average student's outcome that can be expected if the student is given the intervention. The improvement index is an alternate presentation of the effect size, reflecting the change in an average student's percentile rank that can be expected if the student is given the intervention. The WWC-computed average effect size is a simple average rounded to two decimal places; the average improvement index is calculated from the average effect size. The statistical significance of the study's domain average was determined by the WWC; the study is characterized as having a statistically significant positive effect because univariate statistical tests are reported for each outcome measure and both effects are positive and statistically significant, accounting for multiple comparisons. nr = not reported. A correction for multiple comparisons was needed, but did not affect the statistical significance of the outcomes. The p-values presented here were reported in the original study. Effect sizes were computed using the covariate-adjusted mean difference and standard errors reported in Table 1 of the manuscript. This quasi-experimental study used propensity score matching to create a comparison group; therefore, the WWC required that baseline equivalence be established to determine whether the study met standards with reservations. Because the two outcomes reported above did not have pretests, two key covariates were selected by the WWC from among those used by the study author in the propensity score matching: family income and prior achievement. In response to a request by the WWC, the author provided baseline means and standard deviations for the analytic sample on these two covariates. The baseline effect sizes for family income and prior achievement were 0.02 and 0.00, respectively. The study therefore meets WWC standards with reservations because baseline equivalence was met on these two covariates. Table Notes : Positive results for mean difference, effect size, and improvement index favor the intervention group; negative results favor the comparison group. The effect size is a standardized measure of the effect of an intervention on student outcomes, representing the change (measured in standard deviations) in an average student's outcome that can be expected if the student is given the intervention. The improvement index is an alternate presentation of the effect size, reflecting the change in an average student's percentile rank that can be expected if the student is given the intervention. nr = not reported. Attrition Attrition occurs when an outcome variable is not available for all participants initially assigned to the intervention and comparison groups. The WWC considers the total attrition rate and the difference in attrition rates across groups within a study.\n",
      "Clustering adjustment If intervention assignment is made at a cluster level and the analysis is conducted at the student level, the WWC will adjust the statistical significance to account for this mismatch, if necessary.\n",
      "Confounding factor A confounding factor is a component of a study that is completely aligned with one of the study conditions, making it impossible to separate how much of the observed effect was due to the intervention and how much was due to the factor.\n",
      "Design The design of a study is the method by which intervention and comparison groups were assigned.\n",
      "Domain A domain is a group of closely related outcomes.\n",
      "Effect size The effect size is a measure of the magnitude of an effect. The WWC uses a standardized measure to facilitate comparisons across studies and outcomes.\n",
      "Eligibility A study is eligible for review if it falls within the scope of the review protocol and uses either an experimental or matched comparison group design.\n",
      "Equivalence A demonstration that the analysis sample groups are similar on observed characteristics defined in the review area protocol.\n",
      "Improvement index Along a percentile distribution of students, the improvement index represents the gain or loss of the average student due to the intervention. As the average student starts at the 50th percentile, the measure ranges from -50 to +50. When a study includes multiple outcomes or comparison groups, the WWC will adjust the statistical significance to account for the multiple comparisons, if necessary. A quasi-experimental design (QED) is a research design in which subjects are assigned to intervention and comparison groups through a process that is not random. A randomized controlled trial (RCT) is an experiment in which investigators randomly assign eligible participants into intervention and comparison groups. A research approach in which an outcome variable is measured repeatedly within and across different conditions that are defined by the presence or absence of an intervention. The standard deviation of a measure shows how much variation exists across observations in the sample. A low standard deviation indicates that the observations in the sample tend to be very close to the mean; a high standard deviation indicates that the observations in the sample are spread out over a large range of values.\n",
      "Statistical significance Statistical significance is the probability that the difference between groups is a result of chance rather than a real difference between the groups. The WWC labels a finding statistically significant if the likelihood that the difference is due to chance is less than 5% (p < 0.05).\n",
      "Substantively important A substantively important finding is one that has an effect size of 0.25 or greater, regardless of statistical significance.\n",
      "Please see the WWC Procedures and Standards Handbook (version 2.1) for additional details.\n"
     ]
    }
   ],
   "source": [
    "text = \" \".join(tmp).strip()\n",
    "print(f\"len={len(text)}, text={text}\")"
   ]
  },
  {
   "cell_type": "code",
   "execution_count": 74,
   "id": "ad8434e3",
   "metadata": {},
   "outputs": [
    {
     "name": "stdout",
     "output_type": "stream",
     "text": [
      "95 sentences=['This study used data from the National Education Longitudinal Study (NELS:88) to examine the effects of dual enrollment programs for high school students on college degree attainment.', 'The study also reported whether the impacts of dual enrollment programs were different for first generation college students versus students whose parents had attended at least some college.', 'In addition, a supplemental analysis reports on the impact of different amounts of dual enrollment course-taking and college degree attainment.', 'Dual enrollment programs offer college-level learning experiences for high school students.', 'The programs offer college courses and/or the opportunity to earn college credits for students while still in high school.', 'The intervention group in the study was comprised of NELS participants who attended a postsecondary school and who participated in a dual enrollment program while in high school (n = 880).', 'The study author used propensity score matching methods to create a comparison group of NELS participants who also attended a postsecondary school but who did not participate in a dual enrollment program in high school (n = 7,920).', 'Dual enrollment programs allow high school students to take college courses and earn college credits while still in high school.', 'These programs are intended to improve college attainment, especially among low-income students, by helping students prepare academically for the rigors of college coursework and enabling students to accumulate college credits toward a degree.', \"The study reported program impacts on two outcomes: attainment of any college degree and attainment of a Bachelor's degree.\", 'These impacts were examined for various subgroups of students, which are described below.', 'What did the study find?', \"The study reported, and the WWC confirmed, that dual enrollment programs significantly increased the likelihood of attaining (a) any college degree and (b) a bachelor's degree.\", \"The study reported on the impact of dual enrollment programs for first generation college students, students whose parents had some college, students whose parents had a Bachelor's degree, and students with post-Bachelor's degree parents.\", 'Although point estimates differed for the subgroups of students with different parental educational backgrounds, the subgroups were not significantly different from each other.', \"The overall impact of dual enrollment programs is, therefore, the WWC's best estimate of effectiveness for these subgroups (see Appendix D for more information).\", 'The study author also examined whether students who earned more dual enrollment credits prior to attending college achieved greater benefits from the dual enrollment programs.', 'The impact of dual enrollment was significantly different for students earning three dual enrollment credits versus those earning six or more credits.', 'Students who earned three credits (i.e., had one dual enrollment course) were not more likely to attain a college degree than comparison group students.', \"However, students who earned six credits (i.e., two courses) and students who earned seven or more credits were significantly more likely to attain any college degree or a bachelor's degree than comparison students (see Appendix D for more information).\", 'A sample of these respondents was then resurveyed through four follow-ups in 1990, 1992, 1994, and 2000 .', 'The fourth follow-up (2000) was used for this study.', 'Appendix B:', 'Outcome measures for the degree', 'attainment domain', 'Study Notes:', 'A correction for multiple comparisons was needed but did not affect significance levels.', 'The p-values presented here were reported in the original study.', 'The mean differences reported in the table are covariate-adjusted mean differences and were taken from  The research described in this report meets WWC evidence standards with reservations', 'Cautions:', 'Although the study matched students who participated in dual enrollment programs to those who did not, students who self-selected to participate in dual enrollment programs may have been different from students in general high school programs in ways that were unobserved in the study data.', 'Study sample', 'A nationally representative sample of eighth graders was first surveyed in the spring of 1988.', 'The intervention group was comprised of those individuals in the NELS sample who attended college and participated in dual enrollment programs in high school.', 'No other information about the nature or characteristics of the dual enrollment programs was provided.', 'The comparison group was comprised of NELS participants who attended college but did not participate in a dual enrollment program in high school.', 'The comparison students participated in other high school programs (e.g., traditional high school programs or Advanced Placement programs).', \"There were two outcomes examined in the study: any college degree attainment and bachelor's degree attainment.\", 'Both outcomes were derived from the fourth follow-up of the NELS collected in 2000.', 'For a more detailed description of these outcome measures, see Appendix B.', 'The study was based on secondary data from a nationally representative survey of students.', 'No information about the nature of the training for dual enrollment providers or implemenation was provided.', 'This study was identified for review by receiving media attention.', 'Any college degree attainment', 'The study author collected information on college degree attainment from the fourth follow-up of the National Education Longitudinal Study collected in 2000.', 'Only students who attended college were included in the study.', \"The study author collected information on bachelor's degree attainment from the fourth follow-up of the National Education Longitudinal Study collected in 2000.\", 'Only students who attended college were included in the study.', \"The effect size is a standardized measure of the effect of an intervention on student outcomes, representing the change (measured in standard deviations) in an average student's outcome that can be expected if the student is given the intervention.\", \"The improvement index is an alternate presentation of the effect size, reflecting the change in an average student's percentile rank that can be expected if the student is given the intervention.\", 'The WWC-computed average effect size is a simple average rounded to two decimal places; the average improvement index is calculated from the average effect size.', \"The statistical significance of the study's domain average was determined by the WWC; the study is characterized as having a statistically significant positive effect because univariate statistical tests are reported for each outcome measure and both effects are positive and statistically significant, accounting for multiple comparisons.\", 'nr = not reported.', 'A correction for multiple comparisons was needed, but did not affect the statistical significance of the outcomes.', 'The p-values presented here were reported in the original study.', 'Effect sizes were computed using the covariate-adjusted mean difference and standard errors reported in Table 1 of the manuscript.', 'This quasi-experimental study used propensity score matching to create a comparison group; therefore, the WWC required that baseline equivalence be established to determine whether the study met standards with reservations.', 'Because the two outcomes reported above did not have pretests, two key covariates were selected by the WWC from among those used by the study author in the propensity score matching: family income and prior achievement.', 'In response to a request by the WWC, the author provided baseline means and standard deviations for the analytic sample on these two covariates.', 'The baseline effect sizes for family income and prior achievement were 0.02 and 0.00, respectively.', 'The study therefore meets WWC standards with reservations because baseline equivalence was met on these two covariates.', 'Table Notes :', 'Positive results for mean difference, effect size, and improvement index favor the intervention group; negative results favor the comparison group.', \"The effect size is a standardized measure of the effect of an intervention on student outcomes, representing the change (measured in standard deviations) in an average student's outcome that can be expected if the student is given the intervention.\", \"The improvement index is an alternate presentation of the effect size, reflecting the change in an average student's percentile rank that can be expected if the student is given the intervention.\", 'nr = not reported.', 'Attrition Attrition occurs when an outcome variable is not available for all participants initially assigned to the intervention and comparison groups.', 'The WWC considers the total attrition rate and the difference in attrition rates across groups within a study.', 'Clustering adjustment', 'If intervention assignment is made at a cluster level and the analysis is conducted at the student level, the WWC will adjust the statistical significance to account for this mismatch, if necessary.', 'Confounding factor', 'A confounding factor is a component of a study that is completely aligned with one of the study conditions, making it impossible to separate how much of the observed effect was due to the intervention and how much was due to the factor.', 'Design', 'The design of a study is the method by which intervention and comparison groups were assigned.', 'Domain A domain is a group of closely related outcomes.', 'Effect size', 'The effect size is a measure of the magnitude of an effect.', 'The WWC uses a standardized measure to facilitate comparisons across studies and outcomes.', 'Eligibility A study is eligible for review if it falls within the scope of the review protocol and uses either an experimental or matched comparison group design.', 'Equivalence', 'A demonstration that the analysis sample groups are similar on observed characteristics defined in the review area protocol.', 'Improvement index Along a percentile distribution of students', ', the improvement index represents the gain or loss of the average student due to the intervention.', 'As the average student starts at the 50th percentile, the measure ranges from -50 to +50.', 'When a study includes multiple outcomes or comparison groups, the WWC will adjust the statistical significance to account for the multiple comparisons, if necessary.', 'A quasi-experimental design (QED) is a research design in which subjects are assigned to intervention and comparison groups through a process that is not random.', 'A randomized controlled trial (RCT) is an experiment in which investigators randomly assign eligible participants into intervention and comparison groups.', 'A research approach in which an outcome variable is measured repeatedly within and across different conditions that are defined by the presence or absence of an intervention.', 'The standard deviation of a measure shows how much variation exists across observations in the sample.', 'A low standard deviation indicates that the observations in the sample tend to be very close to the mean; a high standard deviation indicates that the observations in the sample are spread out over a large range of values.', 'Statistical significance', 'Statistical significance is the probability that the difference between groups is a result of chance rather than a real difference between the groups.', 'The WWC labels a finding statistically significant if the likelihood that the difference is due to chance is less than 5% (p < 0.05).', 'Substantively important A substantively important finding is one that has an effect size of 0.25 or greater, regardless of statistical significance.', 'Please see the WWC Procedures and Standards Handbook (version 2.1) for additional details.']\n"
     ]
    }
   ],
   "source": [
    "doc = nlp(text)\n",
    "sentences = [sent.string.strip() for sent in doc.sents]\n",
    "print(f\"{len(sentences)} sentences={sentences}\")"
   ]
  },
  {
   "cell_type": "code",
   "execution_count": 76,
   "id": "2c058b37",
   "metadata": {},
   "outputs": [
    {
     "name": "stdout",
     "output_type": "stream",
     "text": [
      "i=0, len(tmp)=16\n",
      "answer_start_scores.shape=torch.Size([1, 468]), answer_end_scores.shape=torch.Size([1, 468])\n",
      "ai=11, aj=15, sep_index=4\n",
      "i=16, len(tmp)=16\n",
      "answer_start_scores.shape=torch.Size([1, 306]), answer_end_scores.shape=torch.Size([1, 306])\n",
      "ai=0, aj=5, sep_index=4\n",
      "i=32, len(tmp)=16\n",
      "answer_start_scores.shape=torch.Size([1, 295]), answer_end_scores.shape=torch.Size([1, 295])\n",
      "ai=0, aj=181, sep_index=4\n",
      "i=48, len(tmp)=16\n",
      "answer_start_scores.shape=torch.Size([1, 467]), answer_end_scores.shape=torch.Size([1, 467])\n",
      "ai=4, aj=5, sep_index=4\n",
      "i=64, len(tmp)=16\n",
      "answer_start_scores.shape=torch.Size([1, 279]), answer_end_scores.shape=torch.Size([1, 279])\n",
      "ai=4, aj=5, sep_index=4\n",
      "i=80, len(tmp)=15\n",
      "answer_start_scores.shape=torch.Size([1, 347]), answer_end_scores.shape=torch.Size([1, 347])\n",
      "ai=0, aj=5, sep_index=4\n",
      "res=national education longitudinal study\n"
     ]
    }
   ],
   "source": [
    "question = \"which dataset\"\n",
    "res = set()\n",
    "i = 0\n",
    "stride = 16\n",
    "while i < len(sentences):\n",
    "    tmp = sentences[i:i + stride]\n",
    "    print(f\"i={i}, len(tmp)={len(tmp)}\")\n",
    "    passage = \" \".join(tmp)\n",
    "    inputs = tokenizer.encode_plus(question, passage, add_special_tokens=True, return_tensors=\"pt\")\n",
    "    input_ids = inputs[\"input_ids\"].tolist()[0]\n",
    "    sep_index = input_ids.index(tokenizer.sep_token_id)\n",
    "    answer_start_scores, answer_end_scores = model(**inputs).values()\n",
    "    print(f\"answer_start_scores.shape={answer_start_scores.shape}, answer_end_scores.shape={answer_end_scores.shape}\")\n",
    "    ai = torch.argmax(answer_start_scores)\n",
    "    aj = torch.argmax(answer_end_scores) + 1\n",
    "    print(f\"ai={ai}, aj={aj}, sep_index={sep_index}\")\n",
    "    if ai > sep_index:\n",
    "        a = tokenizer.convert_tokens_to_string(tokenizer.convert_ids_to_tokens(input_ids[ai:aj]))\n",
    "        a = mylib.clean_text(a)\n",
    "        if len(a) != 0:\n",
    "            res.add(a)\n",
    "    i += stride\n",
    "res_str = \"|\".join(res)\n",
    "print(f\"res={res_str}\")"
   ]
  },
  {
   "cell_type": "code",
   "execution_count": null,
   "id": "74bf5ac7",
   "metadata": {},
   "outputs": [],
   "source": []
  }
 ],
 "metadata": {
  "kernelspec": {
   "display_name": "Python 3",
   "language": "python",
   "name": "python3"
  },
  "language_info": {
   "codemirror_mode": {
    "name": "ipython",
    "version": 3
   },
   "file_extension": ".py",
   "mimetype": "text/x-python",
   "name": "python",
   "nbconvert_exporter": "python",
   "pygments_lexer": "ipython3",
   "version": "3.7.5"
  }
 },
 "nbformat": 4,
 "nbformat_minor": 5
}
