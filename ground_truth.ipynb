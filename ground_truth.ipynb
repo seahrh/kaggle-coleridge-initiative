{
 "cells": [
  {
   "cell_type": "code",
   "execution_count": 1,
   "id": "da81a045",
   "metadata": {},
   "outputs": [],
   "source": [
    "import numpy as np\n",
    "import pandas as pd\n",
    "from tqdm import tqdm\n",
    "from typing import Dict, List\n",
    "import mylib"
   ]
  },
  {
   "cell_type": "code",
   "execution_count": 2,
   "id": "8cd61302",
   "metadata": {},
   "outputs": [],
   "source": [
    "pd.set_option(\"use_inf_as_na\", True)\n",
    "pd.set_option(\"max_info_columns\", 9999)\n",
    "pd.set_option(\"display.max_columns\", 9999)\n",
    "pd.set_option(\"display.max_rows\", 9999)\n",
    "pd.set_option('max_colwidth', 9999)"
   ]
  },
  {
   "cell_type": "code",
   "execution_count": 3,
   "id": "df246981",
   "metadata": {},
   "outputs": [
    {
     "name": "stdout",
     "output_type": "stream",
     "text": [
      "<class 'pandas.core.frame.DataFrame'>\n",
      "RangeIndex: 19661 entries, 0 to 19660\n",
      "Data columns (total 5 columns):\n",
      " #   Column         Non-Null Count  Dtype \n",
      "---  ------         --------------  ----- \n",
      " 0   Id             19661 non-null  object\n",
      " 1   pub_title      19661 non-null  object\n",
      " 2   dataset_title  19661 non-null  object\n",
      " 3   dataset_label  19661 non-null  object\n",
      " 4   cleaned_label  19661 non-null  object\n",
      "dtypes: object(5)\n",
      "memory usage: 768.1+ KB\n"
     ]
    }
   ],
   "source": [
    "train = pd.read_csv(\"input/train.csv\", engine=\"c\", low_memory=False)\n",
    "train.info()"
   ]
  },
  {
   "cell_type": "code",
   "execution_count": 4,
   "id": "ffdb0cfc",
   "metadata": {},
   "outputs": [
    {
     "name": "stderr",
     "output_type": "stream",
     "text": [
      "19661it [00:00, 206363.28it/s]\n"
     ]
    }
   ],
   "source": [
    "gt_map: Dict[str, List[str]] = {}\n",
    "sep = \"|\"\n",
    "for t in tqdm(train.itertuples()):\n",
    "    pid = getattr(t, \"Id\")\n",
    "    cl = getattr(t, \"cleaned_label\")\n",
    "    if pid not in gt_map:\n",
    "        gt_map[pid] = list()\n",
    "    gt_map[pid].append(mylib.clean_text(cl))"
   ]
  },
  {
   "cell_type": "code",
   "execution_count": 5,
   "id": "d546c749",
   "metadata": {},
   "outputs": [
    {
     "name": "stderr",
     "output_type": "stream",
     "text": [
      "100%|██████████| 14316/14316 [00:00<00:00, 554259.07it/s]\n"
     ]
    }
   ],
   "source": [
    "tmp = []\n",
    "for k, v in tqdm(gt_map.items()):\n",
    "    is_multi = 0\n",
    "    if len(v) > 1:\n",
    "        is_multi = 1\n",
    "    vs = \"|\".join(sorted(v))\n",
    "    tmp.append((k, vs, is_multi))"
   ]
  },
  {
   "cell_type": "code",
   "execution_count": 6,
   "id": "d0cd8a73",
   "metadata": {},
   "outputs": [
    {
     "name": "stdout",
     "output_type": "stream",
     "text": [
      "<class 'pandas.core.frame.DataFrame'>\n",
      "RangeIndex: 14316 entries, 0 to 14315\n",
      "Data columns (total 3 columns):\n",
      " #   Column        Non-Null Count  Dtype \n",
      "---  ------        --------------  ----- \n",
      " 0   Id            14316 non-null  object\n",
      " 1   ground_truth  14316 non-null  object\n",
      " 2   is_multi      14316 non-null  int8  \n",
      "dtypes: int8(1), object(2)\n",
      "memory usage: 237.8+ KB\n"
     ]
    }
   ],
   "source": [
    "df = pd.DataFrame(tmp, columns=[\"Id\", \"ground_truth\", \"is_multi\"])\n",
    "df[\"is_multi\"] = df[\"is_multi\"].astype(np.int8) \n",
    "df.info()"
   ]
  },
  {
   "cell_type": "code",
   "execution_count": 7,
   "id": "c5eb4476",
   "metadata": {},
   "outputs": [
    {
     "data": {
      "text/html": [
       "<div>\n",
       "<style scoped>\n",
       "    .dataframe tbody tr th:only-of-type {\n",
       "        vertical-align: middle;\n",
       "    }\n",
       "\n",
       "    .dataframe tbody tr th {\n",
       "        vertical-align: top;\n",
       "    }\n",
       "\n",
       "    .dataframe thead th {\n",
       "        text-align: right;\n",
       "    }\n",
       "</style>\n",
       "<table border=\"1\" class=\"dataframe\">\n",
       "  <thead>\n",
       "    <tr style=\"text-align: right;\">\n",
       "      <th></th>\n",
       "      <th>Id</th>\n",
       "      <th>ground_truth</th>\n",
       "      <th>is_multi</th>\n",
       "    </tr>\n",
       "  </thead>\n",
       "  <tbody>\n",
       "    <tr>\n",
       "      <th>285</th>\n",
       "      <td>0b80a4a7-8e8b-4f36-8f3d-a6df0e8ec3c8</td>\n",
       "      <td>education longitudinal study|national education longitudinal study</td>\n",
       "      <td>1</td>\n",
       "    </tr>\n",
       "    <tr>\n",
       "      <th>9996</th>\n",
       "      <td>b9503746-cda7-4d83-9830-b84e8d3c9f79</td>\n",
       "      <td>slosh model</td>\n",
       "      <td>0</td>\n",
       "    </tr>\n",
       "    <tr>\n",
       "      <th>8934</th>\n",
       "      <td>aafd5ee7-69a3-4901-b542-c882a2260721</td>\n",
       "      <td>early childhood longitudinal study</td>\n",
       "      <td>0</td>\n",
       "    </tr>\n",
       "    <tr>\n",
       "      <th>13286</th>\n",
       "      <td>9b52509b-8403-4a7f-b55f-8f496dc2dc47</td>\n",
       "      <td>covid 19 open research data</td>\n",
       "      <td>0</td>\n",
       "    </tr>\n",
       "    <tr>\n",
       "      <th>3302</th>\n",
       "      <td>918761e1-a549-4e4d-8438-21cd0cdd6e5d</td>\n",
       "      <td>adni|alzheimer s disease neuroimaging initiative adni</td>\n",
       "      <td>1</td>\n",
       "    </tr>\n",
       "    <tr>\n",
       "      <th>7402</th>\n",
       "      <td>bef5b889-616b-4d8d-ae6c-a8e57e172d42</td>\n",
       "      <td>trends in international mathematics and science study</td>\n",
       "      <td>0</td>\n",
       "    </tr>\n",
       "    <tr>\n",
       "      <th>4195</th>\n",
       "      <td>61f863e5-f545-4252-909c-e1db54670d16</td>\n",
       "      <td>adni|alzheimer s disease neuroimaging initiative adni</td>\n",
       "      <td>1</td>\n",
       "    </tr>\n",
       "    <tr>\n",
       "      <th>9216</th>\n",
       "      <td>b9897e1c-dee0-4b66-b46d-2c6c1c097a1e</td>\n",
       "      <td>baccalaureate and beyond|baccalaureate and beyond longitudinal study</td>\n",
       "      <td>1</td>\n",
       "    </tr>\n",
       "    <tr>\n",
       "      <th>9395</th>\n",
       "      <td>5e5ee545-b01e-4a19-9a4b-d2617c50b360</td>\n",
       "      <td>national assessment of education progress</td>\n",
       "      <td>0</td>\n",
       "    </tr>\n",
       "    <tr>\n",
       "      <th>3562</th>\n",
       "      <td>45a88d54-a216-48f5-a17b-020b372a3a47</td>\n",
       "      <td>adni|alzheimer s disease neuroimaging initiative adni</td>\n",
       "      <td>1</td>\n",
       "    </tr>\n",
       "    <tr>\n",
       "      <th>12037</th>\n",
       "      <td>24669f3f-7b81-4ebf-84d8-b9d37497e45d</td>\n",
       "      <td>baltimore longitudinal study of aging</td>\n",
       "      <td>0</td>\n",
       "    </tr>\n",
       "    <tr>\n",
       "      <th>880</th>\n",
       "      <td>0035a1ba-6d1e-487b-bc3d-d49c5d64a3e9</td>\n",
       "      <td>baltimore longitudinal study of aging|baltimore longitudinal study of aging blsa</td>\n",
       "      <td>1</td>\n",
       "    </tr>\n",
       "    <tr>\n",
       "      <th>12940</th>\n",
       "      <td>3e00a932-0597-42d8-b8f3-c010e315e3d6</td>\n",
       "      <td>north american breeding bird survey</td>\n",
       "      <td>0</td>\n",
       "    </tr>\n",
       "    <tr>\n",
       "      <th>1768</th>\n",
       "      <td>9721cc99-63f9-4641-9cd2-58de0b4237bf</td>\n",
       "      <td>baltimore longitudinal study of aging</td>\n",
       "      <td>0</td>\n",
       "    </tr>\n",
       "    <tr>\n",
       "      <th>3951</th>\n",
       "      <td>56aca596-d6df-47d2-882b-ed49d1066226</td>\n",
       "      <td>adni|alzheimer s disease neuroimaging initiative adni</td>\n",
       "      <td>1</td>\n",
       "    </tr>\n",
       "    <tr>\n",
       "      <th>13813</th>\n",
       "      <td>3e0c953c-36b0-48b9-9ab8-e7d353a39bfb</td>\n",
       "      <td>sars cov 2 genome sequences</td>\n",
       "      <td>0</td>\n",
       "    </tr>\n",
       "    <tr>\n",
       "      <th>9471</th>\n",
       "      <td>4f78cbdb-b849-4f09-ad9d-c0df690a3635</td>\n",
       "      <td>education longitudinal study|national education longitudinal study</td>\n",
       "      <td>1</td>\n",
       "    </tr>\n",
       "    <tr>\n",
       "      <th>5995</th>\n",
       "      <td>4c61078f-a9ba-49a3-9c0a-364f7bf576b5</td>\n",
       "      <td>adni</td>\n",
       "      <td>0</td>\n",
       "    </tr>\n",
       "    <tr>\n",
       "      <th>10674</th>\n",
       "      <td>dd301f46-958b-40bb-89f1-372d1e289d0e</td>\n",
       "      <td>survey of earned doctorates</td>\n",
       "      <td>0</td>\n",
       "    </tr>\n",
       "    <tr>\n",
       "      <th>10164</th>\n",
       "      <td>43222233-a67a-44e5-840f-a627fd015448</td>\n",
       "      <td>coastal change analysis program|noaa c cap</td>\n",
       "      <td>1</td>\n",
       "    </tr>\n",
       "  </tbody>\n",
       "</table>\n",
       "</div>"
      ],
      "text/plain": [
       "                                         Id  \\\n",
       "285    0b80a4a7-8e8b-4f36-8f3d-a6df0e8ec3c8   \n",
       "9996   b9503746-cda7-4d83-9830-b84e8d3c9f79   \n",
       "8934   aafd5ee7-69a3-4901-b542-c882a2260721   \n",
       "13286  9b52509b-8403-4a7f-b55f-8f496dc2dc47   \n",
       "3302   918761e1-a549-4e4d-8438-21cd0cdd6e5d   \n",
       "7402   bef5b889-616b-4d8d-ae6c-a8e57e172d42   \n",
       "4195   61f863e5-f545-4252-909c-e1db54670d16   \n",
       "9216   b9897e1c-dee0-4b66-b46d-2c6c1c097a1e   \n",
       "9395   5e5ee545-b01e-4a19-9a4b-d2617c50b360   \n",
       "3562   45a88d54-a216-48f5-a17b-020b372a3a47   \n",
       "12037  24669f3f-7b81-4ebf-84d8-b9d37497e45d   \n",
       "880    0035a1ba-6d1e-487b-bc3d-d49c5d64a3e9   \n",
       "12940  3e00a932-0597-42d8-b8f3-c010e315e3d6   \n",
       "1768   9721cc99-63f9-4641-9cd2-58de0b4237bf   \n",
       "3951   56aca596-d6df-47d2-882b-ed49d1066226   \n",
       "13813  3e0c953c-36b0-48b9-9ab8-e7d353a39bfb   \n",
       "9471   4f78cbdb-b849-4f09-ad9d-c0df690a3635   \n",
       "5995   4c61078f-a9ba-49a3-9c0a-364f7bf576b5   \n",
       "10674  dd301f46-958b-40bb-89f1-372d1e289d0e   \n",
       "10164  43222233-a67a-44e5-840f-a627fd015448   \n",
       "\n",
       "                                                                            ground_truth  \\\n",
       "285                   education longitudinal study|national education longitudinal study   \n",
       "9996                                                                         slosh model   \n",
       "8934                                                  early childhood longitudinal study   \n",
       "13286                                                        covid 19 open research data   \n",
       "3302                              adni|alzheimer s disease neuroimaging initiative adni    \n",
       "7402                               trends in international mathematics and science study   \n",
       "4195                              adni|alzheimer s disease neuroimaging initiative adni    \n",
       "9216                baccalaureate and beyond|baccalaureate and beyond longitudinal study   \n",
       "9395                                           national assessment of education progress   \n",
       "3562                              adni|alzheimer s disease neuroimaging initiative adni    \n",
       "12037                                              baltimore longitudinal study of aging   \n",
       "880    baltimore longitudinal study of aging|baltimore longitudinal study of aging blsa    \n",
       "12940                                                north american breeding bird survey   \n",
       "1768                                               baltimore longitudinal study of aging   \n",
       "3951                              adni|alzheimer s disease neuroimaging initiative adni    \n",
       "13813                                                        sars cov 2 genome sequences   \n",
       "9471                  education longitudinal study|national education longitudinal study   \n",
       "5995                                                                                adni   \n",
       "10674                                                        survey of earned doctorates   \n",
       "10164                                         coastal change analysis program|noaa c cap   \n",
       "\n",
       "       is_multi  \n",
       "285           1  \n",
       "9996          0  \n",
       "8934          0  \n",
       "13286         0  \n",
       "3302          1  \n",
       "7402          0  \n",
       "4195          1  \n",
       "9216          1  \n",
       "9395          0  \n",
       "3562          1  \n",
       "12037         0  \n",
       "880           1  \n",
       "12940         0  \n",
       "1768          0  \n",
       "3951          1  \n",
       "13813         0  \n",
       "9471          1  \n",
       "5995          0  \n",
       "10674         0  \n",
       "10164         1  "
      ]
     },
     "execution_count": 7,
     "metadata": {},
     "output_type": "execute_result"
    }
   ],
   "source": [
    "df.sample(20).head(20)"
   ]
  },
  {
   "cell_type": "code",
   "execution_count": 8,
   "id": "11987bd9",
   "metadata": {},
   "outputs": [
    {
     "data": {
      "text/plain": [
       "0    0.667994\n",
       "1    0.332006\n",
       "Name: is_multi, dtype: float64"
      ]
     },
     "execution_count": 8,
     "metadata": {},
     "output_type": "execute_result"
    }
   ],
   "source": [
    "df[\"is_multi\"].value_counts(normalize=True)"
   ]
  },
  {
   "cell_type": "code",
   "execution_count": 9,
   "id": "4df556a1",
   "metadata": {},
   "outputs": [],
   "source": [
    "df.to_parquet(\"output/train.parquet\", index=False)"
   ]
  }
 ],
 "metadata": {
  "kernelspec": {
   "display_name": "Python 3",
   "language": "python",
   "name": "python3"
  },
  "language_info": {
   "codemirror_mode": {
    "name": "ipython",
    "version": 3
   },
   "file_extension": ".py",
   "mimetype": "text/x-python",
   "name": "python",
   "nbconvert_exporter": "python",
   "pygments_lexer": "ipython3",
   "version": "3.7.5"
  }
 },
 "nbformat": 4,
 "nbformat_minor": 5
}
