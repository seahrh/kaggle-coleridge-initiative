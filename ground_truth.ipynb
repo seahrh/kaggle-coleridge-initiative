{
 "cells": [
  {
   "cell_type": "code",
   "execution_count": 36,
   "id": "da81a045",
   "metadata": {},
   "outputs": [],
   "source": [
    "import numpy as np\n",
    "import pandas as pd\n",
    "from tqdm import tqdm\n",
    "from typing import Dict, List\n",
    "import mylib"
   ]
  },
  {
   "cell_type": "code",
   "execution_count": 37,
   "id": "8cd61302",
   "metadata": {},
   "outputs": [],
   "source": [
    "pd.set_option(\"use_inf_as_na\", True)\n",
    "pd.set_option(\"max_info_columns\", 9999)\n",
    "pd.set_option(\"display.max_columns\", 9999)\n",
    "pd.set_option(\"display.max_rows\", 9999)\n",
    "pd.set_option('max_colwidth', 9999)"
   ]
  },
  {
   "cell_type": "code",
   "execution_count": 38,
   "id": "df246981",
   "metadata": {},
   "outputs": [
    {
     "name": "stdout",
     "output_type": "stream",
     "text": [
      "<class 'pandas.core.frame.DataFrame'>\n",
      "RangeIndex: 19661 entries, 0 to 19660\n",
      "Data columns (total 5 columns):\n",
      " #   Column         Non-Null Count  Dtype \n",
      "---  ------         --------------  ----- \n",
      " 0   Id             19661 non-null  object\n",
      " 1   pub_title      19661 non-null  object\n",
      " 2   dataset_title  19661 non-null  object\n",
      " 3   dataset_label  19661 non-null  object\n",
      " 4   cleaned_label  19661 non-null  object\n",
      "dtypes: object(5)\n",
      "memory usage: 768.1+ KB\n"
     ]
    }
   ],
   "source": [
    "train = pd.read_csv(\"input/train.csv\", engine=\"c\", low_memory=False)\n",
    "train.info()"
   ]
  },
  {
   "cell_type": "code",
   "execution_count": 39,
   "id": "ffdb0cfc",
   "metadata": {},
   "outputs": [
    {
     "name": "stderr",
     "output_type": "stream",
     "text": [
      "19661it [00:00, 211609.47it/s]\n"
     ]
    }
   ],
   "source": [
    "gt_map: Dict[str, List[str]] = {}\n",
    "sep = \"|\"\n",
    "for t in tqdm(train.itertuples()):\n",
    "    pid = getattr(t, \"Id\")\n",
    "    cl = getattr(t, \"cleaned_label\")\n",
    "    if pid not in gt_map:\n",
    "        gt_map[pid] = list()\n",
    "    gt_map[pid].append(mylib.clean_text(cl))"
   ]
  },
  {
   "cell_type": "code",
   "execution_count": 40,
   "id": "d546c749",
   "metadata": {},
   "outputs": [
    {
     "name": "stderr",
     "output_type": "stream",
     "text": [
      "100%|██████████| 14316/14316 [00:00<00:00, 588019.94it/s]\n"
     ]
    }
   ],
   "source": [
    "tmp = []\n",
    "for k, v in tqdm(gt_map.items()):\n",
    "    is_multi = 0\n",
    "    if len(v) > 1:\n",
    "        is_multi = 1\n",
    "    vs = \"|\".join(sorted(v))\n",
    "    tmp.append((k, vs, is_multi))"
   ]
  },
  {
   "cell_type": "code",
   "execution_count": 41,
   "id": "d0cd8a73",
   "metadata": {},
   "outputs": [
    {
     "name": "stdout",
     "output_type": "stream",
     "text": [
      "<class 'pandas.core.frame.DataFrame'>\n",
      "RangeIndex: 14316 entries, 0 to 14315\n",
      "Data columns (total 3 columns):\n",
      " #   Column        Non-Null Count  Dtype \n",
      "---  ------        --------------  ----- \n",
      " 0   pid           14316 non-null  object\n",
      " 1   ground_truth  14316 non-null  object\n",
      " 2   is_multi      14316 non-null  int8  \n",
      "dtypes: int8(1), object(2)\n",
      "memory usage: 237.8+ KB\n"
     ]
    }
   ],
   "source": [
    "df = pd.DataFrame(tmp, columns=[\"pid\", \"ground_truth\", \"is_multi\"])\n",
    "df[\"is_multi\"] = df[\"is_multi\"].astype(np.int8) \n",
    "df.info()"
   ]
  },
  {
   "cell_type": "code",
   "execution_count": 42,
   "id": "c5eb4476",
   "metadata": {},
   "outputs": [
    {
     "data": {
      "text/html": [
       "<div>\n",
       "<style scoped>\n",
       "    .dataframe tbody tr th:only-of-type {\n",
       "        vertical-align: middle;\n",
       "    }\n",
       "\n",
       "    .dataframe tbody tr th {\n",
       "        vertical-align: top;\n",
       "    }\n",
       "\n",
       "    .dataframe thead th {\n",
       "        text-align: right;\n",
       "    }\n",
       "</style>\n",
       "<table border=\"1\" class=\"dataframe\">\n",
       "  <thead>\n",
       "    <tr style=\"text-align: right;\">\n",
       "      <th></th>\n",
       "      <th>pid</th>\n",
       "      <th>ground_truth</th>\n",
       "      <th>is_multi</th>\n",
       "    </tr>\n",
       "  </thead>\n",
       "  <tbody>\n",
       "    <tr>\n",
       "      <th>13165</th>\n",
       "      <td>f01dc252-8d0d-4421-b2a5-435f5fb11ec7</td>\n",
       "      <td>census of agriculture</td>\n",
       "      <td>0</td>\n",
       "    </tr>\n",
       "    <tr>\n",
       "      <th>3642</th>\n",
       "      <td>e9a2d09b-6d00-4331-85bd-256a8ef1c29d</td>\n",
       "      <td>adni|alzheimer s disease neuroimaging initiative adni</td>\n",
       "      <td>1</td>\n",
       "    </tr>\n",
       "    <tr>\n",
       "      <th>3665</th>\n",
       "      <td>f191a583-f30b-4fe9-a2bf-06b473cfe3ca</td>\n",
       "      <td>adni|alzheimer s disease neuroimaging initiative adni</td>\n",
       "      <td>1</td>\n",
       "    </tr>\n",
       "    <tr>\n",
       "      <th>5362</th>\n",
       "      <td>45e9649a-cb87-499d-a657-8d09057ad386</td>\n",
       "      <td>adni</td>\n",
       "      <td>0</td>\n",
       "    </tr>\n",
       "    <tr>\n",
       "      <th>3273</th>\n",
       "      <td>81a1e992-e4b3-49ae-91a8-ae233aa44d26</td>\n",
       "      <td>adni</td>\n",
       "      <td>0</td>\n",
       "    </tr>\n",
       "    <tr>\n",
       "      <th>324</th>\n",
       "      <td>649d96d9-15d1-4f5b-b76d-1878c354514e</td>\n",
       "      <td>slosh model</td>\n",
       "      <td>0</td>\n",
       "    </tr>\n",
       "    <tr>\n",
       "      <th>12739</th>\n",
       "      <td>6a4fad01-fece-4b7e-84bf-83a1efe519f7</td>\n",
       "      <td>census of agriculture</td>\n",
       "      <td>0</td>\n",
       "    </tr>\n",
       "    <tr>\n",
       "      <th>6164</th>\n",
       "      <td>b0b77efe-b981-4f43-b0a5-7432ef0f2980</td>\n",
       "      <td>adni|alzheimer s disease neuroimaging initiative adni</td>\n",
       "      <td>1</td>\n",
       "    </tr>\n",
       "    <tr>\n",
       "      <th>12131</th>\n",
       "      <td>d61f1360-8217-4d9d-8760-11122011f0d0</td>\n",
       "      <td>noaa optimum interpolation sea surface temperature|optimum interpolation sea surface temperature</td>\n",
       "      <td>1</td>\n",
       "    </tr>\n",
       "    <tr>\n",
       "      <th>2230</th>\n",
       "      <td>3b30f42a-0cd7-4f76-9c5f-445cff1df70f</td>\n",
       "      <td>baltimore longitudinal study of aging</td>\n",
       "      <td>0</td>\n",
       "    </tr>\n",
       "    <tr>\n",
       "      <th>7057</th>\n",
       "      <td>784fad14-eccf-417a-ab34-f475180939c5</td>\n",
       "      <td>trends in international mathematics and science study</td>\n",
       "      <td>0</td>\n",
       "    </tr>\n",
       "    <tr>\n",
       "      <th>13294</th>\n",
       "      <td>5f34093c-79d5-446b-b59e-70260a58a774</td>\n",
       "      <td>our world in data|our world in data covid 19</td>\n",
       "      <td>1</td>\n",
       "    </tr>\n",
       "    <tr>\n",
       "      <th>8760</th>\n",
       "      <td>422bf11e-8f40-4deb-98b9-ba9a5f0ba7bb</td>\n",
       "      <td>common core of data</td>\n",
       "      <td>0</td>\n",
       "    </tr>\n",
       "    <tr>\n",
       "      <th>6864</th>\n",
       "      <td>4e1494a5-6ae0-4239-8e00-23ade63f074d</td>\n",
       "      <td>trends in international mathematics and science study</td>\n",
       "      <td>0</td>\n",
       "    </tr>\n",
       "    <tr>\n",
       "      <th>6313</th>\n",
       "      <td>40ead775-b907-420e-9425-bf1936c05893</td>\n",
       "      <td>adni</td>\n",
       "      <td>0</td>\n",
       "    </tr>\n",
       "    <tr>\n",
       "      <th>9434</th>\n",
       "      <td>4ff1d11a-463b-4346-aa7b-79a38dccc1ee</td>\n",
       "      <td>school survey on crime and safety</td>\n",
       "      <td>0</td>\n",
       "    </tr>\n",
       "    <tr>\n",
       "      <th>5043</th>\n",
       "      <td>d6ae640f-0169-4c8d-9eab-25ed1666297c</td>\n",
       "      <td>adni</td>\n",
       "      <td>0</td>\n",
       "    </tr>\n",
       "    <tr>\n",
       "      <th>6127</th>\n",
       "      <td>800efb06-d836-41b5-8c24-fb63f755a225</td>\n",
       "      <td>adni|alzheimer s disease neuroimaging initiative adni</td>\n",
       "      <td>1</td>\n",
       "    </tr>\n",
       "    <tr>\n",
       "      <th>10530</th>\n",
       "      <td>bbd81b17-4661-4439-8d27-2c494f2678eb</td>\n",
       "      <td>survey of earned doctorates</td>\n",
       "      <td>0</td>\n",
       "    </tr>\n",
       "    <tr>\n",
       "      <th>8522</th>\n",
       "      <td>a60983a6-32f5-49c3-9f72-e3449cc73919</td>\n",
       "      <td>rural urban continuum codes</td>\n",
       "      <td>0</td>\n",
       "    </tr>\n",
       "  </tbody>\n",
       "</table>\n",
       "</div>"
      ],
      "text/plain": [
       "                                        pid  \\\n",
       "13165  f01dc252-8d0d-4421-b2a5-435f5fb11ec7   \n",
       "3642   e9a2d09b-6d00-4331-85bd-256a8ef1c29d   \n",
       "3665   f191a583-f30b-4fe9-a2bf-06b473cfe3ca   \n",
       "5362   45e9649a-cb87-499d-a657-8d09057ad386   \n",
       "3273   81a1e992-e4b3-49ae-91a8-ae233aa44d26   \n",
       "324    649d96d9-15d1-4f5b-b76d-1878c354514e   \n",
       "12739  6a4fad01-fece-4b7e-84bf-83a1efe519f7   \n",
       "6164   b0b77efe-b981-4f43-b0a5-7432ef0f2980   \n",
       "12131  d61f1360-8217-4d9d-8760-11122011f0d0   \n",
       "2230   3b30f42a-0cd7-4f76-9c5f-445cff1df70f   \n",
       "7057   784fad14-eccf-417a-ab34-f475180939c5   \n",
       "13294  5f34093c-79d5-446b-b59e-70260a58a774   \n",
       "8760   422bf11e-8f40-4deb-98b9-ba9a5f0ba7bb   \n",
       "6864   4e1494a5-6ae0-4239-8e00-23ade63f074d   \n",
       "6313   40ead775-b907-420e-9425-bf1936c05893   \n",
       "9434   4ff1d11a-463b-4346-aa7b-79a38dccc1ee   \n",
       "5043   d6ae640f-0169-4c8d-9eab-25ed1666297c   \n",
       "6127   800efb06-d836-41b5-8c24-fb63f755a225   \n",
       "10530  bbd81b17-4661-4439-8d27-2c494f2678eb   \n",
       "8522   a60983a6-32f5-49c3-9f72-e3449cc73919   \n",
       "\n",
       "                                                                                           ground_truth  \\\n",
       "13165                                                                             census of agriculture   \n",
       "3642                                             adni|alzheimer s disease neuroimaging initiative adni    \n",
       "3665                                             adni|alzheimer s disease neuroimaging initiative adni    \n",
       "5362                                                                                               adni   \n",
       "3273                                                                                               adni   \n",
       "324                                                                                         slosh model   \n",
       "12739                                                                             census of agriculture   \n",
       "6164                                             adni|alzheimer s disease neuroimaging initiative adni    \n",
       "12131  noaa optimum interpolation sea surface temperature|optimum interpolation sea surface temperature   \n",
       "2230                                                              baltimore longitudinal study of aging   \n",
       "7057                                              trends in international mathematics and science study   \n",
       "13294                                                      our world in data|our world in data covid 19   \n",
       "8760                                                                                common core of data   \n",
       "6864                                              trends in international mathematics and science study   \n",
       "6313                                                                                               adni   \n",
       "9434                                                                  school survey on crime and safety   \n",
       "5043                                                                                               adni   \n",
       "6127                                             adni|alzheimer s disease neuroimaging initiative adni    \n",
       "10530                                                                       survey of earned doctorates   \n",
       "8522                                                                        rural urban continuum codes   \n",
       "\n",
       "       is_multi  \n",
       "13165         0  \n",
       "3642          1  \n",
       "3665          1  \n",
       "5362          0  \n",
       "3273          0  \n",
       "324           0  \n",
       "12739         0  \n",
       "6164          1  \n",
       "12131         1  \n",
       "2230          0  \n",
       "7057          0  \n",
       "13294         1  \n",
       "8760          0  \n",
       "6864          0  \n",
       "6313          0  \n",
       "9434          0  \n",
       "5043          0  \n",
       "6127          1  \n",
       "10530         0  \n",
       "8522          0  "
      ]
     },
     "execution_count": 42,
     "metadata": {},
     "output_type": "execute_result"
    }
   ],
   "source": [
    "df.sample(20).head(20)"
   ]
  },
  {
   "cell_type": "code",
   "execution_count": 43,
   "id": "11987bd9",
   "metadata": {},
   "outputs": [
    {
     "data": {
      "text/plain": [
       "0    0.667994\n",
       "1    0.332006\n",
       "Name: is_multi, dtype: float64"
      ]
     },
     "execution_count": 43,
     "metadata": {},
     "output_type": "execute_result"
    }
   ],
   "source": [
    "df[\"is_multi\"].value_counts(normalize=True)"
   ]
  },
  {
   "cell_type": "code",
   "execution_count": 44,
   "id": "4df556a1",
   "metadata": {},
   "outputs": [],
   "source": [
    "df.to_parquet(\"output/train.parquet\", index=False)"
   ]
  }
 ],
 "metadata": {
  "kernelspec": {
   "display_name": "Python 3",
   "language": "python",
   "name": "python3"
  },
  "language_info": {
   "codemirror_mode": {
    "name": "ipython",
    "version": 3
   },
   "file_extension": ".py",
   "mimetype": "text/x-python",
   "name": "python",
   "nbconvert_exporter": "python",
   "pygments_lexer": "ipython3",
   "version": "3.7.5"
  }
 },
 "nbformat": 4,
 "nbformat_minor": 5
}
