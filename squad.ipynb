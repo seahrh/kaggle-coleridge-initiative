{
 "cells": [
  {
   "cell_type": "code",
   "execution_count": 51,
   "id": "6852263f",
   "metadata": {},
   "outputs": [],
   "source": [
    "import json\n",
    "from pathlib import Path\n",
    "import numpy as np\n",
    "import pandas as pd\n",
    "from tqdm import tqdm"
   ]
  },
  {
   "cell_type": "code",
   "execution_count": 52,
   "id": "8ec36b1f",
   "metadata": {},
   "outputs": [],
   "source": [
    "def _read_squad(path):\n",
    "    path = Path(path)\n",
    "    squad_dict = None\n",
    "    with open(path) as f:\n",
    "        squad_dict = json.load(f)\n",
    "    rows = []\n",
    "    for group in tqdm(squad_dict['data']):\n",
    "        for passage in group['paragraphs']:\n",
    "            context = passage['context']\n",
    "            for qa in passage['qas']:\n",
    "                _id = qa[\"id\"]\n",
    "                is_impossible = qa[\"is_impossible\"]\n",
    "                question = qa['question']\n",
    "                for a in qa[\"answers\"]:\n",
    "                    row = {}\n",
    "                    row[\"id\"] = _id \n",
    "                    row[\"is_impossible\"] = is_impossible\n",
    "                    row[\"question\"] = question\n",
    "                    row[\"answer_start\"] = a[\"answer_start\"]\n",
    "                    i = row[\"answer_start\"]\n",
    "                    j = row[\"answer_start\"] + len(a[\"text\"])\n",
    "                    assert a[\"text\"] == context[i:j]\n",
    "                    row[\"answer_end\"] = j\n",
    "                    row[\"answer_text\"] = a[\"text\"]\n",
    "                    row[\"context\"] = context\n",
    "                    rows.append(row)\n",
    "                if \"plausible_answers\" in qa:\n",
    "                    for a in qa[\"plausible_answers\"]:\n",
    "                        row = {}\n",
    "                        row[\"id\"] = _id \n",
    "                        row[\"is_impossible\"] = is_impossible\n",
    "                        row[\"question\"] = question\n",
    "                        row[\"answer_start\"] = a[\"answer_start\"]\n",
    "                        i = row[\"answer_start\"]\n",
    "                        j = row[\"answer_start\"] + len(a[\"text\"])\n",
    "                        assert a[\"text\"] == context[i:j]\n",
    "                        row[\"answer_end\"] = j\n",
    "                        row[\"answer_text\"] = a[\"text\"]\n",
    "                        row[\"context\"] = context\n",
    "                        rows.append(row)\n",
    "    df = pd.DataFrame.from_records(rows)\n",
    "    df[\"answer_start\"] = df[\"answer_start\"].astype(np.int16)\n",
    "    df[\"answer_end\"] = df[\"answer_end\"].astype(np.int16)\n",
    "    df[\"is_impossible\"] = df[\"is_impossible\"].astype(np.int8)\n",
    "    return df"
   ]
  },
  {
   "cell_type": "code",
   "execution_count": 53,
   "id": "ef6b53b4",
   "metadata": {},
   "outputs": [
    {
     "name": "stderr",
     "output_type": "stream",
     "text": [
      "100%|██████████| 442/442 [00:00<00:00, 3563.47it/s]\n"
     ]
    }
   ],
   "source": [
    "df = _read_squad(\"input/squad/train-v2.0.json\")"
   ]
  },
  {
   "cell_type": "code",
   "execution_count": 54,
   "id": "7fe103e2",
   "metadata": {},
   "outputs": [
    {
     "name": "stdout",
     "output_type": "stream",
     "text": [
      "<class 'pandas.core.frame.DataFrame'>\n",
      "RangeIndex: 130319 entries, 0 to 130318\n",
      "Data columns (total 7 columns):\n",
      " #   Column         Non-Null Count   Dtype \n",
      "---  ------         --------------   ----- \n",
      " 0   id             130319 non-null  object\n",
      " 1   is_impossible  130319 non-null  int8  \n",
      " 2   question       130319 non-null  object\n",
      " 3   answer_start   130319 non-null  int16 \n",
      " 4   answer_end     130319 non-null  int16 \n",
      " 5   answer_text    130319 non-null  object\n",
      " 6   context        130319 non-null  object\n",
      "dtypes: int16(2), int8(1), object(4)\n",
      "memory usage: 4.6+ MB\n"
     ]
    }
   ],
   "source": [
    "df.info()"
   ]
  },
  {
   "cell_type": "code",
   "execution_count": 55,
   "id": "8f9b2cb9",
   "metadata": {},
   "outputs": [
    {
     "data": {
      "text/html": [
       "<div>\n",
       "<style scoped>\n",
       "    .dataframe tbody tr th:only-of-type {\n",
       "        vertical-align: middle;\n",
       "    }\n",
       "\n",
       "    .dataframe tbody tr th {\n",
       "        vertical-align: top;\n",
       "    }\n",
       "\n",
       "    .dataframe thead th {\n",
       "        text-align: right;\n",
       "    }\n",
       "</style>\n",
       "<table border=\"1\" class=\"dataframe\">\n",
       "  <thead>\n",
       "    <tr style=\"text-align: right;\">\n",
       "      <th></th>\n",
       "      <th>id</th>\n",
       "      <th>is_impossible</th>\n",
       "      <th>question</th>\n",
       "      <th>answer_start</th>\n",
       "      <th>answer_end</th>\n",
       "      <th>answer_text</th>\n",
       "      <th>context</th>\n",
       "    </tr>\n",
       "  </thead>\n",
       "  <tbody>\n",
       "    <tr>\n",
       "      <th>0</th>\n",
       "      <td>56be85543aeaaa14008c9063</td>\n",
       "      <td>0</td>\n",
       "      <td>When did Beyonce start becoming popular?</td>\n",
       "      <td>269</td>\n",
       "      <td>286</td>\n",
       "      <td>in the late 1990s</td>\n",
       "      <td>Beyoncé Giselle Knowles-Carter (/biːˈjɒnseɪ/ b...</td>\n",
       "    </tr>\n",
       "    <tr>\n",
       "      <th>1</th>\n",
       "      <td>56be85543aeaaa14008c9065</td>\n",
       "      <td>0</td>\n",
       "      <td>What areas did Beyonce compete in when she was...</td>\n",
       "      <td>207</td>\n",
       "      <td>226</td>\n",
       "      <td>singing and dancing</td>\n",
       "      <td>Beyoncé Giselle Knowles-Carter (/biːˈjɒnseɪ/ b...</td>\n",
       "    </tr>\n",
       "    <tr>\n",
       "      <th>2</th>\n",
       "      <td>56be85543aeaaa14008c9066</td>\n",
       "      <td>0</td>\n",
       "      <td>When did Beyonce leave Destiny's Child and bec...</td>\n",
       "      <td>526</td>\n",
       "      <td>530</td>\n",
       "      <td>2003</td>\n",
       "      <td>Beyoncé Giselle Knowles-Carter (/biːˈjɒnseɪ/ b...</td>\n",
       "    </tr>\n",
       "    <tr>\n",
       "      <th>3</th>\n",
       "      <td>56bf6b0f3aeaaa14008c9601</td>\n",
       "      <td>0</td>\n",
       "      <td>In what city and state did Beyonce  grow up?</td>\n",
       "      <td>166</td>\n",
       "      <td>180</td>\n",
       "      <td>Houston, Texas</td>\n",
       "      <td>Beyoncé Giselle Knowles-Carter (/biːˈjɒnseɪ/ b...</td>\n",
       "    </tr>\n",
       "    <tr>\n",
       "      <th>4</th>\n",
       "      <td>56bf6b0f3aeaaa14008c9602</td>\n",
       "      <td>0</td>\n",
       "      <td>In which decade did Beyonce become famous?</td>\n",
       "      <td>276</td>\n",
       "      <td>286</td>\n",
       "      <td>late 1990s</td>\n",
       "      <td>Beyoncé Giselle Knowles-Carter (/biːˈjɒnseɪ/ b...</td>\n",
       "    </tr>\n",
       "  </tbody>\n",
       "</table>\n",
       "</div>"
      ],
      "text/plain": [
       "                         id  is_impossible  \\\n",
       "0  56be85543aeaaa14008c9063              0   \n",
       "1  56be85543aeaaa14008c9065              0   \n",
       "2  56be85543aeaaa14008c9066              0   \n",
       "3  56bf6b0f3aeaaa14008c9601              0   \n",
       "4  56bf6b0f3aeaaa14008c9602              0   \n",
       "\n",
       "                                            question  answer_start  \\\n",
       "0           When did Beyonce start becoming popular?           269   \n",
       "1  What areas did Beyonce compete in when she was...           207   \n",
       "2  When did Beyonce leave Destiny's Child and bec...           526   \n",
       "3      In what city and state did Beyonce  grow up?            166   \n",
       "4         In which decade did Beyonce become famous?           276   \n",
       "\n",
       "   answer_end          answer_text  \\\n",
       "0         286    in the late 1990s   \n",
       "1         226  singing and dancing   \n",
       "2         530                 2003   \n",
       "3         180       Houston, Texas   \n",
       "4         286           late 1990s   \n",
       "\n",
       "                                             context  \n",
       "0  Beyoncé Giselle Knowles-Carter (/biːˈjɒnseɪ/ b...  \n",
       "1  Beyoncé Giselle Knowles-Carter (/biːˈjɒnseɪ/ b...  \n",
       "2  Beyoncé Giselle Knowles-Carter (/biːˈjɒnseɪ/ b...  \n",
       "3  Beyoncé Giselle Knowles-Carter (/biːˈjɒnseɪ/ b...  \n",
       "4  Beyoncé Giselle Knowles-Carter (/biːˈjɒnseɪ/ b...  "
      ]
     },
     "execution_count": 55,
     "metadata": {},
     "output_type": "execute_result"
    }
   ],
   "source": [
    "df.head()"
   ]
  },
  {
   "cell_type": "code",
   "execution_count": 56,
   "id": "7cdecccf",
   "metadata": {},
   "outputs": [
    {
     "data": {
      "text/plain": [
       "0    86821\n",
       "1    43498\n",
       "Name: is_impossible, dtype: int64"
      ]
     },
     "execution_count": 56,
     "metadata": {},
     "output_type": "execute_result"
    }
   ],
   "source": [
    "df[\"is_impossible\"].value_counts()"
   ]
  },
  {
   "cell_type": "code",
   "execution_count": 57,
   "id": "724e5796",
   "metadata": {},
   "outputs": [
    {
     "name": "stdout",
     "output_type": "stream",
     "text": [
      "CPU times: user 250 ms, sys: 234 ms, total: 484 ms\n",
      "Wall time: 498 ms\n"
     ]
    }
   ],
   "source": [
    "%%time\n",
    "df.to_parquet(\"output/squad/train.parquet\", index=False)"
   ]
  },
  {
   "cell_type": "code",
   "execution_count": 58,
   "id": "3337e200",
   "metadata": {},
   "outputs": [
    {
     "name": "stderr",
     "output_type": "stream",
     "text": [
      "100%|██████████| 35/35 [00:00<00:00, 1917.78it/s]\n"
     ]
    }
   ],
   "source": [
    "df = _read_squad(\"input/squad/dev-v2.0.json\")"
   ]
  },
  {
   "cell_type": "code",
   "execution_count": 59,
   "id": "c8637219",
   "metadata": {},
   "outputs": [
    {
     "name": "stdout",
     "output_type": "stream",
     "text": [
      "<class 'pandas.core.frame.DataFrame'>\n",
      "RangeIndex: 26232 entries, 0 to 26231\n",
      "Data columns (total 7 columns):\n",
      " #   Column         Non-Null Count  Dtype \n",
      "---  ------         --------------  ----- \n",
      " 0   id             26232 non-null  object\n",
      " 1   is_impossible  26232 non-null  int8  \n",
      " 2   question       26232 non-null  object\n",
      " 3   answer_start   26232 non-null  int16 \n",
      " 4   answer_end     26232 non-null  int16 \n",
      " 5   answer_text    26232 non-null  object\n",
      " 6   context        26232 non-null  object\n",
      "dtypes: int16(2), int8(1), object(4)\n",
      "memory usage: 948.0+ KB\n"
     ]
    }
   ],
   "source": [
    "df.info()"
   ]
  },
  {
   "cell_type": "code",
   "execution_count": 60,
   "id": "7a17c935",
   "metadata": {},
   "outputs": [
    {
     "data": {
      "text/html": [
       "<div>\n",
       "<style scoped>\n",
       "    .dataframe tbody tr th:only-of-type {\n",
       "        vertical-align: middle;\n",
       "    }\n",
       "\n",
       "    .dataframe tbody tr th {\n",
       "        vertical-align: top;\n",
       "    }\n",
       "\n",
       "    .dataframe thead th {\n",
       "        text-align: right;\n",
       "    }\n",
       "</style>\n",
       "<table border=\"1\" class=\"dataframe\">\n",
       "  <thead>\n",
       "    <tr style=\"text-align: right;\">\n",
       "      <th></th>\n",
       "      <th>id</th>\n",
       "      <th>is_impossible</th>\n",
       "      <th>question</th>\n",
       "      <th>answer_start</th>\n",
       "      <th>answer_end</th>\n",
       "      <th>answer_text</th>\n",
       "      <th>context</th>\n",
       "    </tr>\n",
       "  </thead>\n",
       "  <tbody>\n",
       "    <tr>\n",
       "      <th>0</th>\n",
       "      <td>56ddde6b9a695914005b9628</td>\n",
       "      <td>0</td>\n",
       "      <td>In what country is Normandy located?</td>\n",
       "      <td>159</td>\n",
       "      <td>165</td>\n",
       "      <td>France</td>\n",
       "      <td>The Normans (Norman: Nourmands; French: Norman...</td>\n",
       "    </tr>\n",
       "    <tr>\n",
       "      <th>1</th>\n",
       "      <td>56ddde6b9a695914005b9628</td>\n",
       "      <td>0</td>\n",
       "      <td>In what country is Normandy located?</td>\n",
       "      <td>159</td>\n",
       "      <td>165</td>\n",
       "      <td>France</td>\n",
       "      <td>The Normans (Norman: Nourmands; French: Norman...</td>\n",
       "    </tr>\n",
       "    <tr>\n",
       "      <th>2</th>\n",
       "      <td>56ddde6b9a695914005b9628</td>\n",
       "      <td>0</td>\n",
       "      <td>In what country is Normandy located?</td>\n",
       "      <td>159</td>\n",
       "      <td>165</td>\n",
       "      <td>France</td>\n",
       "      <td>The Normans (Norman: Nourmands; French: Norman...</td>\n",
       "    </tr>\n",
       "    <tr>\n",
       "      <th>3</th>\n",
       "      <td>56ddde6b9a695914005b9628</td>\n",
       "      <td>0</td>\n",
       "      <td>In what country is Normandy located?</td>\n",
       "      <td>159</td>\n",
       "      <td>165</td>\n",
       "      <td>France</td>\n",
       "      <td>The Normans (Norman: Nourmands; French: Norman...</td>\n",
       "    </tr>\n",
       "    <tr>\n",
       "      <th>4</th>\n",
       "      <td>56ddde6b9a695914005b9629</td>\n",
       "      <td>0</td>\n",
       "      <td>When were the Normans in Normandy?</td>\n",
       "      <td>94</td>\n",
       "      <td>117</td>\n",
       "      <td>10th and 11th centuries</td>\n",
       "      <td>The Normans (Norman: Nourmands; French: Norman...</td>\n",
       "    </tr>\n",
       "  </tbody>\n",
       "</table>\n",
       "</div>"
      ],
      "text/plain": [
       "                         id  is_impossible  \\\n",
       "0  56ddde6b9a695914005b9628              0   \n",
       "1  56ddde6b9a695914005b9628              0   \n",
       "2  56ddde6b9a695914005b9628              0   \n",
       "3  56ddde6b9a695914005b9628              0   \n",
       "4  56ddde6b9a695914005b9629              0   \n",
       "\n",
       "                               question  answer_start  answer_end  \\\n",
       "0  In what country is Normandy located?           159         165   \n",
       "1  In what country is Normandy located?           159         165   \n",
       "2  In what country is Normandy located?           159         165   \n",
       "3  In what country is Normandy located?           159         165   \n",
       "4    When were the Normans in Normandy?            94         117   \n",
       "\n",
       "               answer_text                                            context  \n",
       "0                   France  The Normans (Norman: Nourmands; French: Norman...  \n",
       "1                   France  The Normans (Norman: Nourmands; French: Norman...  \n",
       "2                   France  The Normans (Norman: Nourmands; French: Norman...  \n",
       "3                   France  The Normans (Norman: Nourmands; French: Norman...  \n",
       "4  10th and 11th centuries  The Normans (Norman: Nourmands; French: Norman...  "
      ]
     },
     "execution_count": 60,
     "metadata": {},
     "output_type": "execute_result"
    }
   ],
   "source": [
    "df.head()"
   ]
  },
  {
   "cell_type": "code",
   "execution_count": 61,
   "id": "04166797",
   "metadata": {},
   "outputs": [
    {
     "data": {
      "text/plain": [
       "0    20302\n",
       "1     5930\n",
       "Name: is_impossible, dtype: int64"
      ]
     },
     "execution_count": 61,
     "metadata": {},
     "output_type": "execute_result"
    }
   ],
   "source": [
    "df[\"is_impossible\"].value_counts()"
   ]
  },
  {
   "cell_type": "code",
   "execution_count": 62,
   "id": "caaf6a5b",
   "metadata": {},
   "outputs": [
    {
     "name": "stdout",
     "output_type": "stream",
     "text": [
      "CPU times: user 62.5 ms, sys: 31.2 ms, total: 93.8 ms\n",
      "Wall time: 74.8 ms\n"
     ]
    }
   ],
   "source": [
    "%%time\n",
    "df.to_parquet(\"output/squad/val.parquet\", index=False)"
   ]
  }
 ],
 "metadata": {
  "kernelspec": {
   "display_name": "Python 3",
   "language": "python",
   "name": "python3"
  },
  "language_info": {
   "codemirror_mode": {
    "name": "ipython",
    "version": 3
   },
   "file_extension": ".py",
   "mimetype": "text/x-python",
   "name": "python",
   "nbconvert_exporter": "python",
   "pygments_lexer": "ipython3",
   "version": "3.7.5"
  }
 },
 "nbformat": 4,
 "nbformat_minor": 5
}
