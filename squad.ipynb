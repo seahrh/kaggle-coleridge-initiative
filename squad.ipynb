{
 "cells": [
  {
   "cell_type": "code",
   "execution_count": 27,
   "id": "6852263f",
   "metadata": {},
   "outputs": [],
   "source": [
    "import json\n",
    "from pathlib import Path\n",
    "import numpy as np\n",
    "import pandas as pd\n",
    "from transformers import AutoTokenizer\n",
    "from tqdm import tqdm"
   ]
  },
  {
   "cell_type": "code",
   "execution_count": 28,
   "id": "f23cb0b3",
   "metadata": {},
   "outputs": [],
   "source": [
    "percentiles=[.01, .05, .1, .2, .3, .4, .5, .6, .7, .8, .9, .95, .99]\n",
    "pd.set_option(\"use_inf_as_na\", True)\n",
    "pd.set_option(\"max_info_columns\", 9999)\n",
    "pd.set_option(\"display.max_columns\", 9999)\n",
    "pd.set_option(\"display.max_rows\", 9999)\n",
    "pd.set_option('max_colwidth', 9999)\n",
    "tqdm.pandas()"
   ]
  },
  {
   "cell_type": "code",
   "execution_count": 29,
   "id": "8ec36b1f",
   "metadata": {},
   "outputs": [],
   "source": [
    "def _read_squad(path):\n",
    "    path = Path(path)\n",
    "    squad_dict = None\n",
    "    with open(path) as f:\n",
    "        squad_dict = json.load(f)\n",
    "    rows = []\n",
    "    for group in tqdm(squad_dict['data']):\n",
    "        for passage in group['paragraphs']:\n",
    "            context = passage['context']\n",
    "            for qa in passage['qas']:\n",
    "                _id = qa[\"id\"]\n",
    "                is_impossible = qa[\"is_impossible\"]\n",
    "                question = qa['question']\n",
    "                for a in qa[\"answers\"]:\n",
    "                    row = {}\n",
    "                    row[\"id\"] = _id \n",
    "                    row[\"is_impossible\"] = is_impossible\n",
    "                    row[\"question\"] = question\n",
    "                    row[\"answer_start\"] = a[\"answer_start\"]\n",
    "                    i = row[\"answer_start\"]\n",
    "                    j = row[\"answer_start\"] + len(a[\"text\"])\n",
    "                    assert a[\"text\"] == context[i:j]\n",
    "                    # first position which follows AFTER the answer span\n",
    "                    row[\"answer_end\"] = j\n",
    "                    row[\"answer_text\"] = a[\"text\"]\n",
    "                    row[\"context\"] = context\n",
    "                    rows.append(row)\n",
    "                if \"plausible_answers\" in qa:\n",
    "                    for a in qa[\"plausible_answers\"]:\n",
    "                        row = {}\n",
    "                        row[\"id\"] = _id \n",
    "                        row[\"is_impossible\"] = is_impossible\n",
    "                        row[\"question\"] = question\n",
    "                        row[\"answer_start\"] = a[\"answer_start\"]\n",
    "                        i = row[\"answer_start\"]\n",
    "                        j = row[\"answer_start\"] + len(a[\"text\"])\n",
    "                        assert a[\"text\"] == context[i:j]\n",
    "                        row[\"answer_end\"] = j\n",
    "                        row[\"answer_text\"] = a[\"text\"]\n",
    "                        row[\"context\"] = context\n",
    "                        rows.append(row)\n",
    "    df = pd.DataFrame.from_records(rows)\n",
    "    df[\"answer_start\"] = df[\"answer_start\"].astype(np.int16)\n",
    "    df[\"answer_end\"] = df[\"answer_end\"].astype(np.int16)\n",
    "    df[\"is_impossible\"] = df[\"is_impossible\"].astype(np.int8)\n",
    "    return df"
   ]
  },
  {
   "cell_type": "code",
   "execution_count": 30,
   "id": "ef6b53b4",
   "metadata": {},
   "outputs": [
    {
     "name": "stderr",
     "output_type": "stream",
     "text": [
      "100%|██████████| 442/442 [00:00<00:00, 2404.31it/s]\n"
     ]
    }
   ],
   "source": [
    "df = _read_squad(\"input/squad/train-v2.0.json\")"
   ]
  },
  {
   "cell_type": "code",
   "execution_count": 31,
   "id": "7fe103e2",
   "metadata": {},
   "outputs": [
    {
     "name": "stdout",
     "output_type": "stream",
     "text": [
      "<class 'pandas.core.frame.DataFrame'>\n",
      "RangeIndex: 130319 entries, 0 to 130318\n",
      "Data columns (total 7 columns):\n",
      " #   Column         Non-Null Count   Dtype \n",
      "---  ------         --------------   ----- \n",
      " 0   id             130319 non-null  object\n",
      " 1   is_impossible  130319 non-null  int8  \n",
      " 2   question       130319 non-null  object\n",
      " 3   answer_start   130319 non-null  int16 \n",
      " 4   answer_end     130319 non-null  int16 \n",
      " 5   answer_text    130319 non-null  object\n",
      " 6   context        130319 non-null  object\n",
      "dtypes: int16(2), int8(1), object(4)\n",
      "memory usage: 4.6+ MB\n"
     ]
    }
   ],
   "source": [
    "df.info()"
   ]
  },
  {
   "cell_type": "code",
   "execution_count": 32,
   "id": "8f9b2cb9",
   "metadata": {},
   "outputs": [
    {
     "data": {
      "text/html": [
       "<div>\n",
       "<style scoped>\n",
       "    .dataframe tbody tr th:only-of-type {\n",
       "        vertical-align: middle;\n",
       "    }\n",
       "\n",
       "    .dataframe tbody tr th {\n",
       "        vertical-align: top;\n",
       "    }\n",
       "\n",
       "    .dataframe thead th {\n",
       "        text-align: right;\n",
       "    }\n",
       "</style>\n",
       "<table border=\"1\" class=\"dataframe\">\n",
       "  <thead>\n",
       "    <tr style=\"text-align: right;\">\n",
       "      <th></th>\n",
       "      <th>id</th>\n",
       "      <th>is_impossible</th>\n",
       "      <th>question</th>\n",
       "      <th>answer_start</th>\n",
       "      <th>answer_end</th>\n",
       "      <th>answer_text</th>\n",
       "      <th>context</th>\n",
       "    </tr>\n",
       "  </thead>\n",
       "  <tbody>\n",
       "    <tr>\n",
       "      <th>0</th>\n",
       "      <td>56be85543aeaaa14008c9063</td>\n",
       "      <td>0</td>\n",
       "      <td>When did Beyonce start becoming popular?</td>\n",
       "      <td>269</td>\n",
       "      <td>286</td>\n",
       "      <td>in the late 1990s</td>\n",
       "      <td>Beyoncé Giselle Knowles-Carter (/biːˈjɒnseɪ/ bee-YON-say) (born September 4, 1981) is an American singer, songwriter, record producer and actress. Born and raised in Houston, Texas, she performed in various singing and dancing competitions as a child, and rose to fame in the late 1990s as lead singer of R&amp;B girl-group Destiny's Child. Managed by her father, Mathew Knowles, the group became one of the world's best-selling girl groups of all time. Their hiatus saw the release of Beyoncé's debut album, Dangerously in Love (2003), which established her as a solo artist worldwide, earned five Grammy Awards and featured the Billboard Hot 100 number-one singles \"Crazy in Love\" and \"Baby Boy\".</td>\n",
       "    </tr>\n",
       "    <tr>\n",
       "      <th>1</th>\n",
       "      <td>56be85543aeaaa14008c9065</td>\n",
       "      <td>0</td>\n",
       "      <td>What areas did Beyonce compete in when she was growing up?</td>\n",
       "      <td>207</td>\n",
       "      <td>226</td>\n",
       "      <td>singing and dancing</td>\n",
       "      <td>Beyoncé Giselle Knowles-Carter (/biːˈjɒnseɪ/ bee-YON-say) (born September 4, 1981) is an American singer, songwriter, record producer and actress. Born and raised in Houston, Texas, she performed in various singing and dancing competitions as a child, and rose to fame in the late 1990s as lead singer of R&amp;B girl-group Destiny's Child. Managed by her father, Mathew Knowles, the group became one of the world's best-selling girl groups of all time. Their hiatus saw the release of Beyoncé's debut album, Dangerously in Love (2003), which established her as a solo artist worldwide, earned five Grammy Awards and featured the Billboard Hot 100 number-one singles \"Crazy in Love\" and \"Baby Boy\".</td>\n",
       "    </tr>\n",
       "    <tr>\n",
       "      <th>2</th>\n",
       "      <td>56be85543aeaaa14008c9066</td>\n",
       "      <td>0</td>\n",
       "      <td>When did Beyonce leave Destiny's Child and become a solo singer?</td>\n",
       "      <td>526</td>\n",
       "      <td>530</td>\n",
       "      <td>2003</td>\n",
       "      <td>Beyoncé Giselle Knowles-Carter (/biːˈjɒnseɪ/ bee-YON-say) (born September 4, 1981) is an American singer, songwriter, record producer and actress. Born and raised in Houston, Texas, she performed in various singing and dancing competitions as a child, and rose to fame in the late 1990s as lead singer of R&amp;B girl-group Destiny's Child. Managed by her father, Mathew Knowles, the group became one of the world's best-selling girl groups of all time. Their hiatus saw the release of Beyoncé's debut album, Dangerously in Love (2003), which established her as a solo artist worldwide, earned five Grammy Awards and featured the Billboard Hot 100 number-one singles \"Crazy in Love\" and \"Baby Boy\".</td>\n",
       "    </tr>\n",
       "    <tr>\n",
       "      <th>3</th>\n",
       "      <td>56bf6b0f3aeaaa14008c9601</td>\n",
       "      <td>0</td>\n",
       "      <td>In what city and state did Beyonce  grow up?</td>\n",
       "      <td>166</td>\n",
       "      <td>180</td>\n",
       "      <td>Houston, Texas</td>\n",
       "      <td>Beyoncé Giselle Knowles-Carter (/biːˈjɒnseɪ/ bee-YON-say) (born September 4, 1981) is an American singer, songwriter, record producer and actress. Born and raised in Houston, Texas, she performed in various singing and dancing competitions as a child, and rose to fame in the late 1990s as lead singer of R&amp;B girl-group Destiny's Child. Managed by her father, Mathew Knowles, the group became one of the world's best-selling girl groups of all time. Their hiatus saw the release of Beyoncé's debut album, Dangerously in Love (2003), which established her as a solo artist worldwide, earned five Grammy Awards and featured the Billboard Hot 100 number-one singles \"Crazy in Love\" and \"Baby Boy\".</td>\n",
       "    </tr>\n",
       "    <tr>\n",
       "      <th>4</th>\n",
       "      <td>56bf6b0f3aeaaa14008c9602</td>\n",
       "      <td>0</td>\n",
       "      <td>In which decade did Beyonce become famous?</td>\n",
       "      <td>276</td>\n",
       "      <td>286</td>\n",
       "      <td>late 1990s</td>\n",
       "      <td>Beyoncé Giselle Knowles-Carter (/biːˈjɒnseɪ/ bee-YON-say) (born September 4, 1981) is an American singer, songwriter, record producer and actress. Born and raised in Houston, Texas, she performed in various singing and dancing competitions as a child, and rose to fame in the late 1990s as lead singer of R&amp;B girl-group Destiny's Child. Managed by her father, Mathew Knowles, the group became one of the world's best-selling girl groups of all time. Their hiatus saw the release of Beyoncé's debut album, Dangerously in Love (2003), which established her as a solo artist worldwide, earned five Grammy Awards and featured the Billboard Hot 100 number-one singles \"Crazy in Love\" and \"Baby Boy\".</td>\n",
       "    </tr>\n",
       "  </tbody>\n",
       "</table>\n",
       "</div>"
      ],
      "text/plain": [
       "                         id  is_impossible  \\\n",
       "0  56be85543aeaaa14008c9063              0   \n",
       "1  56be85543aeaaa14008c9065              0   \n",
       "2  56be85543aeaaa14008c9066              0   \n",
       "3  56bf6b0f3aeaaa14008c9601              0   \n",
       "4  56bf6b0f3aeaaa14008c9602              0   \n",
       "\n",
       "                                                           question  \\\n",
       "0                          When did Beyonce start becoming popular?   \n",
       "1        What areas did Beyonce compete in when she was growing up?   \n",
       "2  When did Beyonce leave Destiny's Child and become a solo singer?   \n",
       "3                     In what city and state did Beyonce  grow up?    \n",
       "4                        In which decade did Beyonce become famous?   \n",
       "\n",
       "   answer_start  answer_end          answer_text  \\\n",
       "0           269         286    in the late 1990s   \n",
       "1           207         226  singing and dancing   \n",
       "2           526         530                 2003   \n",
       "3           166         180       Houston, Texas   \n",
       "4           276         286           late 1990s   \n",
       "\n",
       "                                                                                                                                                                                                                                                                                                                                                                                                                                                                                                                                                                                                                                                                                                                  context  \n",
       "0  Beyoncé Giselle Knowles-Carter (/biːˈjɒnseɪ/ bee-YON-say) (born September 4, 1981) is an American singer, songwriter, record producer and actress. Born and raised in Houston, Texas, she performed in various singing and dancing competitions as a child, and rose to fame in the late 1990s as lead singer of R&B girl-group Destiny's Child. Managed by her father, Mathew Knowles, the group became one of the world's best-selling girl groups of all time. Their hiatus saw the release of Beyoncé's debut album, Dangerously in Love (2003), which established her as a solo artist worldwide, earned five Grammy Awards and featured the Billboard Hot 100 number-one singles \"Crazy in Love\" and \"Baby Boy\".  \n",
       "1  Beyoncé Giselle Knowles-Carter (/biːˈjɒnseɪ/ bee-YON-say) (born September 4, 1981) is an American singer, songwriter, record producer and actress. Born and raised in Houston, Texas, she performed in various singing and dancing competitions as a child, and rose to fame in the late 1990s as lead singer of R&B girl-group Destiny's Child. Managed by her father, Mathew Knowles, the group became one of the world's best-selling girl groups of all time. Their hiatus saw the release of Beyoncé's debut album, Dangerously in Love (2003), which established her as a solo artist worldwide, earned five Grammy Awards and featured the Billboard Hot 100 number-one singles \"Crazy in Love\" and \"Baby Boy\".  \n",
       "2  Beyoncé Giselle Knowles-Carter (/biːˈjɒnseɪ/ bee-YON-say) (born September 4, 1981) is an American singer, songwriter, record producer and actress. Born and raised in Houston, Texas, she performed in various singing and dancing competitions as a child, and rose to fame in the late 1990s as lead singer of R&B girl-group Destiny's Child. Managed by her father, Mathew Knowles, the group became one of the world's best-selling girl groups of all time. Their hiatus saw the release of Beyoncé's debut album, Dangerously in Love (2003), which established her as a solo artist worldwide, earned five Grammy Awards and featured the Billboard Hot 100 number-one singles \"Crazy in Love\" and \"Baby Boy\".  \n",
       "3  Beyoncé Giselle Knowles-Carter (/biːˈjɒnseɪ/ bee-YON-say) (born September 4, 1981) is an American singer, songwriter, record producer and actress. Born and raised in Houston, Texas, she performed in various singing and dancing competitions as a child, and rose to fame in the late 1990s as lead singer of R&B girl-group Destiny's Child. Managed by her father, Mathew Knowles, the group became one of the world's best-selling girl groups of all time. Their hiatus saw the release of Beyoncé's debut album, Dangerously in Love (2003), which established her as a solo artist worldwide, earned five Grammy Awards and featured the Billboard Hot 100 number-one singles \"Crazy in Love\" and \"Baby Boy\".  \n",
       "4  Beyoncé Giselle Knowles-Carter (/biːˈjɒnseɪ/ bee-YON-say) (born September 4, 1981) is an American singer, songwriter, record producer and actress. Born and raised in Houston, Texas, she performed in various singing and dancing competitions as a child, and rose to fame in the late 1990s as lead singer of R&B girl-group Destiny's Child. Managed by her father, Mathew Knowles, the group became one of the world's best-selling girl groups of all time. Their hiatus saw the release of Beyoncé's debut album, Dangerously in Love (2003), which established her as a solo artist worldwide, earned five Grammy Awards and featured the Billboard Hot 100 number-one singles \"Crazy in Love\" and \"Baby Boy\".  "
      ]
     },
     "execution_count": 32,
     "metadata": {},
     "output_type": "execute_result"
    }
   ],
   "source": [
    "df.head()"
   ]
  },
  {
   "cell_type": "code",
   "execution_count": 33,
   "id": "7cdecccf",
   "metadata": {},
   "outputs": [
    {
     "data": {
      "text/plain": [
       "0    86821\n",
       "1    43498\n",
       "Name: is_impossible, dtype: int64"
      ]
     },
     "execution_count": 33,
     "metadata": {},
     "output_type": "execute_result"
    }
   ],
   "source": [
    "df[\"is_impossible\"].value_counts()"
   ]
  },
  {
   "cell_type": "code",
   "execution_count": 34,
   "id": "02307c13",
   "metadata": {},
   "outputs": [
    {
     "data": {
      "text/html": [
       "<div>\n",
       "<style scoped>\n",
       "    .dataframe tbody tr th:only-of-type {\n",
       "        vertical-align: middle;\n",
       "    }\n",
       "\n",
       "    .dataframe tbody tr th {\n",
       "        vertical-align: top;\n",
       "    }\n",
       "\n",
       "    .dataframe thead th {\n",
       "        text-align: right;\n",
       "    }\n",
       "</style>\n",
       "<table border=\"1\" class=\"dataframe\">\n",
       "  <thead>\n",
       "    <tr style=\"text-align: right;\">\n",
       "      <th></th>\n",
       "      <th>id</th>\n",
       "      <th>is_impossible</th>\n",
       "      <th>question</th>\n",
       "      <th>answer_start</th>\n",
       "      <th>answer_end</th>\n",
       "      <th>answer_text</th>\n",
       "      <th>context</th>\n",
       "    </tr>\n",
       "  </thead>\n",
       "  <tbody>\n",
       "    <tr>\n",
       "      <th>2075</th>\n",
       "      <td>5a8d7bf7df8bba001a0f9ab1</td>\n",
       "      <td>1</td>\n",
       "      <td>What category of game is Legend of Zelda: Australia Twilight?</td>\n",
       "      <td>128</td>\n",
       "      <td>144</td>\n",
       "      <td>action-adventure</td>\n",
       "      <td>The Legend of Zelda: Twilight Princess (Japanese: ゼルダの伝説 トワイライトプリンセス, Hepburn: Zeruda no Densetsu: Towairaito Purinsesu?) is an action-adventure game developed and published by Nintendo for the GameCube and Wii home video game consoles. It is the thirteenth installment in the The Legend of Zelda series. Originally planned for release on the GameCube in November 2005, Twilight Princess was delayed by Nintendo to allow its developers to refine the game, add more content, and port it to the Wii. The Wii version was released alongside the console in North America in November 2006, and in Japan, Europe, and Australia the following month. The GameCube version was released worldwide in December 2006.[b]</td>\n",
       "    </tr>\n",
       "    <tr>\n",
       "      <th>2076</th>\n",
       "      <td>5a8d7bf7df8bba001a0f9ab2</td>\n",
       "      <td>1</td>\n",
       "      <td>What consoles can be used to play Australia Twilight?</td>\n",
       "      <td>194</td>\n",
       "      <td>210</td>\n",
       "      <td>GameCube and Wii</td>\n",
       "      <td>The Legend of Zelda: Twilight Princess (Japanese: ゼルダの伝説 トワイライトプリンセス, Hepburn: Zeruda no Densetsu: Towairaito Purinsesu?) is an action-adventure game developed and published by Nintendo for the GameCube and Wii home video game consoles. It is the thirteenth installment in the The Legend of Zelda series. Originally planned for release on the GameCube in November 2005, Twilight Princess was delayed by Nintendo to allow its developers to refine the game, add more content, and port it to the Wii. The Wii version was released alongside the console in North America in November 2006, and in Japan, Europe, and Australia the following month. The GameCube version was released worldwide in December 2006.[b]</td>\n",
       "    </tr>\n",
       "    <tr>\n",
       "      <th>2077</th>\n",
       "      <td>5a8d7bf7df8bba001a0f9ab3</td>\n",
       "      <td>1</td>\n",
       "      <td>When was Australia Twilight launched in North America?</td>\n",
       "      <td>569</td>\n",
       "      <td>582</td>\n",
       "      <td>November 2006</td>\n",
       "      <td>The Legend of Zelda: Twilight Princess (Japanese: ゼルダの伝説 トワイライトプリンセス, Hepburn: Zeruda no Densetsu: Towairaito Purinsesu?) is an action-adventure game developed and published by Nintendo for the GameCube and Wii home video game consoles. It is the thirteenth installment in the The Legend of Zelda series. Originally planned for release on the GameCube in November 2005, Twilight Princess was delayed by Nintendo to allow its developers to refine the game, add more content, and port it to the Wii. The Wii version was released alongside the console in North America in November 2006, and in Japan, Europe, and Australia the following month. The GameCube version was released worldwide in December 2006.[b]</td>\n",
       "    </tr>\n",
       "    <tr>\n",
       "      <th>2078</th>\n",
       "      <td>5a8d7bf7df8bba001a0f9ab4</td>\n",
       "      <td>1</td>\n",
       "      <td>When could GameCube owners purchase Australian Princess?</td>\n",
       "      <td>569</td>\n",
       "      <td>582</td>\n",
       "      <td>November 2006</td>\n",
       "      <td>The Legend of Zelda: Twilight Princess (Japanese: ゼルダの伝説 トワイライトプリンセス, Hepburn: Zeruda no Densetsu: Towairaito Purinsesu?) is an action-adventure game developed and published by Nintendo for the GameCube and Wii home video game consoles. It is the thirteenth installment in the The Legend of Zelda series. Originally planned for release on the GameCube in November 2005, Twilight Princess was delayed by Nintendo to allow its developers to refine the game, add more content, and port it to the Wii. The Wii version was released alongside the console in North America in November 2006, and in Japan, Europe, and Australia the following month. The GameCube version was released worldwide in December 2006.[b]</td>\n",
       "    </tr>\n",
       "    <tr>\n",
       "      <th>2079</th>\n",
       "      <td>5a8d7bf7df8bba001a0f9ab5</td>\n",
       "      <td>1</td>\n",
       "      <td>What year was the Legend of Zelda: Australian Princess originally planned for release?</td>\n",
       "      <td>364</td>\n",
       "      <td>368</td>\n",
       "      <td>2005</td>\n",
       "      <td>The Legend of Zelda: Twilight Princess (Japanese: ゼルダの伝説 トワイライトプリンセス, Hepburn: Zeruda no Densetsu: Towairaito Purinsesu?) is an action-adventure game developed and published by Nintendo for the GameCube and Wii home video game consoles. It is the thirteenth installment in the The Legend of Zelda series. Originally planned for release on the GameCube in November 2005, Twilight Princess was delayed by Nintendo to allow its developers to refine the game, add more content, and port it to the Wii. The Wii version was released alongside the console in North America in November 2006, and in Japan, Europe, and Australia the following month. The GameCube version was released worldwide in December 2006.[b]</td>\n",
       "    </tr>\n",
       "  </tbody>\n",
       "</table>\n",
       "</div>"
      ],
      "text/plain": [
       "                            id  is_impossible  \\\n",
       "2075  5a8d7bf7df8bba001a0f9ab1              1   \n",
       "2076  5a8d7bf7df8bba001a0f9ab2              1   \n",
       "2077  5a8d7bf7df8bba001a0f9ab3              1   \n",
       "2078  5a8d7bf7df8bba001a0f9ab4              1   \n",
       "2079  5a8d7bf7df8bba001a0f9ab5              1   \n",
       "\n",
       "                                                                                    question  \\\n",
       "2075                           What category of game is Legend of Zelda: Australia Twilight?   \n",
       "2076                                   What consoles can be used to play Australia Twilight?   \n",
       "2077                                  When was Australia Twilight launched in North America?   \n",
       "2078                                When could GameCube owners purchase Australian Princess?   \n",
       "2079  What year was the Legend of Zelda: Australian Princess originally planned for release?   \n",
       "\n",
       "      answer_start  answer_end       answer_text  \\\n",
       "2075           128         144  action-adventure   \n",
       "2076           194         210  GameCube and Wii   \n",
       "2077           569         582     November 2006   \n",
       "2078           569         582     November 2006   \n",
       "2079           364         368              2005   \n",
       "\n",
       "                                                                                                                                                                                                                                                                                                                                                                                                                                                                                                                                                                                                                                                                                                                                context  \n",
       "2075  The Legend of Zelda: Twilight Princess (Japanese: ゼルダの伝説 トワイライトプリンセス, Hepburn: Zeruda no Densetsu: Towairaito Purinsesu?) is an action-adventure game developed and published by Nintendo for the GameCube and Wii home video game consoles. It is the thirteenth installment in the The Legend of Zelda series. Originally planned for release on the GameCube in November 2005, Twilight Princess was delayed by Nintendo to allow its developers to refine the game, add more content, and port it to the Wii. The Wii version was released alongside the console in North America in November 2006, and in Japan, Europe, and Australia the following month. The GameCube version was released worldwide in December 2006.[b]  \n",
       "2076  The Legend of Zelda: Twilight Princess (Japanese: ゼルダの伝説 トワイライトプリンセス, Hepburn: Zeruda no Densetsu: Towairaito Purinsesu?) is an action-adventure game developed and published by Nintendo for the GameCube and Wii home video game consoles. It is the thirteenth installment in the The Legend of Zelda series. Originally planned for release on the GameCube in November 2005, Twilight Princess was delayed by Nintendo to allow its developers to refine the game, add more content, and port it to the Wii. The Wii version was released alongside the console in North America in November 2006, and in Japan, Europe, and Australia the following month. The GameCube version was released worldwide in December 2006.[b]  \n",
       "2077  The Legend of Zelda: Twilight Princess (Japanese: ゼルダの伝説 トワイライトプリンセス, Hepburn: Zeruda no Densetsu: Towairaito Purinsesu?) is an action-adventure game developed and published by Nintendo for the GameCube and Wii home video game consoles. It is the thirteenth installment in the The Legend of Zelda series. Originally planned for release on the GameCube in November 2005, Twilight Princess was delayed by Nintendo to allow its developers to refine the game, add more content, and port it to the Wii. The Wii version was released alongside the console in North America in November 2006, and in Japan, Europe, and Australia the following month. The GameCube version was released worldwide in December 2006.[b]  \n",
       "2078  The Legend of Zelda: Twilight Princess (Japanese: ゼルダの伝説 トワイライトプリンセス, Hepburn: Zeruda no Densetsu: Towairaito Purinsesu?) is an action-adventure game developed and published by Nintendo for the GameCube and Wii home video game consoles. It is the thirteenth installment in the The Legend of Zelda series. Originally planned for release on the GameCube in November 2005, Twilight Princess was delayed by Nintendo to allow its developers to refine the game, add more content, and port it to the Wii. The Wii version was released alongside the console in North America in November 2006, and in Japan, Europe, and Australia the following month. The GameCube version was released worldwide in December 2006.[b]  \n",
       "2079  The Legend of Zelda: Twilight Princess (Japanese: ゼルダの伝説 トワイライトプリンセス, Hepburn: Zeruda no Densetsu: Towairaito Purinsesu?) is an action-adventure game developed and published by Nintendo for the GameCube and Wii home video game consoles. It is the thirteenth installment in the The Legend of Zelda series. Originally planned for release on the GameCube in November 2005, Twilight Princess was delayed by Nintendo to allow its developers to refine the game, add more content, and port it to the Wii. The Wii version was released alongside the console in North America in November 2006, and in Japan, Europe, and Australia the following month. The GameCube version was released worldwide in December 2006.[b]  "
      ]
     },
     "execution_count": 34,
     "metadata": {},
     "output_type": "execute_result"
    }
   ],
   "source": [
    "df[df[\"is_impossible\"] == 1].head()"
   ]
  },
  {
   "cell_type": "code",
   "execution_count": 35,
   "id": "a91da7c3",
   "metadata": {},
   "outputs": [
    {
     "name": "stdout",
     "output_type": "stream",
     "text": [
      "CPU times: user 93.8 ms, sys: 0 ns, total: 93.8 ms\n",
      "Wall time: 84.2 ms\n"
     ]
    }
   ],
   "source": [
    "%%time\n",
    "df[\"cq_length\"] = df[\"context\"].str.len() + df[\"question\"].str.len() \n",
    "df[\"cq_length\"] = df[\"cq_length\"].astype(np.int16)"
   ]
  },
  {
   "cell_type": "code",
   "execution_count": 36,
   "id": "ec848e89",
   "metadata": {},
   "outputs": [
    {
     "name": "stdout",
     "output_type": "stream",
     "text": [
      "PreTrainedTokenizerFast(name_or_path='pretrained/google/electra-small-discriminator', vocab_size=30522, model_max_len=512, is_fast=True, padding_side='right', special_tokens={'unk_token': '[UNK]', 'sep_token': '[SEP]', 'pad_token': '[PAD]', 'cls_token': '[CLS]', 'mask_token': '[MASK]'})\n",
      "['input_ids', 'token_type_ids', 'attention_mask']\n"
     ]
    }
   ],
   "source": [
    "pretrained_dir = \"pretrained/google/electra-small-discriminator\"\n",
    "model_max_length = 512\n",
    "tokenizer = AutoTokenizer.from_pretrained(pretrained_dir, model_max_length=model_max_length)\n",
    "print(f\"{repr(tokenizer)}\\n{tokenizer.model_input_names}\")"
   ]
  },
  {
   "cell_type": "code",
   "execution_count": 37,
   "id": "424ccbc8",
   "metadata": {},
   "outputs": [
    {
     "name": "stderr",
     "output_type": "stream",
     "text": [
      "Token indices sequence length is longer than the specified maximum sequence length for this model (518 > 512). Running this sequence through the model will result in indexing errors\n"
     ]
    },
    {
     "name": "stdout",
     "output_type": "stream",
     "text": [
      "dict_keys(['input_ids', 'token_type_ids', 'attention_mask'])\n",
      "len=130319\n",
      "CPU times: user 55.2 s, sys: 5.23 s, total: 1min\n",
      "Wall time: 16.9 s\n"
     ]
    }
   ],
   "source": [
    "%%time\n",
    "enc = tokenizer(list(df[\"context\"]), list(df[\"question\"]))\n",
    "print(f\"{repr(enc.keys())}\\nlen={len(enc['input_ids'])}\")"
   ]
  },
  {
   "cell_type": "code",
   "execution_count": 38,
   "id": "a29d0a5e",
   "metadata": {},
   "outputs": [
    {
     "name": "stdout",
     "output_type": "stream",
     "text": [
      "CPU times: user 31.2 ms, sys: 0 ns, total: 31.2 ms\n",
      "Wall time: 34.3 ms\n"
     ]
    }
   ],
   "source": [
    "%%time\n",
    "df[\"cq_token_length\"] = [len(v) for v in enc[\"input_ids\"]]\n",
    "df[\"cq_token_length\"] = df[\"cq_token_length\"].astype(np.int16)"
   ]
  },
  {
   "cell_type": "code",
   "execution_count": 39,
   "id": "c95f8e0c",
   "metadata": {},
   "outputs": [
    {
     "data": {
      "text/plain": [
       "count      29.000000\n",
       "mean     2327.482759\n",
       "std       174.631167\n",
       "min      2174.000000\n",
       "1%       2174.000000\n",
       "5%       2174.400000\n",
       "10%      2175.000000\n",
       "20%      2187.600000\n",
       "30%      2229.800000\n",
       "40%      2238.000000\n",
       "50%      2272.000000\n",
       "60%      2287.600000\n",
       "70%      2295.000000\n",
       "80%      2496.000000\n",
       "90%      2571.200000\n",
       "95%      2715.200000\n",
       "99%      2741.600000\n",
       "max      2750.000000\n",
       "Name: cq_length, dtype: float64"
      ]
     },
     "execution_count": 39,
     "metadata": {},
     "output_type": "execute_result"
    }
   ],
   "source": [
    "index = df[(df[\"cq_token_length\"] > 499) & (df[\"cq_token_length\"] <= 512)].index\n",
    "df.loc[index, \"cq_length\"].describe(percentiles=percentiles)"
   ]
  },
  {
   "cell_type": "code",
   "execution_count": 40,
   "id": "0234b3e3",
   "metadata": {},
   "outputs": [
    {
     "data": {
      "text/plain": [
       "count    2394.000000\n",
       "mean     1185.904344\n",
       "std       108.709116\n",
       "min       678.000000\n",
       "1%        854.930000\n",
       "5%       1000.000000\n",
       "10%      1052.300000\n",
       "20%      1107.600000\n",
       "30%      1144.000000\n",
       "40%      1169.000000\n",
       "50%      1191.500000\n",
       "60%      1216.800000\n",
       "70%      1243.000000\n",
       "80%      1278.000000\n",
       "90%      1314.700000\n",
       "95%      1346.350000\n",
       "99%      1397.140000\n",
       "max      1465.000000\n",
       "Name: cq_length, dtype: float64"
      ]
     },
     "execution_count": 40,
     "metadata": {},
     "output_type": "execute_result"
    }
   ],
   "source": [
    "index = df[(df[\"cq_token_length\"] > 246) & (df[\"cq_token_length\"] <= 256)].index\n",
    "df.loc[index, \"cq_length\"].describe(percentiles=percentiles)"
   ]
  },
  {
   "cell_type": "code",
   "execution_count": 41,
   "id": "9bd1fe34",
   "metadata": {},
   "outputs": [
    {
     "data": {
      "text/plain": [
       "count    10876.000000\n",
       "mean       607.685546\n",
       "std         46.221126\n",
       "min        332.000000\n",
       "1%         485.000000\n",
       "5%         543.000000\n",
       "10%        556.000000\n",
       "20%        572.000000\n",
       "30%        584.000000\n",
       "40%        595.000000\n",
       "50%        606.000000\n",
       "60%        617.000000\n",
       "70%        629.000000\n",
       "80%        644.000000\n",
       "90%        666.000000\n",
       "95%        685.000000\n",
       "99%        723.000000\n",
       "max        796.000000\n",
       "Name: cq_length, dtype: float64"
      ]
     },
     "execution_count": 41,
     "metadata": {},
     "output_type": "execute_result"
    }
   ],
   "source": [
    "index = df[(df[\"cq_token_length\"] > 118) & (df[\"cq_token_length\"] <= 128)].index\n",
    "df.loc[index, \"cq_length\"].describe(percentiles=percentiles)"
   ]
  },
  {
   "cell_type": "code",
   "execution_count": 42,
   "id": "724e5796",
   "metadata": {},
   "outputs": [
    {
     "name": "stdout",
     "output_type": "stream",
     "text": [
      "CPU times: user 266 ms, sys: 266 ms, total: 531 ms\n",
      "Wall time: 790 ms\n"
     ]
    }
   ],
   "source": [
    "%%time\n",
    "df.to_parquet(\"output/squad/train.parquet\", index=False)"
   ]
  },
  {
   "cell_type": "code",
   "execution_count": 43,
   "id": "3337e200",
   "metadata": {},
   "outputs": [
    {
     "name": "stderr",
     "output_type": "stream",
     "text": [
      "100%|██████████| 35/35 [00:00<00:00, 56.97it/s]\n"
     ]
    }
   ],
   "source": [
    "df = _read_squad(\"input/squad/dev-v2.0.json\")"
   ]
  },
  {
   "cell_type": "code",
   "execution_count": 44,
   "id": "c8637219",
   "metadata": {},
   "outputs": [
    {
     "name": "stdout",
     "output_type": "stream",
     "text": [
      "<class 'pandas.core.frame.DataFrame'>\n",
      "RangeIndex: 26232 entries, 0 to 26231\n",
      "Data columns (total 7 columns):\n",
      " #   Column         Non-Null Count  Dtype \n",
      "---  ------         --------------  ----- \n",
      " 0   id             26232 non-null  object\n",
      " 1   is_impossible  26232 non-null  int8  \n",
      " 2   question       26232 non-null  object\n",
      " 3   answer_start   26232 non-null  int16 \n",
      " 4   answer_end     26232 non-null  int16 \n",
      " 5   answer_text    26232 non-null  object\n",
      " 6   context        26232 non-null  object\n",
      "dtypes: int16(2), int8(1), object(4)\n",
      "memory usage: 948.0+ KB\n"
     ]
    }
   ],
   "source": [
    "df.info()"
   ]
  },
  {
   "cell_type": "code",
   "execution_count": 45,
   "id": "7a17c935",
   "metadata": {},
   "outputs": [
    {
     "data": {
      "text/html": [
       "<div>\n",
       "<style scoped>\n",
       "    .dataframe tbody tr th:only-of-type {\n",
       "        vertical-align: middle;\n",
       "    }\n",
       "\n",
       "    .dataframe tbody tr th {\n",
       "        vertical-align: top;\n",
       "    }\n",
       "\n",
       "    .dataframe thead th {\n",
       "        text-align: right;\n",
       "    }\n",
       "</style>\n",
       "<table border=\"1\" class=\"dataframe\">\n",
       "  <thead>\n",
       "    <tr style=\"text-align: right;\">\n",
       "      <th></th>\n",
       "      <th>id</th>\n",
       "      <th>is_impossible</th>\n",
       "      <th>question</th>\n",
       "      <th>answer_start</th>\n",
       "      <th>answer_end</th>\n",
       "      <th>answer_text</th>\n",
       "      <th>context</th>\n",
       "    </tr>\n",
       "  </thead>\n",
       "  <tbody>\n",
       "    <tr>\n",
       "      <th>0</th>\n",
       "      <td>56ddde6b9a695914005b9628</td>\n",
       "      <td>0</td>\n",
       "      <td>In what country is Normandy located?</td>\n",
       "      <td>159</td>\n",
       "      <td>165</td>\n",
       "      <td>France</td>\n",
       "      <td>The Normans (Norman: Nourmands; French: Normands; Latin: Normanni) were the people who in the 10th and 11th centuries gave their name to Normandy, a region in France. They were descended from Norse (\"Norman\" comes from \"Norseman\") raiders and pirates from Denmark, Iceland and Norway who, under their leader Rollo, agreed to swear fealty to King Charles III of West Francia. Through generations of assimilation and mixing with the native Frankish and Roman-Gaulish populations, their descendants would gradually merge with the Carolingian-based cultures of West Francia. The distinct cultural and ethnic identity of the Normans emerged initially in the first half of the 10th century, and it continued to evolve over the succeeding centuries.</td>\n",
       "    </tr>\n",
       "    <tr>\n",
       "      <th>1</th>\n",
       "      <td>56ddde6b9a695914005b9628</td>\n",
       "      <td>0</td>\n",
       "      <td>In what country is Normandy located?</td>\n",
       "      <td>159</td>\n",
       "      <td>165</td>\n",
       "      <td>France</td>\n",
       "      <td>The Normans (Norman: Nourmands; French: Normands; Latin: Normanni) were the people who in the 10th and 11th centuries gave their name to Normandy, a region in France. They were descended from Norse (\"Norman\" comes from \"Norseman\") raiders and pirates from Denmark, Iceland and Norway who, under their leader Rollo, agreed to swear fealty to King Charles III of West Francia. Through generations of assimilation and mixing with the native Frankish and Roman-Gaulish populations, their descendants would gradually merge with the Carolingian-based cultures of West Francia. The distinct cultural and ethnic identity of the Normans emerged initially in the first half of the 10th century, and it continued to evolve over the succeeding centuries.</td>\n",
       "    </tr>\n",
       "    <tr>\n",
       "      <th>2</th>\n",
       "      <td>56ddde6b9a695914005b9628</td>\n",
       "      <td>0</td>\n",
       "      <td>In what country is Normandy located?</td>\n",
       "      <td>159</td>\n",
       "      <td>165</td>\n",
       "      <td>France</td>\n",
       "      <td>The Normans (Norman: Nourmands; French: Normands; Latin: Normanni) were the people who in the 10th and 11th centuries gave their name to Normandy, a region in France. They were descended from Norse (\"Norman\" comes from \"Norseman\") raiders and pirates from Denmark, Iceland and Norway who, under their leader Rollo, agreed to swear fealty to King Charles III of West Francia. Through generations of assimilation and mixing with the native Frankish and Roman-Gaulish populations, their descendants would gradually merge with the Carolingian-based cultures of West Francia. The distinct cultural and ethnic identity of the Normans emerged initially in the first half of the 10th century, and it continued to evolve over the succeeding centuries.</td>\n",
       "    </tr>\n",
       "    <tr>\n",
       "      <th>3</th>\n",
       "      <td>56ddde6b9a695914005b9628</td>\n",
       "      <td>0</td>\n",
       "      <td>In what country is Normandy located?</td>\n",
       "      <td>159</td>\n",
       "      <td>165</td>\n",
       "      <td>France</td>\n",
       "      <td>The Normans (Norman: Nourmands; French: Normands; Latin: Normanni) were the people who in the 10th and 11th centuries gave their name to Normandy, a region in France. They were descended from Norse (\"Norman\" comes from \"Norseman\") raiders and pirates from Denmark, Iceland and Norway who, under their leader Rollo, agreed to swear fealty to King Charles III of West Francia. Through generations of assimilation and mixing with the native Frankish and Roman-Gaulish populations, their descendants would gradually merge with the Carolingian-based cultures of West Francia. The distinct cultural and ethnic identity of the Normans emerged initially in the first half of the 10th century, and it continued to evolve over the succeeding centuries.</td>\n",
       "    </tr>\n",
       "    <tr>\n",
       "      <th>4</th>\n",
       "      <td>56ddde6b9a695914005b9629</td>\n",
       "      <td>0</td>\n",
       "      <td>When were the Normans in Normandy?</td>\n",
       "      <td>94</td>\n",
       "      <td>117</td>\n",
       "      <td>10th and 11th centuries</td>\n",
       "      <td>The Normans (Norman: Nourmands; French: Normands; Latin: Normanni) were the people who in the 10th and 11th centuries gave their name to Normandy, a region in France. They were descended from Norse (\"Norman\" comes from \"Norseman\") raiders and pirates from Denmark, Iceland and Norway who, under their leader Rollo, agreed to swear fealty to King Charles III of West Francia. Through generations of assimilation and mixing with the native Frankish and Roman-Gaulish populations, their descendants would gradually merge with the Carolingian-based cultures of West Francia. The distinct cultural and ethnic identity of the Normans emerged initially in the first half of the 10th century, and it continued to evolve over the succeeding centuries.</td>\n",
       "    </tr>\n",
       "  </tbody>\n",
       "</table>\n",
       "</div>"
      ],
      "text/plain": [
       "                         id  is_impossible  \\\n",
       "0  56ddde6b9a695914005b9628              0   \n",
       "1  56ddde6b9a695914005b9628              0   \n",
       "2  56ddde6b9a695914005b9628              0   \n",
       "3  56ddde6b9a695914005b9628              0   \n",
       "4  56ddde6b9a695914005b9629              0   \n",
       "\n",
       "                               question  answer_start  answer_end  \\\n",
       "0  In what country is Normandy located?           159         165   \n",
       "1  In what country is Normandy located?           159         165   \n",
       "2  In what country is Normandy located?           159         165   \n",
       "3  In what country is Normandy located?           159         165   \n",
       "4    When were the Normans in Normandy?            94         117   \n",
       "\n",
       "               answer_text  \\\n",
       "0                   France   \n",
       "1                   France   \n",
       "2                   France   \n",
       "3                   France   \n",
       "4  10th and 11th centuries   \n",
       "\n",
       "                                                                                                                                                                                                                                                                                                                                                                                                                                                                                                                                                                                                                                                                                                                                                                  context  \n",
       "0  The Normans (Norman: Nourmands; French: Normands; Latin: Normanni) were the people who in the 10th and 11th centuries gave their name to Normandy, a region in France. They were descended from Norse (\"Norman\" comes from \"Norseman\") raiders and pirates from Denmark, Iceland and Norway who, under their leader Rollo, agreed to swear fealty to King Charles III of West Francia. Through generations of assimilation and mixing with the native Frankish and Roman-Gaulish populations, their descendants would gradually merge with the Carolingian-based cultures of West Francia. The distinct cultural and ethnic identity of the Normans emerged initially in the first half of the 10th century, and it continued to evolve over the succeeding centuries.  \n",
       "1  The Normans (Norman: Nourmands; French: Normands; Latin: Normanni) were the people who in the 10th and 11th centuries gave their name to Normandy, a region in France. They were descended from Norse (\"Norman\" comes from \"Norseman\") raiders and pirates from Denmark, Iceland and Norway who, under their leader Rollo, agreed to swear fealty to King Charles III of West Francia. Through generations of assimilation and mixing with the native Frankish and Roman-Gaulish populations, their descendants would gradually merge with the Carolingian-based cultures of West Francia. The distinct cultural and ethnic identity of the Normans emerged initially in the first half of the 10th century, and it continued to evolve over the succeeding centuries.  \n",
       "2  The Normans (Norman: Nourmands; French: Normands; Latin: Normanni) were the people who in the 10th and 11th centuries gave their name to Normandy, a region in France. They were descended from Norse (\"Norman\" comes from \"Norseman\") raiders and pirates from Denmark, Iceland and Norway who, under their leader Rollo, agreed to swear fealty to King Charles III of West Francia. Through generations of assimilation and mixing with the native Frankish and Roman-Gaulish populations, their descendants would gradually merge with the Carolingian-based cultures of West Francia. The distinct cultural and ethnic identity of the Normans emerged initially in the first half of the 10th century, and it continued to evolve over the succeeding centuries.  \n",
       "3  The Normans (Norman: Nourmands; French: Normands; Latin: Normanni) were the people who in the 10th and 11th centuries gave their name to Normandy, a region in France. They were descended from Norse (\"Norman\" comes from \"Norseman\") raiders and pirates from Denmark, Iceland and Norway who, under their leader Rollo, agreed to swear fealty to King Charles III of West Francia. Through generations of assimilation and mixing with the native Frankish and Roman-Gaulish populations, their descendants would gradually merge with the Carolingian-based cultures of West Francia. The distinct cultural and ethnic identity of the Normans emerged initially in the first half of the 10th century, and it continued to evolve over the succeeding centuries.  \n",
       "4  The Normans (Norman: Nourmands; French: Normands; Latin: Normanni) were the people who in the 10th and 11th centuries gave their name to Normandy, a region in France. They were descended from Norse (\"Norman\" comes from \"Norseman\") raiders and pirates from Denmark, Iceland and Norway who, under their leader Rollo, agreed to swear fealty to King Charles III of West Francia. Through generations of assimilation and mixing with the native Frankish and Roman-Gaulish populations, their descendants would gradually merge with the Carolingian-based cultures of West Francia. The distinct cultural and ethnic identity of the Normans emerged initially in the first half of the 10th century, and it continued to evolve over the succeeding centuries.  "
      ]
     },
     "execution_count": 45,
     "metadata": {},
     "output_type": "execute_result"
    }
   ],
   "source": [
    "df.head()"
   ]
  },
  {
   "cell_type": "code",
   "execution_count": 46,
   "id": "04166797",
   "metadata": {},
   "outputs": [
    {
     "data": {
      "text/plain": [
       "0    20302\n",
       "1     5930\n",
       "Name: is_impossible, dtype: int64"
      ]
     },
     "execution_count": 46,
     "metadata": {},
     "output_type": "execute_result"
    }
   ],
   "source": [
    "df[\"is_impossible\"].value_counts()"
   ]
  },
  {
   "cell_type": "code",
   "execution_count": 47,
   "id": "434ca878",
   "metadata": {},
   "outputs": [
    {
     "name": "stdout",
     "output_type": "stream",
     "text": [
      "CPU times: user 0 ns, sys: 0 ns, total: 0 ns\n",
      "Wall time: 15.2 ms\n"
     ]
    }
   ],
   "source": [
    "%%time\n",
    "df[\"cq_length\"] = df[\"context\"].str.len() + df[\"question\"].str.len() \n",
    "df[\"cq_length\"] = df[\"cq_length\"].astype(np.int16)"
   ]
  },
  {
   "cell_type": "code",
   "execution_count": 48,
   "id": "af1ad651",
   "metadata": {},
   "outputs": [
    {
     "name": "stdout",
     "output_type": "stream",
     "text": [
      "dict_keys(['input_ids', 'token_type_ids', 'attention_mask'])\n",
      "len=26232\n",
      "CPU times: user 13.2 s, sys: 46.9 ms, total: 13.2 s\n",
      "Wall time: 4.24 s\n"
     ]
    }
   ],
   "source": [
    "%%time\n",
    "enc = tokenizer(list(df[\"context\"]), list(df[\"question\"]))\n",
    "print(f\"{repr(enc.keys())}\\nlen={len(enc['input_ids'])}\")"
   ]
  },
  {
   "cell_type": "code",
   "execution_count": 49,
   "id": "ad697b69",
   "metadata": {},
   "outputs": [
    {
     "name": "stdout",
     "output_type": "stream",
     "text": [
      "CPU times: user 15.6 ms, sys: 0 ns, total: 15.6 ms\n",
      "Wall time: 9.61 ms\n"
     ]
    }
   ],
   "source": [
    "%%time\n",
    "df[\"cq_token_length\"] = [len(v) for v in enc[\"input_ids\"]]\n",
    "df[\"cq_token_length\"] = df[\"cq_token_length\"].astype(np.int16)"
   ]
  },
  {
   "cell_type": "code",
   "execution_count": 50,
   "id": "49655799",
   "metadata": {},
   "outputs": [
    {
     "data": {
      "text/plain": [
       "count      11.000000\n",
       "mean     2491.909091\n",
       "std        50.020905\n",
       "min      2421.000000\n",
       "1%       2421.000000\n",
       "5%       2421.000000\n",
       "10%      2421.000000\n",
       "20%      2421.000000\n",
       "30%      2495.000000\n",
       "40%      2500.000000\n",
       "50%      2500.000000\n",
       "60%      2500.000000\n",
       "70%      2509.000000\n",
       "80%      2548.000000\n",
       "90%      2548.000000\n",
       "95%      2548.000000\n",
       "99%      2548.000000\n",
       "max      2548.000000\n",
       "Name: cq_length, dtype: float64"
      ]
     },
     "execution_count": 50,
     "metadata": {},
     "output_type": "execute_result"
    }
   ],
   "source": [
    "index = df[(df[\"cq_token_length\"] > 499) & (df[\"cq_token_length\"] <= 512)].index\n",
    "df.loc[index, \"cq_length\"].describe(percentiles=percentiles)"
   ]
  },
  {
   "cell_type": "code",
   "execution_count": 51,
   "id": "156a6500",
   "metadata": {},
   "outputs": [
    {
     "data": {
      "text/plain": [
       "count     559.000000\n",
       "mean     1177.529517\n",
       "std       102.572968\n",
       "min       917.000000\n",
       "1%        930.000000\n",
       "5%        967.000000\n",
       "10%      1042.000000\n",
       "20%      1121.000000\n",
       "30%      1134.000000\n",
       "40%      1154.000000\n",
       "50%      1176.000000\n",
       "60%      1224.000000\n",
       "70%      1244.000000\n",
       "80%      1269.000000\n",
       "90%      1304.000000\n",
       "95%      1334.000000\n",
       "99%      1361.000000\n",
       "max      1368.000000\n",
       "Name: cq_length, dtype: float64"
      ]
     },
     "execution_count": 51,
     "metadata": {},
     "output_type": "execute_result"
    }
   ],
   "source": [
    "index = df[(df[\"cq_token_length\"] > 246) & (df[\"cq_token_length\"] <= 256)].index\n",
    "df.loc[index, \"cq_length\"].describe(percentiles=percentiles)"
   ]
  },
  {
   "cell_type": "code",
   "execution_count": 52,
   "id": "8a477ff0",
   "metadata": {},
   "outputs": [
    {
     "data": {
      "text/plain": [
       "count    2043.000000\n",
       "mean      616.722467\n",
       "std        42.649057\n",
       "min       502.000000\n",
       "1%        540.000000\n",
       "5%        555.000000\n",
       "10%       564.200000\n",
       "20%       579.000000\n",
       "30%       589.000000\n",
       "40%       601.000000\n",
       "50%       612.000000\n",
       "60%       625.000000\n",
       "70%       639.000000\n",
       "80%       656.000000\n",
       "90%       674.000000\n",
       "95%       691.000000\n",
       "99%       714.000000\n",
       "max       769.000000\n",
       "Name: cq_length, dtype: float64"
      ]
     },
     "execution_count": 52,
     "metadata": {},
     "output_type": "execute_result"
    }
   ],
   "source": [
    "index = df[(df[\"cq_token_length\"] > 118) & (df[\"cq_token_length\"] <= 128)].index\n",
    "df.loc[index, \"cq_length\"].describe(percentiles=percentiles)"
   ]
  },
  {
   "cell_type": "code",
   "execution_count": 53,
   "id": "caaf6a5b",
   "metadata": {},
   "outputs": [
    {
     "name": "stdout",
     "output_type": "stream",
     "text": [
      "CPU times: user 31.2 ms, sys: 31.2 ms, total: 62.5 ms\n",
      "Wall time: 87.8 ms\n"
     ]
    }
   ],
   "source": [
    "%%time\n",
    "df.to_parquet(\"output/squad/val.parquet\", index=False)"
   ]
  }
 ],
 "metadata": {
  "kernelspec": {
   "display_name": "Python 3",
   "language": "python",
   "name": "python3"
  },
  "language_info": {
   "codemirror_mode": {
    "name": "ipython",
    "version": 3
   },
   "file_extension": ".py",
   "mimetype": "text/x-python",
   "name": "python",
   "nbconvert_exporter": "python",
   "pygments_lexer": "ipython3",
   "version": "3.7.5"
  }
 },
 "nbformat": 4,
 "nbformat_minor": 5
}
