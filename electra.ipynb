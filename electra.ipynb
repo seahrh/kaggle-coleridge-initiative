{
 "cells": [
  {
   "cell_type": "code",
   "execution_count": 204,
   "id": "73c7c97a",
   "metadata": {},
   "outputs": [],
   "source": [
    "import numpy as np\n",
    "import pandas as pd\n",
    "import tensorflow as tf\n",
    "from tensorflow import keras\n",
    "from transformers import AutoTokenizer, TFAutoModelForQuestionAnswering\n",
    "from tqdm import tqdm"
   ]
  },
  {
   "cell_type": "code",
   "execution_count": 205,
   "id": "3f2d489d",
   "metadata": {},
   "outputs": [],
   "source": [
    "pd.set_option(\"use_inf_as_na\", True)\n",
    "pd.set_option(\"max_info_columns\", 9999)\n",
    "pd.set_option(\"display.max_columns\", 9999)\n",
    "pd.set_option(\"display.max_rows\", 9999)\n",
    "pd.set_option('max_colwidth', 9999)"
   ]
  },
  {
   "cell_type": "code",
   "execution_count": 206,
   "id": "3e7c08c6",
   "metadata": {},
   "outputs": [
    {
     "name": "stdout",
     "output_type": "stream",
     "text": [
      "PreTrainedTokenizerFast(name_or_path='pretrained/google/electra-small-discriminator', vocab_size=30522, model_max_len=1000000000000000019884624838656, is_fast=True, padding_side='right', special_tokens={'unk_token': '[UNK]', 'sep_token': '[SEP]', 'pad_token': '[PAD]', 'cls_token': '[CLS]', 'mask_token': '[MASK]'})\n",
      "model_input_names=['input_ids', 'token_type_ids', 'attention_mask']\n",
      "\n",
      "CPU times: user 31.2 ms, sys: 0 ns, total: 31.2 ms\n",
      "Wall time: 22.9 ms\n"
     ]
    }
   ],
   "source": [
    "%%time\n",
    "model_dir = \"pretrained/google/electra-small-discriminator\"\n",
    "tokenizer = AutoTokenizer.from_pretrained(model_dir)\n",
    "print(f\"\"\"{repr(tokenizer)}\n",
    "model_input_names={repr(tokenizer.model_input_names)}\n",
    "\"\"\")"
   ]
  },
  {
   "cell_type": "code",
   "execution_count": 207,
   "id": "56e65d20",
   "metadata": {},
   "outputs": [
    {
     "name": "stdout",
     "output_type": "stream",
     "text": [
      "<class 'pandas.core.frame.DataFrame'>\n",
      "RangeIndex: 130319 entries, 0 to 130318\n",
      "Data columns (total 7 columns):\n",
      " #   Column         Non-Null Count   Dtype \n",
      "---  ------         --------------   ----- \n",
      " 0   id             130319 non-null  object\n",
      " 1   is_impossible  130319 non-null  int8  \n",
      " 2   question       130319 non-null  object\n",
      " 3   answer_start   130319 non-null  int16 \n",
      " 4   answer_end     130319 non-null  int16 \n",
      " 5   answer_text    130319 non-null  object\n",
      " 6   context        130319 non-null  object\n",
      "dtypes: int16(2), int8(1), object(4)\n",
      "memory usage: 4.6+ MB\n"
     ]
    }
   ],
   "source": [
    "train = pd.read_parquet(\"input/squad/train.parquet\")\n",
    "train.info()"
   ]
  },
  {
   "cell_type": "code",
   "execution_count": 208,
   "id": "8eb14e67",
   "metadata": {},
   "outputs": [],
   "source": [
    "def preprocess(df, tokenizer):\n",
    "    def _gen():\n",
    "        for t in df.itertuples():\n",
    "            q = getattr(t, \"question\")\n",
    "            c = getattr(t, \"context\")\n",
    "            inputs = tokenizer(q, c, max_length=512, truncation=False, return_tensors=\"np\")\n",
    "            answer_start, answer_end = 0, 0\n",
    "            if getattr(t, \"is_impossible\") == 0:\n",
    "                pass\n",
    "            yield (\n",
    "                {\n",
    "                    \"input_ids\": inputs[\"input_ids\"][0],\n",
    "                    \"attention_mask\": inputs[\"attention_mask\"][0],\n",
    "                },\n",
    "                (answer_start, answer_end,)\n",
    "            )\n",
    "    \n",
    "    return tf.data.Dataset.from_generator(\n",
    "        _gen,\n",
    "        output_signature=(\n",
    "            {\n",
    "                \"input_ids\": tf.TensorSpec(shape=[None], dtype=tf.int32),\n",
    "                \"token_type_ids\": tf.TensorSpec(shape=[None], dtype=tf.int32),\n",
    "                \"attention_mask\": tf.TensorSpec(shape=[None], dtype=tf.int32),\n",
    "            },\n",
    "            (tf.TensorSpec(shape=[], dtype=tf.int32), tf.TensorSpec(shape=[], dtype=tf.int32),)\n",
    "        )\n",
    "    )"
   ]
  },
  {
   "cell_type": "code",
   "execution_count": 209,
   "id": "8eb74bbc",
   "metadata": {},
   "outputs": [
    {
     "name": "stderr",
     "output_type": "stream",
     "text": [
      "Truncation was not explicitly activated but `max_length` is provided a specific value, please use `truncation=True` to explicitly truncate examples to max length. Defaulting to 'longest_first' truncation strategy. If you encode pairs of sequences (GLUE-style) with the tokenizer you can select this strategy more precisely by providing a specific strategy to `truncation`.\n"
     ]
    },
    {
     "ename": "InvalidArgumentError",
     "evalue": "TypeError: `generator` yielded an element that did not match the expected structure. The expected structure was ({'input_ids': tf.int32, 'token_type_ids': tf.int32, 'attention_mask': tf.int32}, (tf.int32, tf.int32)), but the yielded element was ({'input_ids': array([  101,  2043,  2106, 20773,  2707,  3352,  2759,  1029,   102,\n       20773, 21025, 19358, 22815,  1011,  5708,  1006,  1013, 12170,\n       23432, 29715,  3501, 29678, 12325, 29685,  1013, 10506,  1011,\n       10930,  2078,  1011,  2360,  1007,  1006,  2141,  2244,  1018,\n        1010,  3261,  1007,  2003,  2019,  2137,  3220,  1010,  6009,\n        1010,  2501,  3135,  1998,  3883,  1012,  2141,  1998,  2992,\n        1999,  5395,  1010,  3146,  1010,  2016,  2864,  1999,  2536,\n        4823,  1998,  5613,  6479,  2004,  1037,  2775,  1010,  1998,\n        3123,  2000,  4476,  1999,  1996,  2397,  4134,  2004,  2599,\n        3220,  1997,  1054,  1004,  1038,  2611,  1011,  2177, 10461,\n        1005,  1055,  2775,  1012,  3266,  2011,  2014,  2269,  1010,\n       25436, 22815,  1010,  1996,  2177,  2150,  2028,  1997,  1996,\n        2088,  1005,  1055,  2190,  1011,  4855,  2611,  2967,  1997,\n        2035,  2051,  1012,  2037, 14221,  2387,  1996,  2713,  1997,\n       20773,  1005,  1055,  2834,  2201,  1010, 20754,  1999,  2293,\n        1006,  2494,  1007,  1010,  2029,  2511,  2014,  2004,  1037,\n        3948,  3063,  4969,  1010,  3687,  2274,  8922,  2982,  1998,\n        2956,  1996,  4908,  2980,  2531,  2193,  1011,  2028,  3895,\n        1000,  4689,  1999,  2293,  1000,  1998,  1000,  3336,  2879,\n        1000,  1012,   102]), 'attention_mask': array([1, 1, 1, 1, 1, 1, 1, 1, 1, 1, 1, 1, 1, 1, 1, 1, 1, 1, 1, 1, 1, 1,\n       1, 1, 1, 1, 1, 1, 1, 1, 1, 1, 1, 1, 1, 1, 1, 1, 1, 1, 1, 1, 1, 1,\n       1, 1, 1, 1, 1, 1, 1, 1, 1, 1, 1, 1, 1, 1, 1, 1, 1, 1, 1, 1, 1, 1,\n       1, 1, 1, 1, 1, 1, 1, 1, 1, 1, 1, 1, 1, 1, 1, 1, 1, 1, 1, 1, 1, 1,\n       1, 1, 1, 1, 1, 1, 1, 1, 1, 1, 1, 1, 1, 1, 1, 1, 1, 1, 1, 1, 1, 1,\n       1, 1, 1, 1, 1, 1, 1, 1, 1, 1, 1, 1, 1, 1, 1, 1, 1, 1, 1, 1, 1, 1,\n       1, 1, 1, 1, 1, 1, 1, 1, 1, 1, 1, 1, 1, 1, 1, 1, 1, 1, 1, 1, 1, 1,\n       1, 1, 1, 1, 1, 1, 1, 1, 1, 1, 1, 1, 1, 1, 1, 1, 1, 1, 1, 1])}, (0, 0)).\nTraceback (most recent call last):\n\n  File \"/mnt/s/dev/seahrh/kaggle-coleridge-initiative/venv/lib/python3.7/site-packages/tensorflow/python/data/ops/dataset_ops.py\", line 959, in generator_py_func\n    flattened_values = nest.flatten_up_to(output_types, values)\n\n  File \"/mnt/s/dev/seahrh/kaggle-coleridge-initiative/venv/lib/python3.7/site-packages/tensorflow/python/data/util/nest.py\", line 407, in flatten_up_to\n    assert_shallow_structure(shallow_tree, input_tree)\n\n  File \"/mnt/s/dev/seahrh/kaggle-coleridge-initiative/venv/lib/python3.7/site-packages/tensorflow/python/data/util/nest.py\", line 334, in assert_shallow_structure\n    shallow_branch, input_branch, check_types=check_types\n\n  File \"/mnt/s/dev/seahrh/kaggle-coleridge-initiative/venv/lib/python3.7/site-packages/tensorflow/python/data/util/nest.py\", line 319, in assert_shallow_structure\n    % (len(input_tree), len(shallow_tree))\n\nValueError: The two structures don't have the same sequence length. Input structure has length 2, while shallow structure has length 3.\n\n\nDuring handling of the above exception, another exception occurred:\n\n\nTraceback (most recent call last):\n\n  File \"/mnt/s/dev/seahrh/kaggle-coleridge-initiative/venv/lib/python3.7/site-packages/tensorflow/python/ops/script_ops.py\", line 252, in __call__\n    ret = func(*args)\n\n  File \"/mnt/s/dev/seahrh/kaggle-coleridge-initiative/venv/lib/python3.7/site-packages/tensorflow/python/autograph/impl/api.py\", line 642, in wrapper\n    return func(*args, **kwargs)\n\n  File \"/mnt/s/dev/seahrh/kaggle-coleridge-initiative/venv/lib/python3.7/site-packages/tensorflow/python/data/ops/dataset_ops.py\", line 968, in generator_py_func\n    sys.exc_info()[2],\n\n  File \"/mnt/s/dev/seahrh/kaggle-coleridge-initiative/venv/lib/python3.7/site-packages/six.py\", line 753, in reraise\n    raise value.with_traceback(tb)\n\n  File \"/mnt/s/dev/seahrh/kaggle-coleridge-initiative/venv/lib/python3.7/site-packages/tensorflow/python/data/ops/dataset_ops.py\", line 959, in generator_py_func\n    flattened_values = nest.flatten_up_to(output_types, values)\n\n  File \"/mnt/s/dev/seahrh/kaggle-coleridge-initiative/venv/lib/python3.7/site-packages/tensorflow/python/data/util/nest.py\", line 407, in flatten_up_to\n    assert_shallow_structure(shallow_tree, input_tree)\n\n  File \"/mnt/s/dev/seahrh/kaggle-coleridge-initiative/venv/lib/python3.7/site-packages/tensorflow/python/data/util/nest.py\", line 334, in assert_shallow_structure\n    shallow_branch, input_branch, check_types=check_types\n\n  File \"/mnt/s/dev/seahrh/kaggle-coleridge-initiative/venv/lib/python3.7/site-packages/tensorflow/python/data/util/nest.py\", line 319, in assert_shallow_structure\n    % (len(input_tree), len(shallow_tree))\n\nTypeError: `generator` yielded an element that did not match the expected structure. The expected structure was ({'input_ids': tf.int32, 'token_type_ids': tf.int32, 'attention_mask': tf.int32}, (tf.int32, tf.int32)), but the yielded element was ({'input_ids': array([  101,  2043,  2106, 20773,  2707,  3352,  2759,  1029,   102,\n       20773, 21025, 19358, 22815,  1011,  5708,  1006,  1013, 12170,\n       23432, 29715,  3501, 29678, 12325, 29685,  1013, 10506,  1011,\n       10930,  2078,  1011,  2360,  1007,  1006,  2141,  2244,  1018,\n        1010,  3261,  1007,  2003,  2019,  2137,  3220,  1010,  6009,\n        1010,  2501,  3135,  1998,  3883,  1012,  2141,  1998,  2992,\n        1999,  5395,  1010,  3146,  1010,  2016,  2864,  1999,  2536,\n        4823,  1998,  5613,  6479,  2004,  1037,  2775,  1010,  1998,\n        3123,  2000,  4476,  1999,  1996,  2397,  4134,  2004,  2599,\n        3220,  1997,  1054,  1004,  1038,  2611,  1011,  2177, 10461,\n        1005,  1055,  2775,  1012,  3266,  2011,  2014,  2269,  1010,\n       25436, 22815,  1010,  1996,  2177,  2150,  2028,  1997,  1996,\n        2088,  1005,  1055,  2190,  1011,  4855,  2611,  2967,  1997,\n        2035,  2051,  1012,  2037, 14221,  2387,  1996,  2713,  1997,\n       20773,  1005,  1055,  2834,  2201,  1010, 20754,  1999,  2293,\n        1006,  2494,  1007,  1010,  2029,  2511,  2014,  2004,  1037,\n        3948,  3063,  4969,  1010,  3687,  2274,  8922,  2982,  1998,\n        2956,  1996,  4908,  2980,  2531,  2193,  1011,  2028,  3895,\n        1000,  4689,  1999,  2293,  1000,  1998,  1000,  3336,  2879,\n        1000,  1012,   102]), 'attention_mask': array([1, 1, 1, 1, 1, 1, 1, 1, 1, 1, 1, 1, 1, 1, 1, 1, 1, 1, 1, 1, 1, 1,\n       1, 1, 1, 1, 1, 1, 1, 1, 1, 1, 1, 1, 1, 1, 1, 1, 1, 1, 1, 1, 1, 1,\n       1, 1, 1, 1, 1, 1, 1, 1, 1, 1, 1, 1, 1, 1, 1, 1, 1, 1, 1, 1, 1, 1,\n       1, 1, 1, 1, 1, 1, 1, 1, 1, 1, 1, 1, 1, 1, 1, 1, 1, 1, 1, 1, 1, 1,\n       1, 1, 1, 1, 1, 1, 1, 1, 1, 1, 1, 1, 1, 1, 1, 1, 1, 1, 1, 1, 1, 1,\n       1, 1, 1, 1, 1, 1, 1, 1, 1, 1, 1, 1, 1, 1, 1, 1, 1, 1, 1, 1, 1, 1,\n       1, 1, 1, 1, 1, 1, 1, 1, 1, 1, 1, 1, 1, 1, 1, 1, 1, 1, 1, 1, 1, 1,\n       1, 1, 1, 1, 1, 1, 1, 1, 1, 1, 1, 1, 1, 1, 1, 1, 1, 1, 1, 1])}, (0, 0)).\n\n\n\t [[{{node PyFunc}}]]",
     "output_type": "error",
     "traceback": [
      "\u001b[0;31m---------------------------------------------------------------------------\u001b[0m",
      "\u001b[0;31mInvalidArgumentError\u001b[0m                      Traceback (most recent call last)",
      "\u001b[0;32m/mnt/s/dev/seahrh/kaggle-coleridge-initiative/venv/lib/python3.7/site-packages/tensorflow/python/eager/context.py\u001b[0m in \u001b[0;36mexecution_mode\u001b[0;34m(mode)\u001b[0m\n\u001b[1;32m   2190\u001b[0m             \u001b[0mctx\u001b[0m\u001b[0;34m.\u001b[0m\u001b[0mexecutor\u001b[0m \u001b[0;34m=\u001b[0m \u001b[0mexecutor_new\u001b[0m\u001b[0;34m\u001b[0m\u001b[0;34m\u001b[0m\u001b[0m\n\u001b[0;32m-> 2191\u001b[0;31m             \u001b[0;32myield\u001b[0m\u001b[0;34m\u001b[0m\u001b[0;34m\u001b[0m\u001b[0m\n\u001b[0m\u001b[1;32m   2192\u001b[0m         \u001b[0;32mfinally\u001b[0m\u001b[0;34m:\u001b[0m\u001b[0;34m\u001b[0m\u001b[0;34m\u001b[0m\u001b[0m\n",
      "\u001b[0;32m/mnt/s/dev/seahrh/kaggle-coleridge-initiative/venv/lib/python3.7/site-packages/tensorflow/python/data/ops/iterator_ops.py\u001b[0m in \u001b[0;36m_next_internal\u001b[0;34m(self)\u001b[0m\n\u001b[1;32m    770\u001b[0m                 \u001b[0moutput_types\u001b[0m\u001b[0;34m=\u001b[0m\u001b[0mself\u001b[0m\u001b[0;34m.\u001b[0m\u001b[0m_flat_output_types\u001b[0m\u001b[0;34m,\u001b[0m\u001b[0;34m\u001b[0m\u001b[0;34m\u001b[0m\u001b[0m\n\u001b[0;32m--> 771\u001b[0;31m                 \u001b[0moutput_shapes\u001b[0m\u001b[0;34m=\u001b[0m\u001b[0mself\u001b[0m\u001b[0;34m.\u001b[0m\u001b[0m_flat_output_shapes\u001b[0m\u001b[0;34m,\u001b[0m\u001b[0;34m\u001b[0m\u001b[0;34m\u001b[0m\u001b[0m\n\u001b[0m\u001b[1;32m    772\u001b[0m             )\n",
      "\u001b[0;32m/mnt/s/dev/seahrh/kaggle-coleridge-initiative/venv/lib/python3.7/site-packages/tensorflow/python/ops/gen_dataset_ops.py\u001b[0m in \u001b[0;36miterator_get_next\u001b[0;34m(iterator, output_types, output_shapes, name)\u001b[0m\n\u001b[1;32m   3529\u001b[0m         \u001b[0;32mexcept\u001b[0m \u001b[0m_core\u001b[0m\u001b[0;34m.\u001b[0m\u001b[0m_NotOkStatusException\u001b[0m \u001b[0;32mas\u001b[0m \u001b[0me\u001b[0m\u001b[0;34m:\u001b[0m\u001b[0;34m\u001b[0m\u001b[0;34m\u001b[0m\u001b[0m\n\u001b[0;32m-> 3530\u001b[0;31m             \u001b[0m_ops\u001b[0m\u001b[0;34m.\u001b[0m\u001b[0mraise_from_not_ok_status\u001b[0m\u001b[0;34m(\u001b[0m\u001b[0me\u001b[0m\u001b[0;34m,\u001b[0m \u001b[0mname\u001b[0m\u001b[0;34m)\u001b[0m\u001b[0;34m\u001b[0m\u001b[0;34m\u001b[0m\u001b[0m\n\u001b[0m\u001b[1;32m   3531\u001b[0m         \u001b[0;32mexcept\u001b[0m \u001b[0m_core\u001b[0m\u001b[0;34m.\u001b[0m\u001b[0m_FallbackException\u001b[0m\u001b[0;34m:\u001b[0m\u001b[0;34m\u001b[0m\u001b[0;34m\u001b[0m\u001b[0m\n",
      "\u001b[0;32m/mnt/s/dev/seahrh/kaggle-coleridge-initiative/venv/lib/python3.7/site-packages/tensorflow/python/framework/ops.py\u001b[0m in \u001b[0;36mraise_from_not_ok_status\u001b[0;34m(e, name)\u001b[0m\n\u001b[1;32m   7111\u001b[0m     \u001b[0;31m# pylint: disable=protected-access\u001b[0m\u001b[0;34m\u001b[0m\u001b[0;34m\u001b[0m\u001b[0;34m\u001b[0m\u001b[0m\n\u001b[0;32m-> 7112\u001b[0;31m     \u001b[0msix\u001b[0m\u001b[0;34m.\u001b[0m\u001b[0mraise_from\u001b[0m\u001b[0;34m(\u001b[0m\u001b[0mcore\u001b[0m\u001b[0;34m.\u001b[0m\u001b[0m_status_to_exception\u001b[0m\u001b[0;34m(\u001b[0m\u001b[0me\u001b[0m\u001b[0;34m.\u001b[0m\u001b[0mcode\u001b[0m\u001b[0;34m,\u001b[0m \u001b[0mmessage\u001b[0m\u001b[0;34m)\u001b[0m\u001b[0;34m,\u001b[0m \u001b[0;32mNone\u001b[0m\u001b[0;34m)\u001b[0m\u001b[0;34m\u001b[0m\u001b[0;34m\u001b[0m\u001b[0m\n\u001b[0m\u001b[1;32m   7113\u001b[0m     \u001b[0;31m# pylint: enable=protected-access\u001b[0m\u001b[0;34m\u001b[0m\u001b[0;34m\u001b[0m\u001b[0;34m\u001b[0m\u001b[0m\n",
      "\u001b[0;32m/mnt/s/dev/seahrh/kaggle-coleridge-initiative/venv/lib/python3.7/site-packages/six.py\u001b[0m in \u001b[0;36mraise_from\u001b[0;34m(value, from_value)\u001b[0m\n",
      "\u001b[0;31mInvalidArgumentError\u001b[0m: TypeError: `generator` yielded an element that did not match the expected structure. The expected structure was ({'input_ids': tf.int32, 'token_type_ids': tf.int32, 'attention_mask': tf.int32}, (tf.int32, tf.int32)), but the yielded element was ({'input_ids': array([  101,  2043,  2106, 20773,  2707,  3352,  2759,  1029,   102,\n       20773, 21025, 19358, 22815,  1011,  5708,  1006,  1013, 12170,\n       23432, 29715,  3501, 29678, 12325, 29685,  1013, 10506,  1011,\n       10930,  2078,  1011,  2360,  1007,  1006,  2141,  2244,  1018,\n        1010,  3261,  1007,  2003,  2019,  2137,  3220,  1010,  6009,\n        1010,  2501,  3135,  1998,  3883,  1012,  2141,  1998,  2992,\n        1999,  5395,  1010,  3146,  1010,  2016,  2864,  1999,  2536,\n        4823,  1998,  5613,  6479,  2004,  1037,  2775,  1010,  1998,\n        3123,  2000,  4476,  1999,  1996,  2397,  4134,  2004,  2599,\n        3220,  1997,  1054,  1004,  1038,  2611,  1011,  2177, 10461,\n        1005,  1055,  2775,  1012,  3266,  2011,  2014,  2269,  1010,\n       25436, 22815,  1010,  1996,  2177,  2150,  2028,  1997,  1996,\n        2088,  1005,  1055,  2190,  1011,  4855,  2611,  2967,  1997,\n        2035,  2051,  1012,  2037, 14221,  2387,  1996,  2713,  1997,\n       20773,  1005,  1055,  2834,  2201,  1010, 20754,  1999,  2293,\n        1006,  2494,  1007,  1010,  2029,  2511,  2014,  2004,  1037,\n        3948,  3063,  4969,  1010,  3687,  2274,  8922,  2982,  1998,\n        2956,  1996,  4908,  2980,  2531,  2193,  1011,  2028,  3895,\n        1000,  4689,  1999,  2293,  1000,  1998,  1000,  3336,  2879,\n        1000,  1012,   102]), 'attention_mask': array([1, 1, 1, 1, 1, 1, 1, 1, 1, 1, 1, 1, 1, 1, 1, 1, 1, 1, 1, 1, 1, 1,\n       1, 1, 1, 1, 1, 1, 1, 1, 1, 1, 1, 1, 1, 1, 1, 1, 1, 1, 1, 1, 1, 1,\n       1, 1, 1, 1, 1, 1, 1, 1, 1, 1, 1, 1, 1, 1, 1, 1, 1, 1, 1, 1, 1, 1,\n       1, 1, 1, 1, 1, 1, 1, 1, 1, 1, 1, 1, 1, 1, 1, 1, 1, 1, 1, 1, 1, 1,\n       1, 1, 1, 1, 1, 1, 1, 1, 1, 1, 1, 1, 1, 1, 1, 1, 1, 1, 1, 1, 1, 1,\n       1, 1, 1, 1, 1, 1, 1, 1, 1, 1, 1, 1, 1, 1, 1, 1, 1, 1, 1, 1, 1, 1,\n       1, 1, 1, 1, 1, 1, 1, 1, 1, 1, 1, 1, 1, 1, 1, 1, 1, 1, 1, 1, 1, 1,\n       1, 1, 1, 1, 1, 1, 1, 1, 1, 1, 1, 1, 1, 1, 1, 1, 1, 1, 1, 1])}, (0, 0)).\nTraceback (most recent call last):\n\n  File \"/mnt/s/dev/seahrh/kaggle-coleridge-initiative/venv/lib/python3.7/site-packages/tensorflow/python/data/ops/dataset_ops.py\", line 959, in generator_py_func\n    flattened_values = nest.flatten_up_to(output_types, values)\n\n  File \"/mnt/s/dev/seahrh/kaggle-coleridge-initiative/venv/lib/python3.7/site-packages/tensorflow/python/data/util/nest.py\", line 407, in flatten_up_to\n    assert_shallow_structure(shallow_tree, input_tree)\n\n  File \"/mnt/s/dev/seahrh/kaggle-coleridge-initiative/venv/lib/python3.7/site-packages/tensorflow/python/data/util/nest.py\", line 334, in assert_shallow_structure\n    shallow_branch, input_branch, check_types=check_types\n\n  File \"/mnt/s/dev/seahrh/kaggle-coleridge-initiative/venv/lib/python3.7/site-packages/tensorflow/python/data/util/nest.py\", line 319, in assert_shallow_structure\n    % (len(input_tree), len(shallow_tree))\n\nValueError: The two structures don't have the same sequence length. Input structure has length 2, while shallow structure has length 3.\n\n\nDuring handling of the above exception, another exception occurred:\n\n\nTraceback (most recent call last):\n\n  File \"/mnt/s/dev/seahrh/kaggle-coleridge-initiative/venv/lib/python3.7/site-packages/tensorflow/python/ops/script_ops.py\", line 252, in __call__\n    ret = func(*args)\n\n  File \"/mnt/s/dev/seahrh/kaggle-coleridge-initiative/venv/lib/python3.7/site-packages/tensorflow/python/autograph/impl/api.py\", line 642, in wrapper\n    return func(*args, **kwargs)\n\n  File \"/mnt/s/dev/seahrh/kaggle-coleridge-initiative/venv/lib/python3.7/site-packages/tensorflow/python/data/ops/dataset_ops.py\", line 968, in generator_py_func\n    sys.exc_info()[2],\n\n  File \"/mnt/s/dev/seahrh/kaggle-coleridge-initiative/venv/lib/python3.7/site-packages/six.py\", line 753, in reraise\n    raise value.with_traceback(tb)\n\n  File \"/mnt/s/dev/seahrh/kaggle-coleridge-initiative/venv/lib/python3.7/site-packages/tensorflow/python/data/ops/dataset_ops.py\", line 959, in generator_py_func\n    flattened_values = nest.flatten_up_to(output_types, values)\n\n  File \"/mnt/s/dev/seahrh/kaggle-coleridge-initiative/venv/lib/python3.7/site-packages/tensorflow/python/data/util/nest.py\", line 407, in flatten_up_to\n    assert_shallow_structure(shallow_tree, input_tree)\n\n  File \"/mnt/s/dev/seahrh/kaggle-coleridge-initiative/venv/lib/python3.7/site-packages/tensorflow/python/data/util/nest.py\", line 334, in assert_shallow_structure\n    shallow_branch, input_branch, check_types=check_types\n\n  File \"/mnt/s/dev/seahrh/kaggle-coleridge-initiative/venv/lib/python3.7/site-packages/tensorflow/python/data/util/nest.py\", line 319, in assert_shallow_structure\n    % (len(input_tree), len(shallow_tree))\n\nTypeError: `generator` yielded an element that did not match the expected structure. The expected structure was ({'input_ids': tf.int32, 'token_type_ids': tf.int32, 'attention_mask': tf.int32}, (tf.int32, tf.int32)), but the yielded element was ({'input_ids': array([  101,  2043,  2106, 20773,  2707,  3352,  2759,  1029,   102,\n       20773, 21025, 19358, 22815,  1011,  5708,  1006,  1013, 12170,\n       23432, 29715,  3501, 29678, 12325, 29685,  1013, 10506,  1011,\n       10930,  2078,  1011,  2360,  1007,  1006,  2141,  2244,  1018,\n        1010,  3261,  1007,  2003,  2019,  2137,  3220,  1010,  6009,\n        1010,  2501,  3135,  1998,  3883,  1012,  2141,  1998,  2992,\n        1999,  5395,  1010,  3146,  1010,  2016,  2864,  1999,  2536,\n        4823,  1998,  5613,  6479,  2004,  1037,  2775,  1010,  1998,\n        3123,  2000,  4476,  1999,  1996,  2397,  4134,  2004,  2599,\n        3220,  1997,  1054,  1004,  1038,  2611,  1011,  2177, 10461,\n        1005,  1055,  2775,  1012,  3266,  2011,  2014,  2269,  1010,\n       25436, 22815,  1010,  1996,  2177,  2150,  2028,  1997,  1996,\n        2088,  1005,  1055,  2190,  1011,  4855,  2611,  2967,  1997,\n        2035,  2051,  1012,  2037, 14221,  2387,  1996,  2713,  1997,\n       20773,  1005,  1055,  2834,  2201,  1010, 20754,  1999,  2293,\n        1006,  2494,  1007,  1010,  2029,  2511,  2014,  2004,  1037,\n        3948,  3063,  4969,  1010,  3687,  2274,  8922,  2982,  1998,\n        2956,  1996,  4908,  2980,  2531,  2193,  1011,  2028,  3895,\n        1000,  4689,  1999,  2293,  1000,  1998,  1000,  3336,  2879,\n        1000,  1012,   102]), 'attention_mask': array([1, 1, 1, 1, 1, 1, 1, 1, 1, 1, 1, 1, 1, 1, 1, 1, 1, 1, 1, 1, 1, 1,\n       1, 1, 1, 1, 1, 1, 1, 1, 1, 1, 1, 1, 1, 1, 1, 1, 1, 1, 1, 1, 1, 1,\n       1, 1, 1, 1, 1, 1, 1, 1, 1, 1, 1, 1, 1, 1, 1, 1, 1, 1, 1, 1, 1, 1,\n       1, 1, 1, 1, 1, 1, 1, 1, 1, 1, 1, 1, 1, 1, 1, 1, 1, 1, 1, 1, 1, 1,\n       1, 1, 1, 1, 1, 1, 1, 1, 1, 1, 1, 1, 1, 1, 1, 1, 1, 1, 1, 1, 1, 1,\n       1, 1, 1, 1, 1, 1, 1, 1, 1, 1, 1, 1, 1, 1, 1, 1, 1, 1, 1, 1, 1, 1,\n       1, 1, 1, 1, 1, 1, 1, 1, 1, 1, 1, 1, 1, 1, 1, 1, 1, 1, 1, 1, 1, 1,\n       1, 1, 1, 1, 1, 1, 1, 1, 1, 1, 1, 1, 1, 1, 1, 1, 1, 1, 1, 1])}, (0, 0)).\n\n\n\t [[{{node PyFunc}}]] [Op:IteratorGetNext]",
      "\nDuring handling of the above exception, another exception occurred:\n",
      "\u001b[0;31mInvalidArgumentError\u001b[0m                      Traceback (most recent call last)",
      "\u001b[0;32m<ipython-input-209-6cd7dcf88713>\u001b[0m in \u001b[0;36m<module>\u001b[0;34m\u001b[0m\n\u001b[1;32m      1\u001b[0m \u001b[0mtrain\u001b[0m \u001b[0;34m=\u001b[0m \u001b[0mpreprocess\u001b[0m\u001b[0;34m(\u001b[0m\u001b[0mtrain\u001b[0m\u001b[0;34m,\u001b[0m \u001b[0mtokenizer\u001b[0m\u001b[0;34m=\u001b[0m\u001b[0mtokenizer\u001b[0m\u001b[0;34m)\u001b[0m\u001b[0;34m\u001b[0m\u001b[0;34m\u001b[0m\u001b[0m\n\u001b[0;32m----> 2\u001b[0;31m \u001b[0mlist\u001b[0m\u001b[0;34m(\u001b[0m\u001b[0mtrain\u001b[0m\u001b[0;34m.\u001b[0m\u001b[0mtake\u001b[0m\u001b[0;34m(\u001b[0m\u001b[0;36m2\u001b[0m\u001b[0;34m)\u001b[0m\u001b[0;34m)\u001b[0m\u001b[0;34m\u001b[0m\u001b[0;34m\u001b[0m\u001b[0m\n\u001b[0m",
      "\u001b[0;32m/mnt/s/dev/seahrh/kaggle-coleridge-initiative/venv/lib/python3.7/site-packages/tensorflow/python/data/ops/iterator_ops.py\u001b[0m in \u001b[0;36m__next__\u001b[0;34m(self)\u001b[0m\n\u001b[1;32m    786\u001b[0m     \u001b[0;32mdef\u001b[0m \u001b[0m__next__\u001b[0m\u001b[0;34m(\u001b[0m\u001b[0mself\u001b[0m\u001b[0;34m)\u001b[0m\u001b[0;34m:\u001b[0m\u001b[0;34m\u001b[0m\u001b[0;34m\u001b[0m\u001b[0m\n\u001b[1;32m    787\u001b[0m         \u001b[0;32mtry\u001b[0m\u001b[0;34m:\u001b[0m\u001b[0;34m\u001b[0m\u001b[0;34m\u001b[0m\u001b[0m\n\u001b[0;32m--> 788\u001b[0;31m             \u001b[0;32mreturn\u001b[0m \u001b[0mself\u001b[0m\u001b[0;34m.\u001b[0m\u001b[0m_next_internal\u001b[0m\u001b[0;34m(\u001b[0m\u001b[0;34m)\u001b[0m\u001b[0;34m\u001b[0m\u001b[0;34m\u001b[0m\u001b[0m\n\u001b[0m\u001b[1;32m    789\u001b[0m         \u001b[0;32mexcept\u001b[0m \u001b[0merrors\u001b[0m\u001b[0;34m.\u001b[0m\u001b[0mOutOfRangeError\u001b[0m\u001b[0;34m:\u001b[0m\u001b[0;34m\u001b[0m\u001b[0;34m\u001b[0m\u001b[0m\n\u001b[1;32m    790\u001b[0m             \u001b[0;32mraise\u001b[0m \u001b[0mStopIteration\u001b[0m\u001b[0;34m\u001b[0m\u001b[0;34m\u001b[0m\u001b[0m\n",
      "\u001b[0;32m/mnt/s/dev/seahrh/kaggle-coleridge-initiative/venv/lib/python3.7/site-packages/tensorflow/python/data/ops/iterator_ops.py\u001b[0m in \u001b[0;36m_next_internal\u001b[0;34m(self)\u001b[0m\n\u001b[1;32m    778\u001b[0m                 )  # pylint: disable=protected-access\n\u001b[1;32m    779\u001b[0m             \u001b[0;32mexcept\u001b[0m \u001b[0mAttributeError\u001b[0m\u001b[0;34m:\u001b[0m\u001b[0;34m\u001b[0m\u001b[0;34m\u001b[0m\u001b[0m\n\u001b[0;32m--> 780\u001b[0;31m                 \u001b[0;32mreturn\u001b[0m \u001b[0mstructure\u001b[0m\u001b[0;34m.\u001b[0m\u001b[0mfrom_compatible_tensor_list\u001b[0m\u001b[0;34m(\u001b[0m\u001b[0mself\u001b[0m\u001b[0;34m.\u001b[0m\u001b[0m_element_spec\u001b[0m\u001b[0;34m,\u001b[0m \u001b[0mret\u001b[0m\u001b[0;34m)\u001b[0m\u001b[0;34m\u001b[0m\u001b[0;34m\u001b[0m\u001b[0m\n\u001b[0m\u001b[1;32m    781\u001b[0m \u001b[0;34m\u001b[0m\u001b[0m\n\u001b[1;32m    782\u001b[0m     \u001b[0;34m@\u001b[0m\u001b[0mproperty\u001b[0m\u001b[0;34m\u001b[0m\u001b[0;34m\u001b[0m\u001b[0m\n",
      "\u001b[0;32m/usr/lib/python3.7/contextlib.py\u001b[0m in \u001b[0;36m__exit__\u001b[0;34m(self, type, value, traceback)\u001b[0m\n\u001b[1;32m    128\u001b[0m                 \u001b[0mvalue\u001b[0m \u001b[0;34m=\u001b[0m \u001b[0mtype\u001b[0m\u001b[0;34m(\u001b[0m\u001b[0;34m)\u001b[0m\u001b[0;34m\u001b[0m\u001b[0;34m\u001b[0m\u001b[0m\n\u001b[1;32m    129\u001b[0m             \u001b[0;32mtry\u001b[0m\u001b[0;34m:\u001b[0m\u001b[0;34m\u001b[0m\u001b[0;34m\u001b[0m\u001b[0m\n\u001b[0;32m--> 130\u001b[0;31m                 \u001b[0mself\u001b[0m\u001b[0;34m.\u001b[0m\u001b[0mgen\u001b[0m\u001b[0;34m.\u001b[0m\u001b[0mthrow\u001b[0m\u001b[0;34m(\u001b[0m\u001b[0mtype\u001b[0m\u001b[0;34m,\u001b[0m \u001b[0mvalue\u001b[0m\u001b[0;34m,\u001b[0m \u001b[0mtraceback\u001b[0m\u001b[0;34m)\u001b[0m\u001b[0;34m\u001b[0m\u001b[0;34m\u001b[0m\u001b[0m\n\u001b[0m\u001b[1;32m    131\u001b[0m             \u001b[0;32mexcept\u001b[0m \u001b[0mStopIteration\u001b[0m \u001b[0;32mas\u001b[0m \u001b[0mexc\u001b[0m\u001b[0;34m:\u001b[0m\u001b[0;34m\u001b[0m\u001b[0;34m\u001b[0m\u001b[0m\n\u001b[1;32m    132\u001b[0m                 \u001b[0;31m# Suppress StopIteration *unless* it's the same exception that\u001b[0m\u001b[0;34m\u001b[0m\u001b[0;34m\u001b[0m\u001b[0;34m\u001b[0m\u001b[0m\n",
      "\u001b[0;32m/mnt/s/dev/seahrh/kaggle-coleridge-initiative/venv/lib/python3.7/site-packages/tensorflow/python/eager/context.py\u001b[0m in \u001b[0;36mexecution_mode\u001b[0;34m(mode)\u001b[0m\n\u001b[1;32m   2192\u001b[0m         \u001b[0;32mfinally\u001b[0m\u001b[0;34m:\u001b[0m\u001b[0;34m\u001b[0m\u001b[0;34m\u001b[0m\u001b[0m\n\u001b[1;32m   2193\u001b[0m             \u001b[0mctx\u001b[0m\u001b[0;34m.\u001b[0m\u001b[0mexecutor\u001b[0m \u001b[0;34m=\u001b[0m \u001b[0mexecutor_old\u001b[0m\u001b[0;34m\u001b[0m\u001b[0;34m\u001b[0m\u001b[0m\n\u001b[0;32m-> 2194\u001b[0;31m             \u001b[0mexecutor_new\u001b[0m\u001b[0;34m.\u001b[0m\u001b[0mwait\u001b[0m\u001b[0;34m(\u001b[0m\u001b[0;34m)\u001b[0m\u001b[0;34m\u001b[0m\u001b[0;34m\u001b[0m\u001b[0m\n\u001b[0m\u001b[1;32m   2195\u001b[0m \u001b[0;34m\u001b[0m\u001b[0m\n\u001b[1;32m   2196\u001b[0m \u001b[0;34m\u001b[0m\u001b[0m\n",
      "\u001b[0;32m/mnt/s/dev/seahrh/kaggle-coleridge-initiative/venv/lib/python3.7/site-packages/tensorflow/python/eager/executor.py\u001b[0m in \u001b[0;36mwait\u001b[0;34m(self)\u001b[0m\n\u001b[1;32m     67\u001b[0m     \u001b[0;32mdef\u001b[0m \u001b[0mwait\u001b[0m\u001b[0;34m(\u001b[0m\u001b[0mself\u001b[0m\u001b[0;34m)\u001b[0m\u001b[0;34m:\u001b[0m\u001b[0;34m\u001b[0m\u001b[0;34m\u001b[0m\u001b[0m\n\u001b[1;32m     68\u001b[0m         \u001b[0;34m\"\"\"Waits for ops dispatched in this executor to finish.\"\"\"\u001b[0m\u001b[0;34m\u001b[0m\u001b[0;34m\u001b[0m\u001b[0m\n\u001b[0;32m---> 69\u001b[0;31m         \u001b[0mpywrap_tfe\u001b[0m\u001b[0;34m.\u001b[0m\u001b[0mTFE_ExecutorWaitForAllPendingNodes\u001b[0m\u001b[0;34m(\u001b[0m\u001b[0mself\u001b[0m\u001b[0;34m.\u001b[0m\u001b[0m_handle\u001b[0m\u001b[0;34m)\u001b[0m\u001b[0;34m\u001b[0m\u001b[0;34m\u001b[0m\u001b[0m\n\u001b[0m\u001b[1;32m     70\u001b[0m \u001b[0;34m\u001b[0m\u001b[0m\n\u001b[1;32m     71\u001b[0m     \u001b[0;32mdef\u001b[0m \u001b[0mclear_error\u001b[0m\u001b[0;34m(\u001b[0m\u001b[0mself\u001b[0m\u001b[0;34m)\u001b[0m\u001b[0;34m:\u001b[0m\u001b[0;34m\u001b[0m\u001b[0;34m\u001b[0m\u001b[0m\n",
      "\u001b[0;31mInvalidArgumentError\u001b[0m: TypeError: `generator` yielded an element that did not match the expected structure. The expected structure was ({'input_ids': tf.int32, 'token_type_ids': tf.int32, 'attention_mask': tf.int32}, (tf.int32, tf.int32)), but the yielded element was ({'input_ids': array([  101,  2043,  2106, 20773,  2707,  3352,  2759,  1029,   102,\n       20773, 21025, 19358, 22815,  1011,  5708,  1006,  1013, 12170,\n       23432, 29715,  3501, 29678, 12325, 29685,  1013, 10506,  1011,\n       10930,  2078,  1011,  2360,  1007,  1006,  2141,  2244,  1018,\n        1010,  3261,  1007,  2003,  2019,  2137,  3220,  1010,  6009,\n        1010,  2501,  3135,  1998,  3883,  1012,  2141,  1998,  2992,\n        1999,  5395,  1010,  3146,  1010,  2016,  2864,  1999,  2536,\n        4823,  1998,  5613,  6479,  2004,  1037,  2775,  1010,  1998,\n        3123,  2000,  4476,  1999,  1996,  2397,  4134,  2004,  2599,\n        3220,  1997,  1054,  1004,  1038,  2611,  1011,  2177, 10461,\n        1005,  1055,  2775,  1012,  3266,  2011,  2014,  2269,  1010,\n       25436, 22815,  1010,  1996,  2177,  2150,  2028,  1997,  1996,\n        2088,  1005,  1055,  2190,  1011,  4855,  2611,  2967,  1997,\n        2035,  2051,  1012,  2037, 14221,  2387,  1996,  2713,  1997,\n       20773,  1005,  1055,  2834,  2201,  1010, 20754,  1999,  2293,\n        1006,  2494,  1007,  1010,  2029,  2511,  2014,  2004,  1037,\n        3948,  3063,  4969,  1010,  3687,  2274,  8922,  2982,  1998,\n        2956,  1996,  4908,  2980,  2531,  2193,  1011,  2028,  3895,\n        1000,  4689,  1999,  2293,  1000,  1998,  1000,  3336,  2879,\n        1000,  1012,   102]), 'attention_mask': array([1, 1, 1, 1, 1, 1, 1, 1, 1, 1, 1, 1, 1, 1, 1, 1, 1, 1, 1, 1, 1, 1,\n       1, 1, 1, 1, 1, 1, 1, 1, 1, 1, 1, 1, 1, 1, 1, 1, 1, 1, 1, 1, 1, 1,\n       1, 1, 1, 1, 1, 1, 1, 1, 1, 1, 1, 1, 1, 1, 1, 1, 1, 1, 1, 1, 1, 1,\n       1, 1, 1, 1, 1, 1, 1, 1, 1, 1, 1, 1, 1, 1, 1, 1, 1, 1, 1, 1, 1, 1,\n       1, 1, 1, 1, 1, 1, 1, 1, 1, 1, 1, 1, 1, 1, 1, 1, 1, 1, 1, 1, 1, 1,\n       1, 1, 1, 1, 1, 1, 1, 1, 1, 1, 1, 1, 1, 1, 1, 1, 1, 1, 1, 1, 1, 1,\n       1, 1, 1, 1, 1, 1, 1, 1, 1, 1, 1, 1, 1, 1, 1, 1, 1, 1, 1, 1, 1, 1,\n       1, 1, 1, 1, 1, 1, 1, 1, 1, 1, 1, 1, 1, 1, 1, 1, 1, 1, 1, 1])}, (0, 0)).\nTraceback (most recent call last):\n\n  File \"/mnt/s/dev/seahrh/kaggle-coleridge-initiative/venv/lib/python3.7/site-packages/tensorflow/python/data/ops/dataset_ops.py\", line 959, in generator_py_func\n    flattened_values = nest.flatten_up_to(output_types, values)\n\n  File \"/mnt/s/dev/seahrh/kaggle-coleridge-initiative/venv/lib/python3.7/site-packages/tensorflow/python/data/util/nest.py\", line 407, in flatten_up_to\n    assert_shallow_structure(shallow_tree, input_tree)\n\n  File \"/mnt/s/dev/seahrh/kaggle-coleridge-initiative/venv/lib/python3.7/site-packages/tensorflow/python/data/util/nest.py\", line 334, in assert_shallow_structure\n    shallow_branch, input_branch, check_types=check_types\n\n  File \"/mnt/s/dev/seahrh/kaggle-coleridge-initiative/venv/lib/python3.7/site-packages/tensorflow/python/data/util/nest.py\", line 319, in assert_shallow_structure\n    % (len(input_tree), len(shallow_tree))\n\nValueError: The two structures don't have the same sequence length. Input structure has length 2, while shallow structure has length 3.\n\n\nDuring handling of the above exception, another exception occurred:\n\n\nTraceback (most recent call last):\n\n  File \"/mnt/s/dev/seahrh/kaggle-coleridge-initiative/venv/lib/python3.7/site-packages/tensorflow/python/ops/script_ops.py\", line 252, in __call__\n    ret = func(*args)\n\n  File \"/mnt/s/dev/seahrh/kaggle-coleridge-initiative/venv/lib/python3.7/site-packages/tensorflow/python/autograph/impl/api.py\", line 642, in wrapper\n    return func(*args, **kwargs)\n\n  File \"/mnt/s/dev/seahrh/kaggle-coleridge-initiative/venv/lib/python3.7/site-packages/tensorflow/python/data/ops/dataset_ops.py\", line 968, in generator_py_func\n    sys.exc_info()[2],\n\n  File \"/mnt/s/dev/seahrh/kaggle-coleridge-initiative/venv/lib/python3.7/site-packages/six.py\", line 753, in reraise\n    raise value.with_traceback(tb)\n\n  File \"/mnt/s/dev/seahrh/kaggle-coleridge-initiative/venv/lib/python3.7/site-packages/tensorflow/python/data/ops/dataset_ops.py\", line 959, in generator_py_func\n    flattened_values = nest.flatten_up_to(output_types, values)\n\n  File \"/mnt/s/dev/seahrh/kaggle-coleridge-initiative/venv/lib/python3.7/site-packages/tensorflow/python/data/util/nest.py\", line 407, in flatten_up_to\n    assert_shallow_structure(shallow_tree, input_tree)\n\n  File \"/mnt/s/dev/seahrh/kaggle-coleridge-initiative/venv/lib/python3.7/site-packages/tensorflow/python/data/util/nest.py\", line 334, in assert_shallow_structure\n    shallow_branch, input_branch, check_types=check_types\n\n  File \"/mnt/s/dev/seahrh/kaggle-coleridge-initiative/venv/lib/python3.7/site-packages/tensorflow/python/data/util/nest.py\", line 319, in assert_shallow_structure\n    % (len(input_tree), len(shallow_tree))\n\nTypeError: `generator` yielded an element that did not match the expected structure. The expected structure was ({'input_ids': tf.int32, 'token_type_ids': tf.int32, 'attention_mask': tf.int32}, (tf.int32, tf.int32)), but the yielded element was ({'input_ids': array([  101,  2043,  2106, 20773,  2707,  3352,  2759,  1029,   102,\n       20773, 21025, 19358, 22815,  1011,  5708,  1006,  1013, 12170,\n       23432, 29715,  3501, 29678, 12325, 29685,  1013, 10506,  1011,\n       10930,  2078,  1011,  2360,  1007,  1006,  2141,  2244,  1018,\n        1010,  3261,  1007,  2003,  2019,  2137,  3220,  1010,  6009,\n        1010,  2501,  3135,  1998,  3883,  1012,  2141,  1998,  2992,\n        1999,  5395,  1010,  3146,  1010,  2016,  2864,  1999,  2536,\n        4823,  1998,  5613,  6479,  2004,  1037,  2775,  1010,  1998,\n        3123,  2000,  4476,  1999,  1996,  2397,  4134,  2004,  2599,\n        3220,  1997,  1054,  1004,  1038,  2611,  1011,  2177, 10461,\n        1005,  1055,  2775,  1012,  3266,  2011,  2014,  2269,  1010,\n       25436, 22815,  1010,  1996,  2177,  2150,  2028,  1997,  1996,\n        2088,  1005,  1055,  2190,  1011,  4855,  2611,  2967,  1997,\n        2035,  2051,  1012,  2037, 14221,  2387,  1996,  2713,  1997,\n       20773,  1005,  1055,  2834,  2201,  1010, 20754,  1999,  2293,\n        1006,  2494,  1007,  1010,  2029,  2511,  2014,  2004,  1037,\n        3948,  3063,  4969,  1010,  3687,  2274,  8922,  2982,  1998,\n        2956,  1996,  4908,  2980,  2531,  2193,  1011,  2028,  3895,\n        1000,  4689,  1999,  2293,  1000,  1998,  1000,  3336,  2879,\n        1000,  1012,   102]), 'attention_mask': array([1, 1, 1, 1, 1, 1, 1, 1, 1, 1, 1, 1, 1, 1, 1, 1, 1, 1, 1, 1, 1, 1,\n       1, 1, 1, 1, 1, 1, 1, 1, 1, 1, 1, 1, 1, 1, 1, 1, 1, 1, 1, 1, 1, 1,\n       1, 1, 1, 1, 1, 1, 1, 1, 1, 1, 1, 1, 1, 1, 1, 1, 1, 1, 1, 1, 1, 1,\n       1, 1, 1, 1, 1, 1, 1, 1, 1, 1, 1, 1, 1, 1, 1, 1, 1, 1, 1, 1, 1, 1,\n       1, 1, 1, 1, 1, 1, 1, 1, 1, 1, 1, 1, 1, 1, 1, 1, 1, 1, 1, 1, 1, 1,\n       1, 1, 1, 1, 1, 1, 1, 1, 1, 1, 1, 1, 1, 1, 1, 1, 1, 1, 1, 1, 1, 1,\n       1, 1, 1, 1, 1, 1, 1, 1, 1, 1, 1, 1, 1, 1, 1, 1, 1, 1, 1, 1, 1, 1,\n       1, 1, 1, 1, 1, 1, 1, 1, 1, 1, 1, 1, 1, 1, 1, 1, 1, 1, 1, 1])}, (0, 0)).\n\n\n\t [[{{node PyFunc}}]]"
     ]
    }
   ],
   "source": [
    "train = preprocess(train, tokenizer=tokenizer)\n",
    "list(train.take(2))"
   ]
  },
  {
   "cell_type": "code",
   "execution_count": null,
   "id": "038efedb",
   "metadata": {},
   "outputs": [],
   "source": [
    "%%time\n",
    "model = TFAutoModelForQuestionAnswering.from_pretrained(model_dir)\n",
    "print(repr(model.config))"
   ]
  },
  {
   "cell_type": "code",
   "execution_count": null,
   "id": "4914ec30",
   "metadata": {},
   "outputs": [],
   "source": [
    "model.compile(\n",
    "    optimizer=keras.optimizers.Adam(learning_rate=5e-5),\n",
    "    loss=keras.losses.SparseCategoricalCrossentropy(from_logits=True),\n",
    "    metrics=tf.metrics.SparseCategoricalAccuracy(),\n",
    ")\n",
    "model.summary()"
   ]
  },
  {
   "cell_type": "code",
   "execution_count": null,
   "id": "cb1e97db",
   "metadata": {},
   "outputs": [],
   "source": [
    "model.fit(train.shuffle(1000).batch(16).prefetch(tf.data.experimental.AUTOTUNE), epochs=2)"
   ]
  },
  {
   "cell_type": "code",
   "execution_count": null,
   "id": "4458def4",
   "metadata": {},
   "outputs": [],
   "source": [
    "model.save_pretrained(\"tmp\")"
   ]
  },
  {
   "cell_type": "code",
   "execution_count": null,
   "id": "d0674882",
   "metadata": {},
   "outputs": [],
   "source": [
    "question, text = \"Who was Jim Henson?\", \"Jim Henson was a nice puppet\"\n",
    "inputs = tokenizer(question, text, return_tensors=\"tf\")\n",
    "print(repr(inputs))"
   ]
  },
  {
   "cell_type": "code",
   "execution_count": null,
   "id": "d20ffc36",
   "metadata": {},
   "outputs": [],
   "source": [
    "outputs = model(inputs)\n",
    "print(repr(outputs))"
   ]
  },
  {
   "cell_type": "code",
   "execution_count": null,
   "id": "77d3247a",
   "metadata": {},
   "outputs": [],
   "source": []
  }
 ],
 "metadata": {
  "kernelspec": {
   "display_name": "Python 3",
   "language": "python",
   "name": "python3"
  },
  "language_info": {
   "codemirror_mode": {
    "name": "ipython",
    "version": 3
   },
   "file_extension": ".py",
   "mimetype": "text/x-python",
   "name": "python",
   "nbconvert_exporter": "python",
   "pygments_lexer": "ipython3",
   "version": "3.7.5"
  }
 },
 "nbformat": 4,
 "nbformat_minor": 5
}
