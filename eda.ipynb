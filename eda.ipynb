{
 "cells": [
  {
   "cell_type": "code",
   "execution_count": 59,
   "id": "ce7b9533",
   "metadata": {},
   "outputs": [],
   "source": [
    "import json\n",
    "import numpy as np\n",
    "import pandas as pd\n",
    "import mylib\n",
    "import scml\n",
    "from scml import nlp as snlp"
   ]
  },
  {
   "cell_type": "code",
   "execution_count": 60,
   "id": "48458dbf",
   "metadata": {},
   "outputs": [],
   "source": [
    "percentiles=[.01, .05, .1, .2, .3, .4, .5, .6, .7, .8, .9, .95, .99]\n",
    "pd.set_option(\"use_inf_as_na\", True)\n",
    "pd.set_option(\"max_info_columns\", 9999)\n",
    "pd.set_option(\"display.max_columns\", 9999)\n",
    "pd.set_option(\"display.max_rows\", 9999)\n",
    "pd.set_option('max_colwidth', 9999)"
   ]
  },
  {
   "cell_type": "code",
   "execution_count": 61,
   "id": "493f831e",
   "metadata": {},
   "outputs": [
    {
     "name": "stdout",
     "output_type": "stream",
     "text": [
      "<class 'pandas.core.frame.DataFrame'>\n",
      "RangeIndex: 19661 entries, 0 to 19660\n",
      "Data columns (total 5 columns):\n",
      " #   Column         Non-Null Count  Dtype \n",
      "---  ------         --------------  ----- \n",
      " 0   Id             19661 non-null  object\n",
      " 1   pub_title      19661 non-null  object\n",
      " 2   dataset_title  19661 non-null  object\n",
      " 3   dataset_label  19661 non-null  object\n",
      " 4   cleaned_label  19661 non-null  object\n",
      "dtypes: object(5)\n",
      "memory usage: 768.1+ KB\n"
     ]
    }
   ],
   "source": [
    "train = pd.read_csv(\"input/train.csv\", engine=\"c\", low_memory=False)\n",
    "train.sort_values(\"dataset_title\", inplace=True, ignore_index=True)\n",
    "train.info()"
   ]
  },
  {
   "cell_type": "code",
   "execution_count": 62,
   "id": "b56fe3df",
   "metadata": {},
   "outputs": [
    {
     "data": {
      "text/html": [
       "<div>\n",
       "<style scoped>\n",
       "    .dataframe tbody tr th:only-of-type {\n",
       "        vertical-align: middle;\n",
       "    }\n",
       "\n",
       "    .dataframe tbody tr th {\n",
       "        vertical-align: top;\n",
       "    }\n",
       "\n",
       "    .dataframe thead th {\n",
       "        text-align: right;\n",
       "    }\n",
       "</style>\n",
       "<table border=\"1\" class=\"dataframe\">\n",
       "  <thead>\n",
       "    <tr style=\"text-align: right;\">\n",
       "      <th></th>\n",
       "      <th>pub_title</th>\n",
       "      <th>dataset_title</th>\n",
       "      <th>dataset_label</th>\n",
       "    </tr>\n",
       "  </thead>\n",
       "  <tbody>\n",
       "    <tr>\n",
       "      <th>0</th>\n",
       "      <td>Depth varying rupture properties during the 2015 Mw 7.8 Gorkha (Nepal) earthquake</td>\n",
       "      <td>Advanced National Seismic System (ANSS) Comprehensive Catalog (ComCat)</td>\n",
       "      <td>ANSS Comprehensive Catalog</td>\n",
       "    </tr>\n",
       "    <tr>\n",
       "      <th>1</th>\n",
       "      <td>Shaking from Injection-Induced Earthquakes in the Central and Eastern United States</td>\n",
       "      <td>Advanced National Seismic System (ANSS) Comprehensive Catalog (ComCat)</td>\n",
       "      <td>Advanced National Seismic System Comprehensive Catalog</td>\n",
       "    </tr>\n",
       "    <tr>\n",
       "      <th>2</th>\n",
       "      <td>Resolving Teleseismic Earthquake Catalog and InSAR Data Discrepancies in Absolute Space to Explore Rupture Complexity Along the Ecuadorian Megathrust Fault</td>\n",
       "      <td>Advanced National Seismic System (ANSS) Comprehensive Catalog (ComCat)</td>\n",
       "      <td>ANSS Comprehensive Catalog</td>\n",
       "    </tr>\n",
       "    <tr>\n",
       "      <th>3</th>\n",
       "      <td>Resolving Teleseismic Earthquake Catalog and InSAR Data Discrepancies in Absolute Space to Explore Rupture Complexity Along the Ecuadorian Megathrust Fault</td>\n",
       "      <td>Advanced National Seismic System (ANSS) Comprehensive Catalog (ComCat)</td>\n",
       "      <td>Advanced National Seismic System (ANSS) Comprehensive Catalog (ComCat)</td>\n",
       "    </tr>\n",
       "    <tr>\n",
       "      <th>4</th>\n",
       "      <td>Landslides and Megathrust Splay Faults Captured by the Late Holocene Sediment Record of Eastern Prince William Sound, Alaska</td>\n",
       "      <td>Advanced National Seismic System (ANSS) Comprehensive Catalog (ComCat)</td>\n",
       "      <td>ANSS Comprehensive Catalog</td>\n",
       "    </tr>\n",
       "  </tbody>\n",
       "</table>\n",
       "</div>"
      ],
      "text/plain": [
       "                                                                                                                                                     pub_title  \\\n",
       "0                                                                            Depth varying rupture properties during the 2015 Mw 7.8 Gorkha (Nepal) earthquake   \n",
       "1                                                                          Shaking from Injection-Induced Earthquakes in the Central and Eastern United States   \n",
       "2  Resolving Teleseismic Earthquake Catalog and InSAR Data Discrepancies in Absolute Space to Explore Rupture Complexity Along the Ecuadorian Megathrust Fault   \n",
       "3  Resolving Teleseismic Earthquake Catalog and InSAR Data Discrepancies in Absolute Space to Explore Rupture Complexity Along the Ecuadorian Megathrust Fault   \n",
       "4                                 Landslides and Megathrust Splay Faults Captured by the Late Holocene Sediment Record of Eastern Prince William Sound, Alaska   \n",
       "\n",
       "                                                            dataset_title  \\\n",
       "0  Advanced National Seismic System (ANSS) Comprehensive Catalog (ComCat)   \n",
       "1  Advanced National Seismic System (ANSS) Comprehensive Catalog (ComCat)   \n",
       "2  Advanced National Seismic System (ANSS) Comprehensive Catalog (ComCat)   \n",
       "3  Advanced National Seismic System (ANSS) Comprehensive Catalog (ComCat)   \n",
       "4  Advanced National Seismic System (ANSS) Comprehensive Catalog (ComCat)   \n",
       "\n",
       "                                                            dataset_label  \n",
       "0                                              ANSS Comprehensive Catalog  \n",
       "1                  Advanced National Seismic System Comprehensive Catalog  \n",
       "2                                              ANSS Comprehensive Catalog  \n",
       "3  Advanced National Seismic System (ANSS) Comprehensive Catalog (ComCat)  \n",
       "4                                              ANSS Comprehensive Catalog  "
      ]
     },
     "execution_count": 62,
     "metadata": {},
     "output_type": "execute_result"
    }
   ],
   "source": [
    "cols = [\"pub_title\", \"dataset_title\", \"dataset_label\"]\n",
    "train[cols].head()"
   ]
  },
  {
   "cell_type": "code",
   "execution_count": 63,
   "id": "1da4dc6f",
   "metadata": {},
   "outputs": [
    {
     "data": {
      "text/plain": [
       "Alzheimer's Disease Neuroimaging Initiative (ADNI)                                             6144\n",
       "Baltimore Longitudinal Study of Aging (BLSA)                                                   1589\n",
       "Trends in International Mathematics and Science Study                                          1163\n",
       "Early Childhood Longitudinal Study                                                             1011\n",
       "SARS-CoV-2 genome sequence                                                                      860\n",
       "Census of Agriculture                                                                           743\n",
       "Education Longitudinal Study                                                                    676\n",
       "Agricultural Resource Management Survey                                                         660\n",
       "North American Breeding Bird Survey (BBS)                                                       585\n",
       "National Education Longitudinal Study                                                           550\n",
       "Survey of Earned Doctorates                                                                     509\n",
       "Rural-Urban Continuum Codes                                                                     490\n",
       "Beginning Postsecondary Student                                                                 461\n",
       "NOAA Tide Gauge                                                                                 441\n",
       "International Best Track Archive for Climate Stewardship                                        386\n",
       "Common Core of Data                                                                             368\n",
       "World Ocean Database                                                                            326\n",
       "Coastal Change Analysis Program                                                                 326\n",
       "Sea, Lake, and Overland Surges from Hurricanes                                                  312\n",
       "Survey of Doctorate Recipients                                                                  309\n",
       "Baccalaureate and Beyond                                                                        306\n",
       "Optimum Interpolation Sea Surface Temperature                                                   288\n",
       "Our World in Data COVID-19 dataset                                                              223\n",
       "COVID-19 Open Research Dataset (CORD-19)                                                        185\n",
       "National Assessment of Education Progress                                                       132\n",
       "Survey of Industrial Research and Development                                                   104\n",
       "High School Longitudinal Study                                                                   92\n",
       "Survey of Graduate Students and Postdoctorates in Science and Engineering                        85\n",
       "Program for the International Assessment of Adult Competencies                                   65\n",
       "School Survey on Crime and Safety                                                                44\n",
       "COVID-19 Image Data Collection                                                                   38\n",
       "Higher Education Research and Development Survey                                                 34\n",
       "National Teacher and Principal Survey                                                            30\n",
       "Advanced National Seismic System (ANSS) Comprehensive Catalog (ComCat)                           29\n",
       "COVID-19 Deaths data                                                                             28\n",
       "The National Institute on Aging Genetics of Alzheimer's Disease Data Storage Site (NIAGADS)      22\n",
       "Survey of Science and Engineering Research Facilities                                            13\n",
       "Characterizing Health Associated Risks, and Your Baseline Disease In SARS-COV-2 (CHARYBDIS)      10\n",
       "Complexity Science Hub COVID-19 Control Strategies List (CCCSL)                                   6\n",
       "CAS COVID-19 antiviral candidate compounds dataset                                                4\n",
       "RSNA International COVID-19 Open Radiology Database (RICORD)                                      4\n",
       "FFRDC Research and Development Survey                                                             3\n",
       "Aging Integrated Database (AGID)                                                                  3\n",
       "COVID-19 Precision Medicine Analytics Platform Registry (JH-CROWN)                                2\n",
       "Survey of State Government Research and Development                                               2\n",
       "Name: dataset_title, dtype: int64"
      ]
     },
     "execution_count": 63,
     "metadata": {},
     "output_type": "execute_result"
    }
   ],
   "source": [
    "train[\"dataset_title\"].value_counts()"
   ]
  },
  {
   "cell_type": "code",
   "execution_count": 64,
   "id": "c9b2554d",
   "metadata": {},
   "outputs": [
    {
     "data": {
      "text/plain": [
       "{'adni': 3673,\n",
       " 'alzheimer s disease neuroimaging initiative adni ': 2400,\n",
       " 'trends in international mathematics and science study': 1163,\n",
       " 'baltimore longitudinal study of aging': 1156,\n",
       " 'early childhood longitudinal study': 1011,\n",
       " 'education longitudinal study': 676,\n",
       " 'census of agriculture': 643,\n",
       " 'agricultural resource management survey': 623,\n",
       " 'national education longitudinal study': 550,\n",
       " 'rural urban continuum codes': 490,\n",
       " 'baltimore longitudinal study of aging blsa ': 433,\n",
       " 'survey of earned doctorates': 428,\n",
       " 'north american breeding bird survey': 380,\n",
       " 'world ocean database': 314,\n",
       " 'slosh model': 304,\n",
       " 'noaa tide gauge': 299,\n",
       " 'survey of doctorate recipients': 298,\n",
       " 'ibtracs': 280,\n",
       " 'coastal change analysis program': 255,\n",
       " 'common core of data': 252,\n",
       " 'sars cov 2 genome sequences': 244,\n",
       " 'beginning postsecondary students': 241,\n",
       " 'genome sequence of sars cov 2': 222,\n",
       " 'our world in data': 212,\n",
       " 'baccalaureate and beyond': 199,\n",
       " 'north american breeding bird survey bbs ': 198,\n",
       " 'optimum interpolation sea surface temperature': 190,\n",
       " 'genome sequences of sars cov 2': 158,\n",
       " 'beginning postsecondary students longitudinal study': 150,\n",
       " 'sars cov 2 genome sequence': 134,\n",
       " 'national assessment of education progress': 132,\n",
       " 'covid 19 open research dataset': 114,\n",
       " 'baccalaureate and beyond longitudinal study': 107,\n",
       " 'international best track archive for climate stewardship': 105,\n",
       " 'high school longitudinal study': 92,\n",
       " 'survey of industrial research and development': 88,\n",
       " 'usda census of agriculture': 87,\n",
       " 'noaa optimum interpolation sea surface temperature': 86,\n",
       " 'alzheimers disease neuroimaging initiative': 71,\n",
       " 'beginning postsecondary student': 70,\n",
       " 'survey of graduate students and postdoctorates in science and engineering': 70,\n",
       " 'program for the international assessment of adult competencies': 65,\n",
       " 'covid 19 open research dataset cord 19 ': 65,\n",
       " 'noaa c cap': 64,\n",
       " 'national water level observation network': 62,\n",
       " 'nces common core of data': 61,\n",
       " 'nsf survey of earned doctorates': 58,\n",
       " 'national center for education statistics common core of data': 55,\n",
       " 'school survey on crime and safety': 44,\n",
       " 'covid 19 image data collection': 38,\n",
       " 'noaa tide station': 35,\n",
       " 'national teacher and principal survey': 30,\n",
       " 'covid 19 death data': 28,\n",
       " 'higher education research and development survey': 26,\n",
       " 'noaa tidal station': 25,\n",
       " 'agricultural resources management survey': 24,\n",
       " 'national science foundation survey of earned doctorates': 21,\n",
       " 'sars cov 2 complete genome sequences': 19,\n",
       " 'genome sequence of 2019 ncov': 17,\n",
       " 'anss comprehensive catalog': 15,\n",
       " 'the national institute on aging genetics of alzheimer s disease data storage site': 14,\n",
       " 'noaa national water level observation network': 14,\n",
       " 'arms farm financial and crop production practices': 13,\n",
       " 'nass census of agriculture': 13,\n",
       " 'sars cov 2 full genome sequences': 12,\n",
       " 'genome sequences of 2019 ncov': 12,\n",
       " 'noaa world ocean database': 11,\n",
       " 'national oceanic and atmospheric administration optimum interpolation sea surface temperature': 10,\n",
       " 'nsf survey of graduate students and postdoctorates in science and engineering': 10,\n",
       " 'national science foundation survey of industrial research and development': 8,\n",
       " 'genome sequences of covid 19': 8,\n",
       " 'the national institute on aging genetics of alzheimer s disease data storage site niagads ': 8,\n",
       " 'anss comprehensive earthquake catalog': 7,\n",
       " 'nsf survey of industrial research and development': 7,\n",
       " 'our world in data covid 19': 7,\n",
       " 'usgs north american breeding bird survey': 7,\n",
       " 'survey of science and engineering research facilities': 7,\n",
       " 'national science foundation survey of doctorate recipients': 7,\n",
       " 'genome sequence of covid 19': 7,\n",
       " '2019 ncov genome sequence': 7,\n",
       " 'covid 19 genome sequence': 6,\n",
       " 'coastal change analysis program land cover': 6,\n",
       " 'advanced national seismic system anss comprehensive catalog comcat ': 6,\n",
       " 'noaa water level station': 6,\n",
       " 'noaa sea lake and overland surges from hurricanes': 6,\n",
       " 'nsf higher education research and development survey': 5,\n",
       " 'characterizing health associated risks and your baseline disease in sars cov 2 charybdis ': 5,\n",
       " 'covid 19 open research data': 5,\n",
       " 'characterizing health associated risks and your baseline disease in sars cov 2': 5,\n",
       " 'covid 19 genome sequences': 4,\n",
       " '2019 ncov genome sequences': 4,\n",
       " 'our world in data covid 19 dataset': 4,\n",
       " 'national center for science and engineering statistics survey of doctorate recipients': 3,\n",
       " 'nsf survey of science and engineering research facilities': 3,\n",
       " 'sars cov 2 full genome sequence': 3,\n",
       " 'sars cov 2 complete genome sequence': 2,\n",
       " 'ncses survey of graduate students and postdoctorates in science and engineering': 2,\n",
       " 'complexity science hub covid 19 control strategies list cccsl ': 2,\n",
       " 'national science foundation survey of graduate students and postdoctorates in science and engineering': 2,\n",
       " 'jh crown registry': 2,\n",
       " 'national science foundation survey of science and engineering research facilities': 2,\n",
       " 'rsna international covid 19 open radiology database': 2,\n",
       " 'ffrdc research and development survey': 2,\n",
       " 'national center for science and engineering statistics survey of earned doctorates': 2,\n",
       " 'cas covid 19 antiviral candidate compounds dataset': 2,\n",
       " 'cccsl': 2,\n",
       " 'national science foundation higher education research and development survey': 2,\n",
       " 'aging integrated database': 2,\n",
       " 'sea surface temperature optimum interpolation': 2,\n",
       " 'survey of state government research and development': 2,\n",
       " 'complexity science hub covid 19 control strategies list': 2,\n",
       " 'aging integrated database agid ': 1,\n",
       " 'noaa storm surge inundation': 1,\n",
       " 'national center for science and engineering statistics higher education research and development survey': 1,\n",
       " 'cas covid 19 antiviral candidate compounds data set': 1,\n",
       " 'ncses survey of doctorate recipients': 1,\n",
       " 'national weather service nws storm surge risk': 1,\n",
       " 'rsna international covid open radiology database': 1,\n",
       " 'national center for science and engineering statistics survey of industrial research and development': 1,\n",
       " 'national oceanic and atmospheric administration c cap': 1,\n",
       " '2019 ncov complete genome sequences': 1,\n",
       " 'national center for science and engineering statistics survey of science and engineering research facilities': 1,\n",
       " 'rsna international covid 19 open radiology database ricord ': 1,\n",
       " 'covid open research dataset': 1,\n",
       " 'cas covid 19 antiviral candidate compounds data': 1,\n",
       " 'national center for science and engineering statistics survey of graduate students and postdoctorates in science and engineering': 1,\n",
       " 'nsf ffrdc research and development survey': 1,\n",
       " 'noaa international best track archive for climate stewardship': 1,\n",
       " 'advanced national seismic system comprehensive catalog': 1,\n",
       " 'national oceanic and atmospheric administration world ocean database': 1}"
      ]
     },
     "execution_count": 64,
     "metadata": {},
     "output_type": "execute_result"
    }
   ],
   "source": [
    "dict(train[\"cleaned_label\"].value_counts())"
   ]
  },
  {
   "cell_type": "code",
   "execution_count": 65,
   "id": "14bd43f7",
   "metadata": {},
   "outputs": [
    {
     "data": {
      "text/plain": [
       "count    19661.000000\n",
       "mean        29.939983\n",
       "std         16.889102\n",
       "min          4.000000\n",
       "1%           4.000000\n",
       "5%           4.000000\n",
       "10%          4.000000\n",
       "20%          7.000000\n",
       "30%         21.000000\n",
       "40%         27.000000\n",
       "50%         31.000000\n",
       "60%         37.000000\n",
       "70%         39.000000\n",
       "80%         49.000000\n",
       "90%         49.000000\n",
       "95%         53.000000\n",
       "99%         62.000000\n",
       "max        128.000000\n",
       "Name: cleaned_label_len, dtype: float64"
      ]
     },
     "execution_count": 65,
     "metadata": {},
     "output_type": "execute_result"
    }
   ],
   "source": [
    "train[\"cleaned_label_len\"] = train[\"cleaned_label\"].str.len()\n",
    "train[\"cleaned_label_len\"].describe(percentiles=percentiles)"
   ]
  },
  {
   "cell_type": "code",
   "execution_count": 66,
   "id": "5302bcab",
   "metadata": {},
   "outputs": [],
   "source": [
    "def cleaned_label_digits(row):\n",
    "    return snlp.count_digit(row[\"cleaned_label\"])"
   ]
  },
  {
   "cell_type": "code",
   "execution_count": 67,
   "id": "b55799af",
   "metadata": {},
   "outputs": [
    {
     "data": {
      "text/plain": [
       "count    19661.000000\n",
       "mean         0.086059\n",
       "std          0.408605\n",
       "min          0.000000\n",
       "1%           0.000000\n",
       "5%           0.000000\n",
       "10%          0.000000\n",
       "20%          0.000000\n",
       "30%          0.000000\n",
       "40%          0.000000\n",
       "50%          0.000000\n",
       "60%          0.000000\n",
       "70%          0.000000\n",
       "80%          0.000000\n",
       "90%          0.000000\n",
       "95%          1.000000\n",
       "99%          2.000000\n",
       "max          4.000000\n",
       "Name: cleaned_label_digits, dtype: float64"
      ]
     },
     "execution_count": 67,
     "metadata": {},
     "output_type": "execute_result"
    }
   ],
   "source": [
    "train[\"cleaned_label_digits\"] = train.apply(cleaned_label_digits, axis=1)\n",
    "train[\"cleaned_label_digits\"].describe(percentiles=percentiles)"
   ]
  },
  {
   "cell_type": "code",
   "execution_count": 71,
   "id": "38546d9b",
   "metadata": {},
   "outputs": [
    {
     "data": {
      "text/plain": [
       "count    19661.000000\n",
       "mean         0.002921\n",
       "std          0.013558\n",
       "min          0.000000\n",
       "1%           0.000000\n",
       "5%           0.000000\n",
       "10%          0.000000\n",
       "20%          0.000000\n",
       "30%          0.000000\n",
       "40%          0.000000\n",
       "50%          0.000000\n",
       "60%          0.000000\n",
       "70%          0.000000\n",
       "80%          0.000000\n",
       "90%          0.000000\n",
       "95%          0.033333\n",
       "99%          0.066667\n",
       "max          0.160000\n",
       "Name: cleaned_label_digits_frac, dtype: float64"
      ]
     },
     "execution_count": 71,
     "metadata": {},
     "output_type": "execute_result"
    }
   ],
   "source": [
    "train[\"cleaned_label_digits_frac\"] = train[\"cleaned_label_digits\"] / train[\"cleaned_label_len\"]\n",
    "train[\"cleaned_label_digits_frac\"].describe(percentiles=percentiles)"
   ]
  },
  {
   "cell_type": "code",
   "execution_count": 73,
   "id": "4bda36d7",
   "metadata": {},
   "outputs": [
    {
     "name": "stdout",
     "output_type": "stream",
     "text": [
      "CPU times: user 15.6 ms, sys: 0 ns, total: 15.6 ms\n",
      "Wall time: 15.8 ms\n"
     ]
    },
    {
     "data": {
      "text/plain": [
       "count    14316.000000\n",
       "mean         1.373358\n",
       "std          0.647486\n",
       "min          1.000000\n",
       "1%           1.000000\n",
       "5%           1.000000\n",
       "10%          1.000000\n",
       "20%          1.000000\n",
       "30%          1.000000\n",
       "40%          1.000000\n",
       "50%          1.000000\n",
       "60%          1.000000\n",
       "70%          2.000000\n",
       "80%          2.000000\n",
       "90%          2.000000\n",
       "95%          2.000000\n",
       "99%          3.000000\n",
       "max         22.000000\n",
       "Name: dataset_title, dtype: float64"
      ]
     },
     "execution_count": 73,
     "metadata": {},
     "output_type": "execute_result"
    }
   ],
   "source": [
    "%%time\n",
    "s = train.groupby(\"Id\")[\"dataset_title\"].count()\n",
    "s.describe(percentiles=percentiles)"
   ]
  },
  {
   "cell_type": "code",
   "execution_count": 68,
   "id": "0b031139",
   "metadata": {},
   "outputs": [
    {
     "name": "stdout",
     "output_type": "stream",
     "text": [
      "CPU times: user 0 ns, sys: 0 ns, total: 0 ns\n",
      "Wall time: 5.83 ms\n"
     ]
    }
   ],
   "source": [
    "%%time\n",
    "df = train[train[\"cleaned_label\"].str.contains(\"|\", regex=False)]\n",
    "assert len(df) == 0"
   ]
  },
  {
   "cell_type": "code",
   "execution_count": 69,
   "id": "8fbcec08",
   "metadata": {},
   "outputs": [],
   "source": [
    "def jaccard_score(row):\n",
    "    return mylib.jaccard(row[\"dataset_title\"], row[\"cleaned_label\"])"
   ]
  },
  {
   "cell_type": "code",
   "execution_count": 70,
   "id": "fe218b75",
   "metadata": {},
   "outputs": [
    {
     "data": {
      "text/plain": [
       "1    0.560297\n",
       "0    0.439703\n",
       "Name: matched, dtype: float64"
      ]
     },
     "execution_count": 70,
     "metadata": {},
     "output_type": "execute_result"
    }
   ],
   "source": [
    "train[\"jaccard\"] = train.apply(jaccard_score, axis=1)\n",
    "train[\"matched\"] = np.where(train[\"jaccard\"] >= 0.5, 1, 0)\n",
    "train[\"matched\"].value_counts(normalize=True)"
   ]
  },
  {
   "cell_type": "code",
   "execution_count": null,
   "id": "bebea65e",
   "metadata": {},
   "outputs": [],
   "source": []
  }
 ],
 "metadata": {
  "kernelspec": {
   "display_name": "Python 3",
   "language": "python",
   "name": "python3"
  },
  "language_info": {
   "codemirror_mode": {
    "name": "ipython",
    "version": 3
   },
   "file_extension": ".py",
   "mimetype": "text/x-python",
   "name": "python",
   "nbconvert_exporter": "python",
   "pygments_lexer": "ipython3",
   "version": "3.7.5"
  }
 },
 "nbformat": 4,
 "nbformat_minor": 5
}
