{
 "cells": [
  {
   "cell_type": "code",
   "execution_count": 2,
   "id": "ce7b9533",
   "metadata": {},
   "outputs": [],
   "source": [
    "import json\n",
    "import numpy as np\n",
    "import pandas as pd"
   ]
  },
  {
   "cell_type": "code",
   "execution_count": 3,
   "id": "48458dbf",
   "metadata": {},
   "outputs": [],
   "source": [
    "pd.set_option(\"use_inf_as_na\", True)\n",
    "pd.set_option(\"max_info_columns\", 9999)\n",
    "pd.set_option(\"display.max_columns\", 9999)\n",
    "pd.set_option(\"display.max_rows\", 9999)\n",
    "pd.set_option('max_colwidth', 9999)"
   ]
  },
  {
   "cell_type": "code",
   "execution_count": 4,
   "id": "493f831e",
   "metadata": {},
   "outputs": [
    {
     "name": "stdout",
     "output_type": "stream",
     "text": [
      "<class 'pandas.core.frame.DataFrame'>\n",
      "RangeIndex: 19661 entries, 0 to 19660\n",
      "Data columns (total 5 columns):\n",
      " #   Column         Non-Null Count  Dtype \n",
      "---  ------         --------------  ----- \n",
      " 0   Id             19661 non-null  object\n",
      " 1   pub_title      19661 non-null  object\n",
      " 2   dataset_title  19661 non-null  object\n",
      " 3   dataset_label  19661 non-null  object\n",
      " 4   cleaned_label  19661 non-null  object\n",
      "dtypes: object(5)\n",
      "memory usage: 768.1+ KB\n"
     ]
    }
   ],
   "source": [
    "train = pd.read_csv(\"input/train.csv\", engine=\"c\", low_memory=False)\n",
    "train.sort_values(\"dataset_title\", inplace=True, ignore_index=True)\n",
    "train.info()"
   ]
  },
  {
   "cell_type": "code",
   "execution_count": 5,
   "id": "b56fe3df",
   "metadata": {},
   "outputs": [
    {
     "data": {
      "text/html": [
       "<div>\n",
       "<style scoped>\n",
       "    .dataframe tbody tr th:only-of-type {\n",
       "        vertical-align: middle;\n",
       "    }\n",
       "\n",
       "    .dataframe tbody tr th {\n",
       "        vertical-align: top;\n",
       "    }\n",
       "\n",
       "    .dataframe thead th {\n",
       "        text-align: right;\n",
       "    }\n",
       "</style>\n",
       "<table border=\"1\" class=\"dataframe\">\n",
       "  <thead>\n",
       "    <tr style=\"text-align: right;\">\n",
       "      <th></th>\n",
       "      <th>pub_title</th>\n",
       "      <th>dataset_title</th>\n",
       "      <th>dataset_label</th>\n",
       "    </tr>\n",
       "  </thead>\n",
       "  <tbody>\n",
       "    <tr>\n",
       "      <th>0</th>\n",
       "      <td>Depth varying rupture properties during the 2015 Mw 7.8 Gorkha (Nepal) earthquake</td>\n",
       "      <td>Advanced National Seismic System (ANSS) Comprehensive Catalog (ComCat)</td>\n",
       "      <td>ANSS Comprehensive Catalog</td>\n",
       "    </tr>\n",
       "    <tr>\n",
       "      <th>1</th>\n",
       "      <td>Shaking from Injection-Induced Earthquakes in the Central and Eastern United States</td>\n",
       "      <td>Advanced National Seismic System (ANSS) Comprehensive Catalog (ComCat)</td>\n",
       "      <td>Advanced National Seismic System Comprehensive Catalog</td>\n",
       "    </tr>\n",
       "    <tr>\n",
       "      <th>2</th>\n",
       "      <td>Resolving Teleseismic Earthquake Catalog and InSAR Data Discrepancies in Absolute Space to Explore Rupture Complexity Along the Ecuadorian Megathrust Fault</td>\n",
       "      <td>Advanced National Seismic System (ANSS) Comprehensive Catalog (ComCat)</td>\n",
       "      <td>ANSS Comprehensive Catalog</td>\n",
       "    </tr>\n",
       "    <tr>\n",
       "      <th>3</th>\n",
       "      <td>Resolving Teleseismic Earthquake Catalog and InSAR Data Discrepancies in Absolute Space to Explore Rupture Complexity Along the Ecuadorian Megathrust Fault</td>\n",
       "      <td>Advanced National Seismic System (ANSS) Comprehensive Catalog (ComCat)</td>\n",
       "      <td>Advanced National Seismic System (ANSS) Comprehensive Catalog (ComCat)</td>\n",
       "    </tr>\n",
       "    <tr>\n",
       "      <th>4</th>\n",
       "      <td>Landslides and Megathrust Splay Faults Captured by the Late Holocene Sediment Record of Eastern Prince William Sound, Alaska</td>\n",
       "      <td>Advanced National Seismic System (ANSS) Comprehensive Catalog (ComCat)</td>\n",
       "      <td>ANSS Comprehensive Catalog</td>\n",
       "    </tr>\n",
       "  </tbody>\n",
       "</table>\n",
       "</div>"
      ],
      "text/plain": [
       "                                                                                                                                                     pub_title  \\\n",
       "0                                                                            Depth varying rupture properties during the 2015 Mw 7.8 Gorkha (Nepal) earthquake   \n",
       "1                                                                          Shaking from Injection-Induced Earthquakes in the Central and Eastern United States   \n",
       "2  Resolving Teleseismic Earthquake Catalog and InSAR Data Discrepancies in Absolute Space to Explore Rupture Complexity Along the Ecuadorian Megathrust Fault   \n",
       "3  Resolving Teleseismic Earthquake Catalog and InSAR Data Discrepancies in Absolute Space to Explore Rupture Complexity Along the Ecuadorian Megathrust Fault   \n",
       "4                                 Landslides and Megathrust Splay Faults Captured by the Late Holocene Sediment Record of Eastern Prince William Sound, Alaska   \n",
       "\n",
       "                                                            dataset_title  \\\n",
       "0  Advanced National Seismic System (ANSS) Comprehensive Catalog (ComCat)   \n",
       "1  Advanced National Seismic System (ANSS) Comprehensive Catalog (ComCat)   \n",
       "2  Advanced National Seismic System (ANSS) Comprehensive Catalog (ComCat)   \n",
       "3  Advanced National Seismic System (ANSS) Comprehensive Catalog (ComCat)   \n",
       "4  Advanced National Seismic System (ANSS) Comprehensive Catalog (ComCat)   \n",
       "\n",
       "                                                            dataset_label  \n",
       "0                                              ANSS Comprehensive Catalog  \n",
       "1                  Advanced National Seismic System Comprehensive Catalog  \n",
       "2                                              ANSS Comprehensive Catalog  \n",
       "3  Advanced National Seismic System (ANSS) Comprehensive Catalog (ComCat)  \n",
       "4                                              ANSS Comprehensive Catalog  "
      ]
     },
     "execution_count": 5,
     "metadata": {},
     "output_type": "execute_result"
    }
   ],
   "source": [
    "cols = [\"pub_title\", \"dataset_title\", \"dataset_label\"]\n",
    "train[cols].head()"
   ]
  },
  {
   "cell_type": "code",
   "execution_count": 6,
   "id": "1da4dc6f",
   "metadata": {},
   "outputs": [
    {
     "data": {
      "text/plain": [
       "Alzheimer's Disease Neuroimaging Initiative (ADNI)                                             6144\n",
       "Baltimore Longitudinal Study of Aging (BLSA)                                                   1589\n",
       "Trends in International Mathematics and Science Study                                          1163\n",
       "Early Childhood Longitudinal Study                                                             1011\n",
       "SARS-CoV-2 genome sequence                                                                      860\n",
       "Census of Agriculture                                                                           743\n",
       "Education Longitudinal Study                                                                    676\n",
       "Agricultural Resource Management Survey                                                         660\n",
       "North American Breeding Bird Survey (BBS)                                                       585\n",
       "National Education Longitudinal Study                                                           550\n",
       "Survey of Earned Doctorates                                                                     509\n",
       "Rural-Urban Continuum Codes                                                                     490\n",
       "Beginning Postsecondary Student                                                                 461\n",
       "NOAA Tide Gauge                                                                                 441\n",
       "International Best Track Archive for Climate Stewardship                                        386\n",
       "Common Core of Data                                                                             368\n",
       "Coastal Change Analysis Program                                                                 326\n",
       "World Ocean Database                                                                            326\n",
       "Sea, Lake, and Overland Surges from Hurricanes                                                  312\n",
       "Survey of Doctorate Recipients                                                                  309\n",
       "Baccalaureate and Beyond                                                                        306\n",
       "Optimum Interpolation Sea Surface Temperature                                                   288\n",
       "Our World in Data COVID-19 dataset                                                              223\n",
       "COVID-19 Open Research Dataset (CORD-19)                                                        185\n",
       "National Assessment of Education Progress                                                       132\n",
       "Survey of Industrial Research and Development                                                   104\n",
       "High School Longitudinal Study                                                                   92\n",
       "Survey of Graduate Students and Postdoctorates in Science and Engineering                        85\n",
       "Program for the International Assessment of Adult Competencies                                   65\n",
       "School Survey on Crime and Safety                                                                44\n",
       "COVID-19 Image Data Collection                                                                   38\n",
       "Higher Education Research and Development Survey                                                 34\n",
       "National Teacher and Principal Survey                                                            30\n",
       "Advanced National Seismic System (ANSS) Comprehensive Catalog (ComCat)                           29\n",
       "COVID-19 Deaths data                                                                             28\n",
       "The National Institute on Aging Genetics of Alzheimer's Disease Data Storage Site (NIAGADS)      22\n",
       "Survey of Science and Engineering Research Facilities                                            13\n",
       "Characterizing Health Associated Risks, and Your Baseline Disease In SARS-COV-2 (CHARYBDIS)      10\n",
       "Complexity Science Hub COVID-19 Control Strategies List (CCCSL)                                   6\n",
       "CAS COVID-19 antiviral candidate compounds dataset                                                4\n",
       "RSNA International COVID-19 Open Radiology Database (RICORD)                                      4\n",
       "FFRDC Research and Development Survey                                                             3\n",
       "Aging Integrated Database (AGID)                                                                  3\n",
       "Survey of State Government Research and Development                                               2\n",
       "COVID-19 Precision Medicine Analytics Platform Registry (JH-CROWN)                                2\n",
       "Name: dataset_title, dtype: int64"
      ]
     },
     "execution_count": 6,
     "metadata": {},
     "output_type": "execute_result"
    }
   ],
   "source": [
    "train[\"dataset_title\"].value_counts()"
   ]
  },
  {
   "cell_type": "code",
   "execution_count": null,
   "id": "0b031139",
   "metadata": {},
   "outputs": [],
   "source": []
  }
 ],
 "metadata": {
  "kernelspec": {
   "display_name": "Python 3",
   "language": "python",
   "name": "python3"
  },
  "language_info": {
   "codemirror_mode": {
    "name": "ipython",
    "version": 3
   },
   "file_extension": ".py",
   "mimetype": "text/x-python",
   "name": "python",
   "nbconvert_exporter": "python",
   "pygments_lexer": "ipython3",
   "version": "3.7.5"
  }
 },
 "nbformat": 4,
 "nbformat_minor": 5
}
